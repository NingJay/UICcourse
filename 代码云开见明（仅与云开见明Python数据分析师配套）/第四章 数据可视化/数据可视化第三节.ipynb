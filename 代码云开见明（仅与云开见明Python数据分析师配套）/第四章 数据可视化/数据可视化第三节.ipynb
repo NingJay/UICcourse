{
 "cells": [
  {
   "cell_type": "markdown",
   "metadata": {},
   "source": [
    "# 数据可视化实战"
   ]
  },
  {
   "cell_type": "markdown",
   "metadata": {},
   "source": [
    "## 高级绘图:介绍seaborn绘图,绘制常用图形，例如直方图，关系图和分布图等\n"
   ]
  },
  {
   "cell_type": "markdown",
   "metadata": {},
   "source": [
    "### 1. seaborn基础\n"
   ]
  },
  {
   "cell_type": "markdown",
   "metadata": {},
   "source": [
    "* seaborn基本语法"
   ]
  },
  {
   "cell_type": "code",
   "execution_count": null,
   "metadata": {},
   "outputs": [],
   "source": [
    "# 导入相关库\n",
    "import pandas as pd\n",
    "import numpy as np\n",
    "import os\n",
    "import seaborn as sns\n",
    "import matplotlib.pyplot as plt"
   ]
  },
  {
   "cell_type": "code",
   "execution_count": null,
   "metadata": {},
   "outputs": [],
   "source": [
    "os.chdir('E:\\云开明培训机构\\云开见明培训课件\\data summary\\第四章')"
   ]
  },
  {
   "cell_type": "code",
   "execution_count": null,
   "metadata": {},
   "outputs": [],
   "source": [
    "GDP = pd.read_excel('Province GDP 2017.xlsx')"
   ]
  },
  {
   "cell_type": "code",
   "execution_count": null,
   "metadata": {},
   "outputs": [],
   "source": [
    "plt.style.use('seaborn')\n",
    "# 支持中文显示\n",
    "plt.rcParams['font.sans-serif'] = ['SimHei']\n",
    "plt.rcParams['axes.unicode_minus'] = False\n",
    "plt.bar(x=GDP.index.values,height =GDP.GDP,tick_label=GDP.Province,\n",
    "        color = 'steelblue')\n",
    "plt.ylabel('GDP(万亿',fontsize=12)\n",
    "plt.title('2017年6个省份的GDP',fontsize =15)\n",
    "plt.show()"
   ]
  },
  {
   "cell_type": "code",
   "execution_count": null,
   "metadata": {},
   "outputs": [],
   "source": [
    "# 调整seaborn的设\n",
    "# style:主题样式 (darkgrid whitegrid dark white ticks)\n",
    "# context:可以理解为设置输出图片元素的大小尺寸paper，notebook, talk, and poster (元素缩放)\n",
    "# palette :调色板 deep, muted, pastel, bright, dark, colorblind\n",
    "# font: 字体 一般用默认，不调整\n",
    "# font_scale 控制坐标轴刻度大小"
   ]
  },
  {
   "cell_type": "code",
   "execution_count": null,
   "metadata": {},
   "outputs": [],
   "source": [
    "# 调用seaborn第二种方法\n",
    "import seaborn as sns\n",
    "sns.set(style='darkgrid',context='notebook',font_scale=1.2) # 设置背景\n",
    "# 支持中文显示\n",
    "plt.rcParams['font.sans-serif'] = ['SimHei']\n",
    "plt.rcParams['axes.unicode_minus'] = False\n",
    "plt.bar(x=GDP.index.values,height =GDP.GDP,tick_label=GDP.Province,\n",
    "        color = 'steelblue',align='center')\n",
    "plt.ylabel('GDP(万亿',fontsize=20)\n",
    "plt.title('2017年6个省份的GDP',fontsize = 25)\n",
    "plt.show()"
   ]
  },
  {
   "cell_type": "code",
   "execution_count": null,
   "metadata": {},
   "outputs": [],
   "source": [
    "# 调用seaborn第三种方法\n",
    "sns.barplot(x = 'Province',y = 'GDP',data=GDP,color='steelblue',\n",
    "            orient ='vertical')\n",
    "plt.ylabel('GDP(万亿',fontsize=20)\n",
    "plt.xlabel('')\n",
    "plt.title('2017年6个省份的GDP',fontsize = 25)\n",
    "plt.ylim(0,10)\n",
    "# for x,y in enumerate(GDP.GDP):\n",
    "#     plt.text(x,y+0.1,'%s万亿'  %round(y,1),ha='center',fontsize =18)\n",
    "plt.show()\n"
   ]
  },
  {
   "cell_type": "code",
   "execution_count": null,
   "metadata": {},
   "outputs": [],
   "source": []
  },
  {
   "cell_type": "markdown",
   "metadata": {},
   "source": [
    "## 2. 绘制常用统计图形\n"
   ]
  },
  {
   "cell_type": "markdown",
   "metadata": {},
   "source": [
    "* 柱状图"
   ]
  },
  {
   "cell_type": "code",
   "execution_count": null,
   "metadata": {},
   "outputs": [],
   "source": [
    "# # #条形图\n",
    "plt.rcParams['font.sans-serif'] = ['SimHei']\n",
    "plt.rcParams['axes.unicode_minus'] = False\n",
    "sns.barplot(y = 'Province',x = 'GDP',data=GDP,color='steelblue',\n",
    "            orient ='horizontal')\n",
    "plt.xlabel('GDP(万亿)',fontsize=20)\n",
    "plt.ylabel('')\n",
    "plt.title('2017年6个省份的GDP',fontsize = 25)\n",
    "plt.xlim(0,10)\n",
    "plt.show()"
   ]
  },
  {
   "cell_type": "markdown",
   "metadata": {},
   "source": [
    "* 按照分类变量统计"
   ]
  },
  {
   "cell_type": "code",
   "execution_count": null,
   "metadata": {},
   "outputs": [],
   "source": [
    "# # #按照分类变量统计\n",
    "Industry_GDP = pd.read_excel('Industry_GDP.xlsx')"
   ]
  },
  {
   "cell_type": "code",
   "execution_count": null,
   "metadata": {},
   "outputs": [],
   "source": [
    "quarter  =['第一季度','第二季度','第三季度','第四季度']"
   ]
  },
  {
   "cell_type": "code",
   "execution_count": null,
   "metadata": {},
   "outputs": [],
   "source": [
    "sns.barplot(x = 'Quarter',y = 'GDP',hue='Industry_Type',data=Industry_GDP,color='blue',palette=\"husl\",\n",
    "            orient ='vertical')\n",
    "plt.ylabel('GDP(万亿)',fontsize=20)\n",
    "plt.xlabel('')\n",
    "plt.xticks(np.arange(4),quarter,fontsize=12)\n",
    "plt.title('2017年四个季度GDP情况',fontsize = 25)\n",
    "plt.legend(bbox_to_anchor=(1.01,0.85),ncol=1, frameon=False, #是否要边框\n",
    "       fontsize=12)\n",
    "plt.show()"
   ]
  },
  {
   "cell_type": "markdown",
   "metadata": {},
   "source": [
    "*  散点图"
   ]
  },
  {
   "cell_type": "code",
   "execution_count": null,
   "metadata": {},
   "outputs": [],
   "source": [
    "iris = pd.read_csv('iris.csv')\n",
    "sns.scatterplot(x = 'Petal_Width',y = 'Petal_Length',data = iris,color=\"red\", marker='+', s=20)\n",
    "plt.xlabel('花瓣宽度')\n",
    "plt.ylabel('花瓣长度')\n",
    "plt.title('鸢尾花花瓣宽度和长度关系图')\n",
    "plt.show()"
   ]
  },
  {
   "cell_type": "code",
   "execution_count": null,
   "metadata": {},
   "outputs": [],
   "source": [
    "plt.figure(figsize=(12,9))\n",
    "sns.scatterplot(x = 'Petal_Width',y = 'Petal_Length',hue='Species',data =iris,style ='Species',s=100,\n",
    "                palette='muted')\n",
    "plt.xlabel('花瓣宽度')\n",
    "plt.ylabel('花瓣长度')\n",
    "plt.title('不同种类鸢尾花花瓣宽度和长度关系图')\n",
    "plt.show()"
   ]
  },
  {
   "cell_type": "code",
   "execution_count": null,
   "metadata": {},
   "outputs": [],
   "source": []
  },
  {
   "cell_type": "markdown",
   "metadata": {},
   "source": [
    "* 箱线图"
   ]
  },
  {
   "cell_type": "code",
   "execution_count": null,
   "metadata": {},
   "outputs": [],
   "source": [
    "# 绘制单个变量箱线图\n",
    "Titanic = pd.read_csv('titanic_train.csv')"
   ]
  },
  {
   "cell_type": "code",
   "execution_count": null,
   "metadata": {},
   "outputs": [],
   "source": [
    "Titanic['Age'].dropna(inplace=True)\n",
    "sns.boxplot( y = 'Age', data = Titanic,\n",
    "             showmeans=True,color = 'steelblue',width =0.3, linewidth=2,\n",
    "            flierprops = {'marker':'o','markerfacecolor':'red', 'markersize':3},\n",
    "            meanprops = {'marker':'D','markerfacecolor':'indianred', 'markersize':4},\n",
    "            medianprops = {'linestyle':'--','color':'orange'})\n",
    "# 更改x轴和y轴标签\n",
    "plt.xlabel('')\n",
    "plt.ylabel('年龄')\n",
    "# 添加标题\n",
    "plt.title('年龄箱线分布图')\n",
    "# 显示图形\n",
    "plt.show()"
   ]
  },
  {
   "cell_type": "markdown",
   "metadata": {},
   "source": [
    "* 基于分组变量绘制箱线图"
   ]
  },
  {
   "cell_type": "code",
   "execution_count": null,
   "metadata": {},
   "outputs": [],
   "source": [
    "sec_building = pd.read_excel('sec_buildings.xlsx')\n",
    "group_region = sec_building.groupby('region')\n",
    "avg_price = group_region.aggregate({'price_unit':np.mean}).sort_values('price_unit', ascending = False)\n",
    "sns.boxplot(x = 'region', y = 'price_unit', data = sec_building ,\n",
    "            order = avg_price.index, showmeans=True,color = 'steelblue',\n",
    "            flierprops = {'marker':'o','markerfacecolor':'red', 'markersize':3},\n",
    "            meanprops = {'marker':'D','markerfacecolor':'indianred', 'markersize':4},\n",
    "            medianprops = {'linestyle':'--','color':'orange'})\n",
    "# 更改x轴和y轴标签\n",
    "plt.xlabel('')\n",
    "plt.xticks(fontsize=12,rotation =45)\n",
    "plt.ylabel('单价（元）')\n",
    "# 添加标题\n",
    "plt.title('不同行政区域的二手房单价对比')\n",
    "# 显示图形\n",
    "plt.show()"
   ]
  },
  {
   "cell_type": "markdown",
   "metadata": {},
   "source": [
    "* 直方图"
   ]
  },
  {
   "cell_type": "code",
   "execution_count": null,
   "metadata": {},
   "outputs": [],
   "source": [
    "# # # # # # 绘制直方图\n",
    "# seaborn模块绘制分组的直方图和核密度图\n",
    "# 取出男性年龄\n",
    "Age_Male = Titanic.Age[Titanic.Sex == 'male']\n",
    "# 取出女性年龄\n",
    "Age_Female = Titanic.Age[Titanic.Sex == 'female']"
   ]
  },
  {
   "cell_type": "code",
   "execution_count": null,
   "metadata": {},
   "outputs": [],
   "source": [
    "\n",
    "\n",
    "# 绘制男女乘客年龄的直方图\n",
    "from scipy.stats import norm\n",
    "import seaborn as sns\n",
    "sns.set(style='darkgrid',context='notebook',font_scale=1.5) # 设置背景\n",
    "# 支持中文显示\n",
    "plt.rcParams['font.sans-serif'] = ['SimHei']\n",
    "plt.rcParams['axes.unicode_minus'] = False\n",
    "sns.distplot(Age_Male, bins = 30, kde = False, hist_kws = {'color':'steelblue'}, norm_hist=True, label = '男性')\n",
    "sns.distplot(Age_Male, hist = False, kde=False,fit = norm,fit_kws = {'color':'yellow', 'linestyle':'-'},\n",
    "             norm_hist = True, label = '男性年龄正态分布图')\n",
    "# 绘制女性年龄的直方图\n",
    "sns.distplot(Age_Female, bins = 30, kde = False, hist_kws = {'color':'purple'}, label = '女性',norm_hist=True)\n",
    "sns.distplot(Age_Female, hist = False, kde=False,fit=norm,fit_kws = {'color':'blue', 'linestyle':'--'},\n",
    "             norm_hist = True, label = '女性年龄正态分布图')\n",
    "plt.title('男女乘客的年龄直方图')\n",
    "# 显示图例\n",
    "plt.legend()\n",
    "# 显示图形\n",
    "plt.show()"
   ]
  },
  {
   "attachments": {},
   "cell_type": "markdown",
   "metadata": {},
   "source": [
    "sns.distplot( hist = False,norm_hist=True, norm_hist,fit_kws,)\n",
    "* hist 代表是否绘制成直方图形式(有柱状形式)\n",
    "* norm_hist 是否绘制成概率密度形式(频率形式)\n",
    "* 控制直方图的参数，以字典形式传递\n",
    "* fit_kws: 传递概率密度曲线相关参数\n",
    "* fit: 是否绘制概率密度曲线图"
   ]
  },
  {
   "cell_type": "markdown",
   "metadata": {},
   "source": [
    "3. 其他参数和图形"
   ]
  },
  {
   "cell_type": "markdown",
   "metadata": {},
   "source": [
    "* 折线图"
   ]
  },
  {
   "cell_type": "code",
   "execution_count": null,
   "metadata": {},
   "outputs": [],
   "source": [
    "income_data = pd.read_csv('income_data.csv')"
   ]
  },
  {
   "cell_type": "code",
   "execution_count": null,
   "metadata": {},
   "outputs": [],
   "source": [
    "income_data"
   ]
  },
  {
   "cell_type": "code",
   "execution_count": null,
   "metadata": {},
   "outputs": [],
   "source": [
    "# 增加一列\n",
    "income_data['year'] = range(1994,2014,1)"
   ]
  },
  {
   "cell_type": "code",
   "execution_count": null,
   "metadata": {
    "scrolled": true
   },
   "outputs": [],
   "source": [
    "sns.set(style='ticks',context='notebook') # 设置背景\n",
    "# 支持中文显示\n",
    "plt.rcParams['font.sans-serif'] = ['SimHei']\n",
    "plt.rcParams['axes.unicode_minus'] = False\n",
    "sns.lineplot(x=\"year\", y=\"y\",data =income_data,lw=2,color=\"red\")\n",
    "# 添加y轴标签\n",
    "plt.ylabel('财政收入')\n",
    "plt.xlabel('年份')\n",
    "plt.xticks(range(1994,2014,1),range(1994,2014,1),rotation=45,fontsize=12)\n",
    "# 添加图形标题\n",
    "plt.title('财政收入变化趋势')\n",
    "# 显示图形\n",
    "plt.show()"
   ]
  },
  {
   "cell_type": "code",
   "execution_count": null,
   "metadata": {},
   "outputs": [],
   "source": [
    "# 支持中文显示\n",
    "plt.rcParams['font.sans-serif'] = ['SimHei']\n",
    "plt.rcParams['axes.unicode_minus'] = False\n",
    "sns.lineplot(x=\"x3\", y=\"y\",data = income_data,lw=1.5,color=\"blue\")\n",
    "#  添加y轴标签\n",
    "plt.ylabel('财政收入')\n",
    "plt.xlabel('社会零售商品总额')\n",
    "#  添加图形标题\n",
    "plt.title('财政收入和社会零售商品总额变化趋势')\n",
    "#  显示图形\n",
    "plt.show()"
   ]
  },
  {
   "cell_type": "markdown",
   "metadata": {},
   "source": [
    "* 回归图"
   ]
  },
  {
   "cell_type": "code",
   "execution_count": null,
   "metadata": {},
   "outputs": [],
   "source": [
    "sns.lmplot(x = 'x3',y = 'y',data =income_data,legend_out=False,\\\n",
    "           markers='o',fit_reg= True,aspect=1.3,height=8,\\\n",
    "            scatter_kws={'s':20,'facecolor':'red'})\n",
    "plt.xlabel('社会零售商品总额')\n",
    "plt.ylabel('财政收入')\n",
    "plt.title('财政收入和社会零售商品总额变化趋势')\n",
    "plt.show()"
   ]
  },
  {
   "cell_type": "markdown",
   "metadata": {},
   "source": [
    "* countplot()\n",
    "* 主要用于绘制数据中，每个类别出现的数量\n",
    "* 只能计数"
   ]
  },
  {
   "cell_type": "code",
   "execution_count": null,
   "metadata": {},
   "outputs": [],
   "source": [
    "Prod_Trade = pd.read_excel('Prod_Trade.xlsx')"
   ]
  },
  {
   "cell_type": "code",
   "execution_count": null,
   "metadata": {},
   "outputs": [],
   "source": [
    "# 绘制不同区域订单数量\n",
    "sns.countplot(x ='Region',data = Prod_Trade)\n",
    "plt.xlabel('不同区域')\n",
    "plt.ylabel('订单数量')\n",
    "plt.title('不同区域下的订单数量')\n",
    "plt.show()"
   ]
  },
  {
   "cell_type": "code",
   "execution_count": null,
   "metadata": {},
   "outputs": [],
   "source": [
    "# 绘制不同区域订单数量\n",
    "sns.countplot(x ='Region',data = Prod_Trade,hue ='Transport')\n",
    "plt.xlabel('不同区域')\n",
    "plt.ylabel('订单数量')\n",
    "plt.title('不同区域下的订单数量')\n",
    "plt.show()"
   ]
  },
  {
   "cell_type": "markdown",
   "metadata": {},
   "source": [
    "* 绘图风格"
   ]
  },
  {
   "cell_type": "markdown",
   "metadata": {},
   "source": [
    "sns.set(style,context,palette)\n",
    "* style:主题样式 (darkgrid(灰白背景+网格) whitegrid(白白背景+灰网格) dark white ticks9带坐标轴刻度)\n",
    "* context:可以理解为设置输出图片元素的大小尺寸paper，notebook, talk, and poster (元素缩放)\n",
    "* palette :调色板 deep, muted, pastel, bright, dark, colorblind\n",
    "* palette 一般可以用默认值"
   ]
  },
  {
   "cell_type": "code",
   "execution_count": null,
   "metadata": {},
   "outputs": [],
   "source": [
    "# 以订单数据为例\n",
    "sns.set(style='darkgrid',context='notebook',font_scale=1.2,palette='colorblind') \n",
    "# 支持中文显示\n",
    "plt.rcParams['font.sans-serif'] = ['SimHei']\n",
    "plt.rcParams['axes.unicode_minus'] = False\n",
    "sns.countplot(x ='Region',data = Prod_Trade,hue ='Transport')\n",
    "plt.xlabel('不同区域')\n",
    "plt.ylabel('订单数量')\n",
    "plt.title('不同区域下的订单数量')\n",
    "plt.show()"
   ]
  },
  {
   "cell_type": "code",
   "execution_count": null,
   "metadata": {},
   "outputs": [],
   "source": []
  }
 ],
 "metadata": {
  "kernelspec": {
   "display_name": "Python 3",
   "language": "python",
   "name": "python3"
  },
  "language_info": {
   "codemirror_mode": {
    "name": "ipython",
    "version": 3
   },
   "file_extension": ".py",
   "mimetype": "text/x-python",
   "name": "python",
   "nbconvert_exporter": "python",
   "pygments_lexer": "ipython3",
   "version": "3.7.1"
  }
 },
 "nbformat": 4,
 "nbformat_minor": 2
}
