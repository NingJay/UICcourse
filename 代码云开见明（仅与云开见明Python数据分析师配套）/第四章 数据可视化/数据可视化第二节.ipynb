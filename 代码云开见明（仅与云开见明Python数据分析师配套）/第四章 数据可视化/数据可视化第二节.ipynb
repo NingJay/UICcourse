{
 "cells": [
  {
   "cell_type": "markdown",
   "metadata": {},
   "source": [
    "# 数据可视化实战"
   ]
  },
  {
   "cell_type": "markdown",
   "metadata": {},
   "source": [
    "## Matplotlib绘图:使用Matplotlib绘制统计图形，如直方图、散点图和折线图等 \n"
   ]
  },
  {
   "cell_type": "markdown",
   "metadata": {},
   "source": [
    "### 1 统计图形实战"
   ]
  },
  {
   "cell_type": "markdown",
   "metadata": {},
   "source": [
    "* 简单柱状图"
   ]
  },
  {
   "cell_type": "code",
   "execution_count": 1,
   "metadata": {},
   "outputs": [],
   "source": [
    "# 导入相关库\n",
    "import pandas as pd\n",
    "import numpy as np\n",
    "import matplotlib.pyplot as plt\n",
    "import os\n",
    "# 支持中文显示\n",
    "plt.rcParams['font.sans-serif'] = ['SimHei']\n",
    "plt.rcParams['axes.unicode_minus'] = False"
   ]
  },
  {
   "cell_type": "code",
   "execution_count": 2,
   "metadata": {},
   "outputs": [],
   "source": [
    "os.chdir('E:\\云开明培训机构\\云开见明培训课件\\data summary\\第四章')"
   ]
  },
  {
   "cell_type": "code",
   "execution_count": 3,
   "metadata": {},
   "outputs": [],
   "source": [
    "GDP = pd.read_excel('Province GDP 2017.xlsx')"
   ]
  },
  {
   "cell_type": "code",
   "execution_count": 4,
   "metadata": {},
   "outputs": [
    {
     "data": {
      "text/html": [
       "<div>\n",
       "<style scoped>\n",
       "    .dataframe tbody tr th:only-of-type {\n",
       "        vertical-align: middle;\n",
       "    }\n",
       "\n",
       "    .dataframe tbody tr th {\n",
       "        vertical-align: top;\n",
       "    }\n",
       "\n",
       "    .dataframe thead th {\n",
       "        text-align: right;\n",
       "    }\n",
       "</style>\n",
       "<table border=\"1\" class=\"dataframe\">\n",
       "  <thead>\n",
       "    <tr style=\"text-align: right;\">\n",
       "      <th></th>\n",
       "      <th>Province</th>\n",
       "      <th>GDP</th>\n",
       "    </tr>\n",
       "  </thead>\n",
       "  <tbody>\n",
       "    <tr>\n",
       "      <th>0</th>\n",
       "      <td>北京</td>\n",
       "      <td>2.80</td>\n",
       "    </tr>\n",
       "    <tr>\n",
       "      <th>1</th>\n",
       "      <td>上海</td>\n",
       "      <td>3.01</td>\n",
       "    </tr>\n",
       "    <tr>\n",
       "      <th>2</th>\n",
       "      <td>广东</td>\n",
       "      <td>8.99</td>\n",
       "    </tr>\n",
       "    <tr>\n",
       "      <th>3</th>\n",
       "      <td>江苏</td>\n",
       "      <td>8.59</td>\n",
       "    </tr>\n",
       "    <tr>\n",
       "      <th>4</th>\n",
       "      <td>重庆</td>\n",
       "      <td>1.95</td>\n",
       "    </tr>\n",
       "    <tr>\n",
       "      <th>5</th>\n",
       "      <td>天津</td>\n",
       "      <td>1.86</td>\n",
       "    </tr>\n",
       "  </tbody>\n",
       "</table>\n",
       "</div>"
      ],
      "text/plain": [
       "  Province   GDP\n",
       "0       北京  2.80\n",
       "1       上海  3.01\n",
       "2       广东  8.99\n",
       "3       江苏  8.59\n",
       "4       重庆  1.95\n",
       "5       天津  1.86"
      ]
     },
     "execution_count": 4,
     "metadata": {},
     "output_type": "execute_result"
    }
   ],
   "source": [
    "GDP"
   ]
  },
  {
   "cell_type": "code",
   "execution_count": 5,
   "metadata": {},
   "outputs": [
    {
     "data": {
      "image/png": "[encoded data removed]",
      "text/plain": [
       "<Figure size 460.8x345.6 with 1 Axes>"
      ]
     },
     "metadata": {
      "needs_background": "light"
     },
     "output_type": "display_data"
    }
   ],
   "source": [
    "plt.figure(figsize=(6.4,4.8))\n",
    "plt.bar(x =GDP.index.values,height =GDP.GDP ,align='center',tick_label= GDP.Province,width = 0.5 )\n",
    "plt.xticks(GDP.index.values,GDP.Province,rotation = 45)\n",
    "plt.xticks(fontsize=15 ) #坐标轴标签的刻度大小\n",
    "plt.yticks(fontsize=15) #坐标轴标签的刻度大小\n",
    "plt.xlabel('省份',fontsize = 20)\n",
    "plt.ylabel('GDP产值(万亿)',fontsize = 20)\n",
    "plt.title('2017年6个省份的GDP',fontsize = 25)\n",
    "plt.show()"
   ]
  },
  {
   "cell_type": "code",
   "execution_count": 6,
   "metadata": {},
   "outputs": [
    {
     "ename": "NameError",
     "evalue": "name 'industry_GDP' is not defined",
     "output_type": "error",
     "traceback": [
      "\u001b[1;31m---------------------------------------------------------------------------\u001b[0m",
      "\u001b[1;31mNameError\u001b[0m                                 Traceback (most recent call last)",
      "\u001b[1;32m<ipython-input-6-abd5f14d1713>\u001b[0m in \u001b[0;36m<module>\u001b[1;34m\u001b[0m\n\u001b[1;32m----> 1\u001b[1;33m \u001b[0mindustry_GDP\u001b[0m\u001b[1;33m\u001b[0m\u001b[1;33m\u001b[0m\u001b[0m\n\u001b[0m",
      "\u001b[1;31mNameError\u001b[0m: name 'industry_GDP' is not defined"
     ]
    }
   ],
   "source": [
    "industry_GDP"
   ]
  },
  {
   "cell_type": "markdown",
   "metadata": {},
   "source": [
    "* 堆叠图"
   ]
  },
  {
   "cell_type": "code",
   "execution_count": null,
   "metadata": {},
   "outputs": [],
   "source": [
    "industry_GDP = pd.read_excel('Industry_GDP.xlsx')"
   ]
  },
  {
   "cell_type": "code",
   "execution_count": null,
   "metadata": {},
   "outputs": [],
   "source": [
    "temp = pd.pivot_table(data =industry_GDP, index = 'Quarter',columns ='Industry_Type',values='GDP',aggfunc=np.sum)"
   ]
  },
  {
   "cell_type": "code",
   "execution_count": null,
   "metadata": {},
   "outputs": [],
   "source": [
    "\n",
    "plt.bar(x= temp.index.values,height= temp['第一产业'],color='steelblue',label='第一产业',tick_label = temp.index.values)\n",
    "plt.bar(x= temp.index.values,height= temp['第二产业'],bottom =temp['第一产业'], color='green',label='第二产业',\n",
    "        tick_label = temp.index.values)\n",
    "plt.bar(x= temp.index.values,height = temp['第三产业'],bottom =temp['第一产业'] +  temp['第二产业'],color='red',label='第三产业',\n",
    "        tick_label = temp.index.values)\n",
    "plt.ylabel('生产总值(亿)')\n",
    "plt.title('2017各季度三产业总值')\n",
    "plt.legend(bbox_to_anchor=(1.01,0.8)) #图例显示在外面\n",
    "plt.show()"
   ]
  },
  {
   "cell_type": "markdown",
   "metadata": {},
   "source": [
    "* 堆叠图占比"
   ]
  },
  {
   "cell_type": "code",
   "execution_count": null,
   "metadata": {},
   "outputs": [],
   "source": [
    "temp = pd.crosstab(industry_GDP['Quarter'],industry_GDP['Industry_Type'],values=industry_GDP['GDP'],\\\n",
    "                   aggfunc=np.sum,normalize='index')"
   ]
  },
  {
   "cell_type": "code",
   "execution_count": null,
   "metadata": {},
   "outputs": [],
   "source": [
    "temp"
   ]
  },
  {
   "cell_type": "code",
   "execution_count": null,
   "metadata": {},
   "outputs": [],
   "source": [
    "\n",
    "plt.bar(x= temp.index.values,height= temp['第一产业'],color='steelblue',label='第一产业',tick_label = temp.index.values)\n",
    "plt.bar(x= temp.index.values,height= temp['第二产业'],bottom =temp['第一产业'], color='green',label='第二产业',\n",
    "        tick_label = temp.index.values)\n",
    "plt.bar(x= temp.index.values,height = temp['第三产业'],bottom =temp['第一产业'] +  temp['第二产业'],color='red',label='第三产业',\n",
    "        tick_label = temp.index.values)\n",
    "plt.ylabel('各产业占比')\n",
    "plt.title('2017各季度三产业总值占比')\n",
    "plt.legend(loc = 2,bbox_to_anchor=(1.01,0.8))\n",
    "plt.show()"
   ]
  },
  {
   "cell_type": "markdown",
   "metadata": {},
   "source": [
    "* 直方图"
   ]
  },
  {
   "cell_type": "code",
   "execution_count": null,
   "metadata": {},
   "outputs": [],
   "source": [
    "Titanic = pd.read_csv('titanic_train.csv')\n",
    "Titanic.dropna(subset=['Age'], inplace=True)"
   ]
  },
  {
   "cell_type": "code",
   "execution_count": null,
   "metadata": {},
   "outputs": [],
   "source": [
    "# 绘制直方图\n",
    "plt.hist(x = Titanic.Age, bins=20,color='c',edgecolor ='black',density=True)\n",
    "plt.xlabel('年龄',fontsize =15)\n",
    "plt.ylabel('频数',fontsize =15)\n",
    "plt.title('乘客年龄分布图')\n",
    "plt.show()"
   ]
  },
  {
   "cell_type": "code",
   "execution_count": null,
   "metadata": {},
   "outputs": [],
   "source": [
    "# 添加核密度图和正态分布图\n",
    "#normfun正态分布函数，mu: 均值，sigma:标准差，pdf:概率密度函数，np.exp():概率密度函数公式\n",
    "def normfun(x,mu, sigma):\n",
    "    pdf = np.exp(-((x - mu)**2) / (2* sigma**2)) / (sigma * np.sqrt(2*np.pi))\n",
    "    return pdf"
   ]
  },
  {
   "cell_type": "code",
   "execution_count": null,
   "metadata": {},
   "outputs": [],
   "source": [
    "mean_x = Titanic.Age.mean()\n",
    "std_x = Titanic.Age.std()"
   ]
  },
  {
   "cell_type": "code",
   "execution_count": null,
   "metadata": {},
   "outputs": [],
   "source": [
    "# x的范围为60-150，以1为单位,需x根据范围调试\n",
    "x = np.arange(min(Titanic.Age), max(Titanic.Age)+10,1)\n",
    "# x数对应的概率密度\n",
    "y = normfun(x, mean_x, std_x)"
   ]
  },
  {
   "cell_type": "code",
   "execution_count": null,
   "metadata": {},
   "outputs": [],
   "source": [
    "plt.hist(x=Titanic.Age, bins=20,color='c',edgecolor ='black',label ='分布图',density=True)\n",
    "plt.plot(x,y, color='g',linewidth = 3,label ='正态分布图') #正态分布图\n",
    "Titanic['Age'].plot(kind='kde',color='red',xlim=[0,90],label='核密度图')\n",
    "plt.xlabel('年龄',fontsize =15,labelpad=15)\n",
    "plt.ylabel('频数',fontsize =15,labelpad=15)\n",
    "plt.title('乘客年龄分布图')\n",
    "plt.legend()\n",
    "plt.show()"
   ]
  },
  {
   "cell_type": "markdown",
   "metadata": {},
   "source": [
    "* 箱线图"
   ]
  },
  {
   "cell_type": "markdown",
   "metadata": {},
   "source": [
    "\n",
    "plt.boxplot(x,notch,sym,vert,whis,positions,widths,patch_artist,meanline,showmeans,\n",
    "              boxprops,labels,flierprops)\n",
    "* x:  数据\n",
    "* width：宽度\n",
    "* patch_artist: 是否填充箱体颜色\n",
    "* meanline：是否显示均值\n",
    "* showmeans: 是否显示均值\n",
    "* meanprops;设置均值属性，如点的大小，颜色等\n",
    "* medianprops:设置中位数的属性，如线的类型，大小等\n",
    "* showfliers: 是否表示有异常值\n",
    "* boxprops：设置箱体的属性，边框色和填充色\n",
    "* cappops: 设置箱线顶端和末端线条的属性，如颜色，粗细等\n"
   ]
  },
  {
   "cell_type": "code",
   "execution_count": null,
   "metadata": {},
   "outputs": [],
   "source": [
    "sec_building = pd.read_excel('sec_buildings.xlsx')"
   ]
  },
  {
   "cell_type": "code",
   "execution_count": null,
   "metadata": {},
   "outputs": [],
   "source": [
    "\n",
    "plt.boxplot(x=sec_building.price_unit,patch_artist=True,showmeans =True,\n",
    "            boxprops={'color':'black','facecolor':'steelblue'},\n",
    "            showfliers=True,\n",
    "            flierprops={'marker':'o','markerfacecolor':'red','markersize':5},\n",
    "            meanprops={'marker':'D','markerfacecolor':'indianred','markersize':4},\n",
    "            medianprops={'linestyle':'--','color':'orange'},labels=[''])\n",
    "plt.title('二手房价分布箱线图')\n",
    "plt.show()"
   ]
  },
  {
   "cell_type": "markdown",
   "metadata": {},
   "source": [
    "* 散点图"
   ]
  },
  {
   "cell_type": "code",
   "execution_count": null,
   "metadata": {},
   "outputs": [],
   "source": [
    "iris = pd.read_csv('iris.csv')"
   ]
  },
  {
   "cell_type": "code",
   "execution_count": null,
   "metadata": {},
   "outputs": [],
   "source": [
    "\n",
    "#绘制散点图\n",
    "plt.scatter(x = iris.Petal_Width,y = iris.Petal_Length,s =10,\n",
    "            color ='steelblue')\n",
    "plt.xlabel('花瓣宽度')\n",
    "plt.ylabel('花瓣长度')\n",
    "plt.title('鸢尾花花瓣宽度和长度关系图')\n",
    "plt.show()"
   ]
  },
  {
   "cell_type": "markdown",
   "metadata": {},
   "source": [
    "* 绘制不同种类的散点图关系"
   ]
  },
  {
   "cell_type": "code",
   "execution_count": null,
   "metadata": {},
   "outputs": [],
   "source": [
    "# 使用循环方式\n",
    "colors_iris = ['steelblue','indianred','green']\n",
    "sepcies =[ 'setosa','versicolor','virginica']\n",
    "merker_iris =['o','s','x']\n",
    "for i in range(0,3):\n",
    "    plt.scatter(x=iris.Petal_Width[iris['Species'] ==sepcies[i]], y=iris.Petal_Length[iris['Species'] == sepcies[i]], s=20,\n",
    "                color=colors_iris[i], marker=merker_iris[i], label=sepcies[i])\n",
    "plt.xlabel('花瓣宽度',fontsize =12, labelpad =20)\n",
    "plt.ylabel('花瓣长度',fontsize = 12,  labelpad =20)\n",
    "plt.title('不同种类的鸢尾花花瓣宽度和长度关系图',fontsize =12)\n",
    "plt.legend(loc='upper left')\n",
    "plt.show()"
   ]
  },
  {
   "cell_type": "markdown",
   "metadata": {},
   "source": [
    "* 折线图"
   ]
  },
  {
   "cell_type": "code",
   "execution_count": 7,
   "metadata": {},
   "outputs": [],
   "source": [
    "pd.set_option('display.max_columns', 8) # dataframe最多显示为8列\n",
    "# # # # # # 图例和标题以及画图使用\n",
    "data = pd.read_excel('国民经济核算季度数据.xlsx')"
   ]
  },
  {
   "cell_type": "code",
   "execution_count": 8,
   "metadata": {},
   "outputs": [
    {
     "data": {
      "text/html": [
       "<div>\n",
       "<style scoped>\n",
       "    .dataframe tbody tr th:only-of-type {\n",
       "        vertical-align: middle;\n",
       "    }\n",
       "\n",
       "    .dataframe tbody tr th {\n",
       "        vertical-align: top;\n",
       "    }\n",
       "\n",
       "    .dataframe thead th {\n",
       "        text-align: right;\n",
       "    }\n",
       "</style>\n",
       "<table border=\"1\" class=\"dataframe\">\n",
       "  <thead>\n",
       "    <tr style=\"text-align: right;\">\n",
       "      <th></th>\n",
       "      <th>序号</th>\n",
       "      <th>时间</th>\n",
       "      <th>国内生产总值_当季值(亿元)</th>\n",
       "      <th>第一产业增加值_当季值(亿元)</th>\n",
       "      <th>...</th>\n",
       "      <th>住宿和餐饮业增加值_当季值(亿元)</th>\n",
       "      <th>金融业增加值_当季值(亿元)</th>\n",
       "      <th>房地产业增加值_当季值(亿元)</th>\n",
       "      <th>其他行业增加值_当季值(亿元)</th>\n",
       "    </tr>\n",
       "  </thead>\n",
       "  <tbody>\n",
       "    <tr>\n",
       "      <th>0</th>\n",
       "      <td>1</td>\n",
       "      <td>2000年第一季度</td>\n",
       "      <td>21329.9</td>\n",
       "      <td>1908.3</td>\n",
       "      <td>...</td>\n",
       "      <td>570.5</td>\n",
       "      <td>1235.9</td>\n",
       "      <td>933.7</td>\n",
       "      <td>3586.1</td>\n",
       "    </tr>\n",
       "    <tr>\n",
       "      <th>1</th>\n",
       "      <td>2</td>\n",
       "      <td>2000年第二季度</td>\n",
       "      <td>24043.4</td>\n",
       "      <td>3158.2</td>\n",
       "      <td>...</td>\n",
       "      <td>536.5</td>\n",
       "      <td>1124.0</td>\n",
       "      <td>904.7</td>\n",
       "      <td>3464.9</td>\n",
       "    </tr>\n",
       "    <tr>\n",
       "      <th>2</th>\n",
       "      <td>3</td>\n",
       "      <td>2000年第三季度</td>\n",
       "      <td>25712.5</td>\n",
       "      <td>4140.6</td>\n",
       "      <td>...</td>\n",
       "      <td>523.2</td>\n",
       "      <td>1170.4</td>\n",
       "      <td>1070.9</td>\n",
       "      <td>3518.2</td>\n",
       "    </tr>\n",
       "    <tr>\n",
       "      <th>3</th>\n",
       "      <td>4</td>\n",
       "      <td>2000年第四季度</td>\n",
       "      <td>29194.3</td>\n",
       "      <td>5510.2</td>\n",
       "      <td>...</td>\n",
       "      <td>516.1</td>\n",
       "      <td>1306.0</td>\n",
       "      <td>1239.7</td>\n",
       "      <td>3521.5</td>\n",
       "    </tr>\n",
       "    <tr>\n",
       "      <th>4</th>\n",
       "      <td>5</td>\n",
       "      <td>2001年第一季度</td>\n",
       "      <td>24086.4</td>\n",
       "      <td>2015.3</td>\n",
       "      <td>...</td>\n",
       "      <td>638.6</td>\n",
       "      <td>1341.5</td>\n",
       "      <td>1074.4</td>\n",
       "      <td>4342.2</td>\n",
       "    </tr>\n",
       "    <tr>\n",
       "      <th>5</th>\n",
       "      <td>6</td>\n",
       "      <td>2001年第二季度</td>\n",
       "      <td>26726.6</td>\n",
       "      <td>3235.0</td>\n",
       "      <td>...</td>\n",
       "      <td>599.6</td>\n",
       "      <td>1207.4</td>\n",
       "      <td>1015.1</td>\n",
       "      <td>4187.7</td>\n",
       "    </tr>\n",
       "  </tbody>\n",
       "</table>\n",
       "<p>6 rows × 15 columns</p>\n",
       "</div>"
      ],
      "text/plain": [
       "   序号         时间  国内生产总值_当季值(亿元)  第一产业增加值_当季值(亿元)       ...         \\\n",
       "0   1  2000年第一季度         21329.9           1908.3       ...          \n",
       "1   2  2000年第二季度         24043.4           3158.2       ...          \n",
       "2   3  2000年第三季度         25712.5           4140.6       ...          \n",
       "3   4  2000年第四季度         29194.3           5510.2       ...          \n",
       "4   5  2001年第一季度         24086.4           2015.3       ...          \n",
       "5   6  2001年第二季度         26726.6           3235.0       ...          \n",
       "\n",
       "   住宿和餐饮业增加值_当季值(亿元)  金融业增加值_当季值(亿元)  房地产业增加值_当季值(亿元)  其他行业增加值_当季值(亿元)  \n",
       "0              570.5          1235.9            933.7           3586.1  \n",
       "1              536.5          1124.0            904.7           3464.9  \n",
       "2              523.2          1170.4           1070.9           3518.2  \n",
       "3              516.1          1306.0           1239.7           3521.5  \n",
       "4              638.6          1341.5           1074.4           4342.2  \n",
       "5              599.6          1207.4           1015.1           4187.7  \n",
       "\n",
       "[6 rows x 15 columns]"
      ]
     },
     "execution_count": 8,
     "metadata": {},
     "output_type": "execute_result"
    }
   ],
   "source": [
    "data.head(6)"
   ]
  },
  {
   "cell_type": "code",
   "execution_count": 10,
   "metadata": {},
   "outputs": [
    {
     "data": {
      "image/png": "[encoded data removed]",
      "text/plain": [
       "<Figure size 576x504 with 1 Axes>"
      ]
     },
     "metadata": {
      "needs_background": "light"
     },
     "output_type": "display_data"
    }
   ],
   "source": [
    "# 绘制折线图\n",
    "fig =plt.figure(figsize=(8,7)) # 创建画布\n",
    "plt.plot(data.iloc[:,0],data.iloc[:,3],'bs-',\n",
    "       data.iloc[:,0],data.iloc[:,4],'ro-.',\n",
    "       data.iloc[:,0],data.iloc[:,5],'gH--')## 绘制折线图\n",
    "plt.xlabel('年份',labelpad =25)## 添加横轴标签\n",
    "plt.ylabel('生产总值（亿元）')## 添加y轴名称\n",
    "plt.xticks(range(0,70,4),data.iloc[range(0,70,4),1],rotation=45)\n",
    "plt.title('2000-2017年各产业季度生产总值折线图')## 添加图表标题\n",
    "plt.legend(['第一产业','第二产业','第三产业'])\n",
    "# plt.savefig('2000-2017年季度各产业生产总值折线图.pdf')\n",
    "plt.show()"
   ]
  },
  {
   "cell_type": "markdown",
   "metadata": {},
   "source": [
    "### 2. 完善统计图形\n"
   ]
  },
  {
   "cell_type": "markdown",
   "metadata": {},
   "source": [
    "* 图例和画布使用\n"
   ]
  },
  {
   "cell_type": "code",
   "execution_count": 11,
   "metadata": {},
   "outputs": [],
   "source": [
    "# # # # # # 图例和标题以及画图使用\n",
    "data = pd.read_excel('国民经济核算季度数据.xlsx')"
   ]
  },
  {
   "cell_type": "code",
   "execution_count": 12,
   "metadata": {},
   "outputs": [
    {
     "data": {
      "image/png": "[encoded data removed]",
      "text/plain": [
       "<Figure size 576x504 with 1 Axes>"
      ]
     },
     "metadata": {
      "needs_background": "light"
     },
     "output_type": "display_data"
    }
   ],
   "source": [
    "fig = plt.figure(figsize=(8,7)) # 创建画布\n",
    "ax = fig.add_axes([0.10,0.2,0.85,0.7]) # Axes是画布上的绘图区域，可以添加多块\n",
    "plt.plot(data.iloc[:,0],data.iloc[:,3],'bs-',label='第一产业')\n",
    "plt.plot(data.iloc[:,0],data.iloc[:,4],'ro-.',label='第二产业')\n",
    "plt.plot(data.iloc[:,0],data.iloc[:,5],'gH--',label='第三产业')## 绘制折线图\n",
    "plt.xlabel('年份',labelpad=15,fontsize=20)## 添加横轴标签\n",
    "plt.ylabel('生产总值（亿元）',labelpad=15,fontsize=20,style='oblique') ## 添加y轴名称\n",
    "plt.xticks(range(0,70,4),data.iloc[range(0,70,4),1],rotation=45,fontsize=10)\n",
    "plt.title('2000-2017年各产业季度生产总值折线图',fontsize=20)## 添加图表标题\n",
    "plt.legend(loc='upper right',bbox_to_anchor=(0.20,0.95),ncol=1, frameon=True, #是否要边框\n",
    "           title ='不同产业的比较',shadow=False, fancybox=False)\n",
    "plt.savefig('2000-2017年季度各产业生产总值折线图.pdf')\n",
    "plt.show()"
   ]
  },
  {
   "cell_type": "markdown",
   "metadata": {},
   "source": [
    "* 调整刻度轴"
   ]
  },
  {
   "cell_type": "code",
   "execution_count": null,
   "metadata": {},
   "outputs": [],
   "source": [
    "import os \n",
    "import pandas as pd\n",
    "os.chdir(r'E:\\云开明培训机构\\云开见明培训课件\\data summary\\第四章')\n",
    "data = pd.read_excel('Prod_Trade.xlsx')"
   ]
  },
  {
   "cell_type": "code",
   "execution_count": null,
   "metadata": {},
   "outputs": [],
   "source": [
    "data_1 = data.groupby('Date').mean()"
   ]
  },
  {
   "cell_type": "code",
   "execution_count": null,
   "metadata": {},
   "outputs": [],
   "source": [
    "data_1"
   ]
  },
  {
   "cell_type": "code",
   "execution_count": null,
   "metadata": {},
   "outputs": [],
   "source": [
    "plt.plot(data_1.index, # x轴数据\n",
    "         data_1['Sales'], # y轴数据\n",
    "         linestyle = '-', # 折线类型\n",
    "         linewidth = 2, # 折线宽度\n",
    "         color = 'steelblue') # 折线颜色\n",
    "         #marker = 'o', # 折线图中添加圆点\n",
    "         #markersize = 6, # 点的大小\n",
    "        # markeredgecolor='black', # 点的边框色\n",
    "         #markerfacecolor='brown') # 点的填充色\n",
    "# 添加y轴标签\n",
    "plt.ylabel('订单金额')\n",
    "# 添加图形标题\n",
    "plt.title('订单金额的变化趋势',size=12,color = 'black')\n",
    "# 显示图形\n",
    "plt.show()"
   ]
  },
  {
   "cell_type": "code",
   "execution_count": null,
   "metadata": {},
   "outputs": [],
   "source": [
    "import matplotlib as mpl\n",
    "# 获取图的坐标信息\n",
    "ax = plt.gca()\n",
    "# 设置日期的显示格式\n",
    "date_format = mpl.dates.DateFormatter(\"%Y-%m-%d\")"
   ]
  },
  {
   "cell_type": "code",
   "execution_count": null,
   "metadata": {},
   "outputs": [],
   "source": [
    "plt.plot(data_1.index, # x轴数据\n",
    "         data_1['Sales'], # y轴数据\n",
    "         linestyle = '-', # 折线类型\n",
    "         linewidth = 2, # 折线宽度\n",
    "         color = 'steelblue') # 折线颜色\n",
    "         #marker = 'o', # 折线图中添加圆点\n",
    "         #markersize = 6, # 点的大小\n",
    "        # markeredgecolor='black', # 点的边框色\n",
    "         #markerfacecolor='brown') # 点的填充色\n",
    "# 添加y轴标签\n",
    "plt.ylabel('订单金额')\n",
    "# 添加图形标题\n",
    "plt.title('订单金额的变化趋势',size=12,color = 'black')\n",
    "# 显示图形\n",
    "plt.show()"
   ]
  },
  {
   "cell_type": "code",
   "execution_count": null,
   "metadata": {},
   "outputs": [],
   "source": [
    "import matplotlib as mpl\n",
    "# 获取图的坐标信息\n",
    "ax = plt.gca()\n",
    "fig = plt.gcf() #返回当前图像并设置为该图像对象名称为fig\n",
    "fig.set_size_inches(10,9) \n",
    "# 设置日期的显示格式\n",
    "date_format = mpl.dates.DateFormatter(\"%Y-%m-%d\")\n",
    "ax.xaxis.set_major_formatter(date_format)\n",
    "# 设置x轴显示多少个日期刻度\n",
    "xlocator = mpl.ticker.LinearLocator(20)\n",
    "# 设置x轴每个刻度的间隔天数\n",
    "#xlocator = mpl.ticker.MultipleLocator(100)\n",
    "ax.xaxis.set_major_locator(xlocator)\n",
    "# 为了避免x轴刻度标签的紧凑，将刻度标签旋转45度\n",
    "plt.plot(data_1.index, # x轴数据\n",
    "         data_1['Sales'], # y轴数据\n",
    "         linestyle = '-', # 折线类型\n",
    "         linewidth = 2, # 折线宽度\n",
    "         color = 'steelblue') # 折线颜色\n",
    "plt.xticks(rotation=45)\n",
    "# 添加y轴标签\n",
    "plt.ylabel('订单总价')\n",
    "# 添加图形标题\n",
    "plt.title('订单变化趋势')\n",
    "# 添加图例\n",
    "plt.legend()\n",
    "# 显示图形\n",
    "plt.show()\n"
   ]
  },
  {
   "cell_type": "markdown",
   "metadata": {},
   "source": [
    "* 添加图形内容"
   ]
  },
  {
   "cell_type": "code",
   "execution_count": null,
   "metadata": {},
   "outputs": [],
   "source": [
    "plt.figure(figsize=(6.4,4.8))\n",
    "plt.bar(x =GDP.index.values,height =GDP.GDP ,align='center',tick_label= GDP.Province,width = 0.5 )\n",
    "plt.xticks(GDP.index.values,GDP.Province,rotation = 45)\n",
    "plt.xticks(fontsize=15 ) #坐标轴标签的刻度大小\n",
    "plt.yticks(fontsize=15) #坐标轴标签的刻度大小\n",
    "plt.xlabel('省份',fontsize = 20)\n",
    "plt.ylabel('GDP产值(万亿)',fontsize = 20)\n",
    "plt.title('2017年6个省份的GDP',fontsize = 25)\n",
    "plt.text(0,4,'GDP最高的是广东',weight ='bold',color='red',fontsize=12)\n",
    "plt.show()"
   ]
  },
  {
   "cell_type": "code",
   "execution_count": null,
   "metadata": {},
   "outputs": [],
   "source": [
    "plt.figure(figsize=(6.4,4.8))\n",
    "plt.bar(x =GDP.index.values,height =GDP.GDP ,align='center',tick_label= GDP.Province,width = 0.5 )\n",
    "plt.xticks(GDP.index.values,GDP.Province,rotation = 45)\n",
    "plt.xticks(fontsize=15 ) #坐标轴标签的刻度大小\n",
    "plt.yticks(fontsize=15) #坐标轴标签的刻度大小\n",
    "plt.xlabel('省份',fontsize = 20)\n",
    "plt.ylabel('GDP产值(万亿)',fontsize = 20)\n",
    "plt.title('2017年6个省份的GDP',fontsize = 25)\n",
    "plt.annotate('GDP最高的是广东',xy=(2,8), xytext=(0,4),weight='bold',color='black',\n",
    "             arrowprops =dict(arrowstyle='->',connectionstyle = 'arc3',color='red')) \n",
    "# xy=(2,8) 也可以理解为箭头的位置\n",
    "plt.show()"
   ]
  },
  {
   "cell_type": "markdown",
   "metadata": {},
   "source": [
    "### 3. 图形样式高级操作\n"
   ]
  },
  {
   "cell_type": "markdown",
   "metadata": {},
   "source": [
    "* 绘制双坐标轴"
   ]
  },
  {
   "cell_type": "code",
   "execution_count": 15,
   "metadata": {},
   "outputs": [],
   "source": [
    "import os \n",
    "import pandas as pd\n",
    "os.chdir(r'E:\\云开明培训机构\\云开见明培训课件\\data summary\\第四章')\n",
    "data = pd.read_excel('Prod_Trade.xlsx')"
   ]
  },
  {
   "cell_type": "code",
   "execution_count": 16,
   "metadata": {},
   "outputs": [],
   "source": [
    "data_1 = data.groupby('Region').mean()"
   ]
  },
  {
   "cell_type": "code",
   "execution_count": 17,
   "metadata": {},
   "outputs": [
    {
     "data": {
      "text/html": [
       "<div>\n",
       "<style scoped>\n",
       "    .dataframe tbody tr th:only-of-type {\n",
       "        vertical-align: middle;\n",
       "    }\n",
       "\n",
       "    .dataframe tbody tr th {\n",
       "        vertical-align: top;\n",
       "    }\n",
       "\n",
       "    .dataframe thead th {\n",
       "        text-align: right;\n",
       "    }\n",
       "</style>\n",
       "<table border=\"1\" class=\"dataframe\">\n",
       "  <thead>\n",
       "    <tr style=\"text-align: right;\">\n",
       "      <th></th>\n",
       "      <th>Sales</th>\n",
       "      <th>Trans_Cost</th>\n",
       "    </tr>\n",
       "    <tr>\n",
       "      <th>Region</th>\n",
       "      <th></th>\n",
       "      <th></th>\n",
       "    </tr>\n",
       "  </thead>\n",
       "  <tbody>\n",
       "    <tr>\n",
       "      <th>东北</th>\n",
       "      <td>1756.984094</td>\n",
       "      <td>13.029785</td>\n",
       "    </tr>\n",
       "    <tr>\n",
       "      <th>华东</th>\n",
       "      <td>1747.487949</td>\n",
       "      <td>12.648524</td>\n",
       "    </tr>\n",
       "    <tr>\n",
       "      <th>华北</th>\n",
       "      <td>1803.506256</td>\n",
       "      <td>12.945072</td>\n",
       "    </tr>\n",
       "    <tr>\n",
       "      <th>华南</th>\n",
       "      <td>1776.521742</td>\n",
       "      <td>12.675480</td>\n",
       "    </tr>\n",
       "    <tr>\n",
       "      <th>西北</th>\n",
       "      <td>1666.225981</td>\n",
       "      <td>13.756375</td>\n",
       "    </tr>\n",
       "    <tr>\n",
       "      <th>西南</th>\n",
       "      <td>1896.926680</td>\n",
       "      <td>13.392840</td>\n",
       "    </tr>\n",
       "  </tbody>\n",
       "</table>\n",
       "</div>"
      ],
      "text/plain": [
       "              Sales  Trans_Cost\n",
       "Region                         \n",
       "东北      1756.984094   13.029785\n",
       "华东      1747.487949   12.648524\n",
       "华北      1803.506256   12.945072\n",
       "华南      1776.521742   12.675480\n",
       "西北      1666.225981   13.756375\n",
       "西南      1896.926680   13.392840"
      ]
     },
     "execution_count": 17,
     "metadata": {},
     "output_type": "execute_result"
    }
   ],
   "source": [
    "data_1"
   ]
  },
  {
   "cell_type": "code",
   "execution_count": null,
   "metadata": {},
   "outputs": [],
   "source": []
  },
  {
   "cell_type": "code",
   "execution_count": 18,
   "metadata": {},
   "outputs": [
    {
     "data": {
      "image/png": "[encoded data removed]",
      "text/plain": [
       "<Figure size 432x288 with 2 Axes>"
      ]
     },
     "metadata": {
      "needs_background": "light"
     },
     "output_type": "display_data"
    }
   ],
   "source": [
    "# # # # # # 绘制双坐标(双Y轴)\n",
    "fig = plt.figure() # 创建作图对象\n",
    "ax1 = fig.add_subplot(111)\n",
    "ax1.plot(data_1.index, data_1.Sales,label='销量')\n",
    "ax1.set_ylabel('不同地区销量情况')\n",
    "ax1.set_title(\"销量和费用之间的关系\")\n",
    "plt.legend(loc ='upper left')\n",
    "ax2 = ax1.twinx()  # this is the important function #添加次坐标轴\n",
    "ax2.plot(data_1.index, data_1.Trans_Cost, 'r',label='成本')\n",
    "ax2.set_ylabel('成本费用')\n",
    "plt.legend(loc ='upper center')\n",
    "plt.show()"
   ]
  },
  {
   "cell_type": "markdown",
   "metadata": {},
   "source": [
    "* 多个图形合并\n"
   ]
  },
  {
   "cell_type": "code",
   "execution_count": null,
   "metadata": {},
   "outputs": [],
   "source": [
    "GDP_data = pd.read_excel('国民经济核算季度数据.xlsx')\n",
    "GDP = pd.read_excel('Province GDP 2017.xlsx')\n",
    "Titanic = pd.read_csv('titanic_train.csv')\n",
    "Titanic.dropna(subset=['Age'], inplace=True)"
   ]
  },
  {
   "cell_type": "code",
   "execution_count": null,
   "metadata": {},
   "outputs": [],
   "source": [
    "GDP"
   ]
  },
  {
   "cell_type": "code",
   "execution_count": null,
   "metadata": {},
   "outputs": [],
   "source": [
    "# 设置绘图区域\n",
    "plt.figure(figsize=(16,9))\n",
    "plt.subplot(121) # 位置\n",
    "plt.plot(GDP_data['序号'],GDP_data['国内生产总值_当季值(亿元)'],c= 'c')\n",
    "plt.xlabel(\"季度\",fontsize=18)\n",
    "plt.ylabel('GDP(产值)',fontsize=18)\n",
    "plt.xticks(range(0,70,4),GDP_data.iloc[range(0,70,4),1],rotation=45)\n",
    "plt.subplot(122)\n",
    "plt.bar(x = GDP.Province,height = GDP.GDP,color= 'c')\n",
    "plt.xlabel(\"地区\",fontsize=18)\n",
    "plt.ylabel('GDP值（万元）',fontsize=18)\n",
    "#plt.xaxis.set_label_coords(1.05,-0.05)\n",
    "plt.xticks(range(0,6,1),GDP.iloc[range(0,6,1),0],rotation=45)\n",
    "plt.show()"
   ]
  },
  {
   "cell_type": "markdown",
   "metadata": {},
   "source": [
    "* subplot2grid应用"
   ]
  },
  {
   "cell_type": "markdown",
   "metadata": {},
   "source": [
    "* subplot2grid函数可以让子区跨越固定的网格布局的多个行和列，实现不同的子区布局\n",
    "* plt.subplot2grid(shape,loc,colspan,rowspan) 参数\n",
    "* shape: 网格布局\n",
    "* loc: 表示图形的位置起点\n",
    "* colspan: 跨越的列数\n",
    "* rowspan : 跨越的行数\n"
   ]
  },
  {
   "cell_type": "code",
   "execution_count": null,
   "metadata": {},
   "outputs": [],
   "source": [
    "#  设置绘图区域\n",
    "plt.figure(figsize=(16,9))\n",
    "plt.subplot2grid((2,3),(0,0),colspan = 1,rowspan=2) #设置绘图区域\n",
    "plt.plot(GDP_data['序号'],GDP_data['国内生产总值_当季值(亿元)'],c= 'c')\n",
    "plt.xlabel(\"季度\",fontsize=18)\n",
    "plt.ylabel('GDP(产值)',fontsize=18)\n",
    "plt.xticks(range(0,70,4),GDP_data.iloc[range(0,70,4),1],rotation=45)\n",
    "\n",
    "plt.subplot2grid((2,3),(0,1),colspan =2,rowspan=1 ) #设置绘图区域\n",
    "plt.bar(x = GDP.Province,height = GDP.GDP,color= 'c')\n",
    "plt.ylabel('GDP值（万元）',fontsize=18)\n",
    "plt.xticks(range(0,6,1),GDP.iloc[range(0,6,1),0],rotation=45)\n",
    "\n",
    "plt.subplot2grid((2,3),(1,1),colspan=2,rowspan=1) #设置绘图区域\n",
    "plt.hist(x = Titanic.Age, bins=20,color='c',edgecolor ='black',density=True)\n",
    "plt.xlabel('年龄',fontsize =15)\n",
    "plt.ylabel('频数',fontsize =15)\n",
    "# 显示\n",
    "plt.suptitle('不同图形的展示',size=20)\n",
    "plt.show()"
   ]
  },
  {
   "cell_type": "code",
   "execution_count": null,
   "metadata": {},
   "outputs": [],
   "source": []
  },
  {
   "cell_type": "code",
   "execution_count": null,
   "metadata": {},
   "outputs": [],
   "source": []
  },
  {
   "cell_type": "code",
   "execution_count": null,
   "metadata": {},
   "outputs": [],
   "source": []
  }
 ],
 "metadata": {
  "kernelspec": {
   "display_name": "Python 3",
   "language": "python",
   "name": "python3"
  },
  "language_info": {
   "codemirror_mode": {
    "name": "ipython",
    "version": 3
   },
   "file_extension": ".py",
   "mimetype": "text/x-python",
   "name": "python",
   "nbconvert_exporter": "python",
   "pygments_lexer": "ipython3",
   "version": "3.7.1"
  }
 },
 "nbformat": 4,
 "nbformat_minor": 2
}
