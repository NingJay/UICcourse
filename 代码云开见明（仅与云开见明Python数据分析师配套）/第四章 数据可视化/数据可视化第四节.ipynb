{
 "cells": [
  {
   "cell_type": "markdown",
   "metadata": {},
   "source": [
    "# 数据可视化实战"
   ]
  },
  {
   "cell_type": "markdown",
   "metadata": {},
   "source": [
    "## 精美制图: 掌握Plotly交互式绘图，绘制出更加精美的图形"
   ]
  },
  {
   "cell_type": "markdown",
   "metadata": {},
   "source": [
    "### 1. plotly介绍和基础\n"
   ]
  },
  {
   "cell_type": "markdown",
   "metadata": {},
   "source": [
    "* plotly语法介绍\n",
    "* 一般使用离线绘图库"
   ]
  },
  {
   "cell_type": "code",
   "execution_count": null,
   "metadata": {},
   "outputs": [],
   "source": [
    "import plotly as py \n",
    "import plotly.graph_objs as go\n",
    "from plotly.graph_objs import Scatter #导入graph_objs中的子模块"
   ]
  },
  {
   "cell_type": "code",
   "execution_count": null,
   "metadata": {},
   "outputs": [],
   "source": [
    "# # py.offline 是绘图的主要函数\n",
    "# py.offline.plot(data,filename ='fth.html')\n",
    "# data 代表数据\n",
    "# filename代表路劲\n",
    "# filename是保存的路劲"
   ]
  },
  {
   "cell_type": "code",
   "execution_count": null,
   "metadata": {},
   "outputs": [],
   "source": [
    "# 绘制出来的图形，会生成一个html文件\n",
    "trace0 = Scatter(x = [1,2,3,4],y = [10,15,13,17])\n",
    "trace1 = Scatter(x = [1,2,3,4],y = [6,5,11,9])\n",
    "data = [trace0,trace1]\n",
    "py.offline.plot(data,filename ='fth.html')\n"
   ]
  },
  {
   "cell_type": "markdown",
   "metadata": {},
   "source": [
    "代码解释\n",
    "* 1. 首先定义一个trace0的变量，用于保存绘图数据\n",
    "* 2. 每个绘图对象都由Plotly模块里面graph_objs图像对象中的子模块来定义\n",
    "* 3. 定义变量trace0和trace1的x和y坐标\n",
    "* 4. 定义一个data,把trace0和trace1组合成一组数据\n",
    "* 5. 最后通过该plot函数绘制"
   ]
  },
  {
   "cell_type": "code",
   "execution_count": null,
   "metadata": {},
   "outputs": [],
   "source": [
    "# 在jupyter notebook下输出\n",
    "import plotly as py\n",
    "from plotly.graph_objs import Scatter\n",
    "py.offline.init_notebook_mode()# 初始化步骤\n",
    "trace0 = Scatter(x = [1,2,3,4],y = [10,15,13,17])\n",
    "trace1 = Scatter(x = [1,2,3,4],y = [6,5,11,9])\n",
    "data = [trace0,trace1]\n",
    "py.offline.iplot(data,filename ='12')"
   ]
  },
  {
   "cell_type": "markdown",
   "metadata": {},
   "source": [
    "### 2. 常见图形绘制\n"
   ]
  },
  {
   "cell_type": "markdown",
   "metadata": {},
   "source": [
    "* 散点图"
   ]
  },
  {
   "cell_type": "code",
   "execution_count": null,
   "metadata": {},
   "outputs": [],
   "source": [
    "import pandas as pd\n",
    "import os\n",
    "os.chdir('E:\\云开明培训机构\\云开见明培训课件\\data summary\\第四章')"
   ]
  },
  {
   "cell_type": "code",
   "execution_count": null,
   "metadata": {},
   "outputs": [],
   "source": [
    "income_data= pd.read_csv('income_data.csv')\n",
    "year = list(range(1994,2014,1))"
   ]
  },
  {
   "cell_type": "code",
   "execution_count": null,
   "metadata": {},
   "outputs": [],
   "source": [
    "income_data.insert(0,'year',year)"
   ]
  },
  {
   "cell_type": "code",
   "execution_count": null,
   "metadata": {},
   "outputs": [],
   "source": [
    "income_data"
   ]
  },
  {
   "cell_type": "code",
   "execution_count": null,
   "metadata": {},
   "outputs": [],
   "source": [
    "\n",
    "# mode--定义图形类型，散点或者线形图\n",
    "pyplot  = py.offline.iplot\n",
    "trace1 = Scatter(x =income_data['year'], y = income_data['x2'], mode ='markers',name = '在职工工资总额')\n",
    "trace2 = Scatter(x =income_data['year'], y = income_data['x3'], mode ='lines',name = '社会消费品零售总额')\n",
    "trace3 = Scatter(x =income_data['year'], y = income_data['x8'],mode ='markers+lines',name = \\\n",
    "                 '地区生产总值')\n",
    "# mode--定义图形类型，散点或者线形图\n",
    "data  = [trace1,trace2,trace3]\n",
    "pyplot(data,filename ='fth.html')"
   ]
  },
  {
   "cell_type": "markdown",
   "metadata": {},
   "source": [
    "* 线性图"
   ]
  },
  {
   "cell_type": "code",
   "execution_count": null,
   "metadata": {},
   "outputs": [],
   "source": [
    "trace1 = Scatter( y = income_data['x8'], x = income_data['y'],name ='地区生产总值和财政收入关系',mode='lines',\\\n",
    "                line = dict(width = 2,color='green'))\n",
    "trace2 = Scatter( y = income_data['x3'], x = income_data['y'],name ='社会消费品零售总额和财政收入关系',mode='lines',\\\n",
    "                line = dict(width = 2,color='blue'))\n",
    "\n",
    "\n",
    "data  = [trace1,trace2]\n",
    "#go.Layout就可以创建图层对象\n",
    "layout = go.Layout(title = '财政收入变化',xaxis = dict(title = '地区生产总值'),yaxis = dict(title = '财政收入'),\\\n",
    "                   legend=dict(x=1,y =0.5,font = dict(size=5,color='black')))\n",
    "fig = go.Figure(data=data,layout = layout)# data与layout组成一个图象对象\n",
    "pyplot(fig,filename ='fth.html')"
   ]
  },
  {
   "cell_type": "markdown",
   "metadata": {},
   "source": [
    "* 柱状图"
   ]
  },
  {
   "cell_type": "code",
   "execution_count": null,
   "metadata": {},
   "outputs": [],
   "source": [
    "Prod_Trade  = pd.read_excel('Prod_Trade.xlsx')"
   ]
  },
  {
   "cell_type": "code",
   "execution_count": null,
   "metadata": {},
   "outputs": [],
   "source": [
    "# 统计不同地区的订单数量\n",
    "order_Region = Prod_Trade['Region'].value_counts()"
   ]
  },
  {
   "cell_type": "code",
   "execution_count": null,
   "metadata": {},
   "outputs": [],
   "source": [
    "order_Region"
   ]
  },
  {
   "cell_type": "code",
   "execution_count": null,
   "metadata": {},
   "outputs": [],
   "source": [
    "trace_basic = [go.Bar(x =order_Region.index.tolist(),y =order_Region.values.tolist(),\n",
    "                      marker=dict(color=[\"red\", \"blue\",\"green\",'darkgray', 'darkgrey', 'darkgreen']),\\\n",
    "                      opacity=0.39)] #透明度\n",
    "layout = go.Layout(title = '柱状图', xaxis =dict(title ='地区'))\n",
    "figure_basic = go.Figure(data = trace_basic,layout=layout)# data与layout组成一个图象对象\n",
    "pyplot(figure_basic, filename='styled_line.html') #输出"
   ]
  },
  {
   "cell_type": "code",
   "execution_count": null,
   "metadata": {},
   "outputs": [],
   "source": [
    "# # # # # # 柱状簇\n",
    "Industry_GDP = pd.read_excel('Industry_GDP.xlsx')"
   ]
  },
  {
   "cell_type": "code",
   "execution_count": null,
   "metadata": {},
   "outputs": [],
   "source": [
    "G1 = Industry_GDP[Industry_GDP['Industry_Type'] =='第一产业']\n",
    "G2 = Industry_GDP[Industry_GDP['Industry_Type'] =='第二产业']\n",
    "G3 = Industry_GDP[Industry_GDP['Industry_Type'] =='第三产业']\n",
    "\n",
    "trace_1 = go.Bar(x =G1.Quarter, y = G1.GDP,name ='第一产业')\n",
    "trace_2 = go.Bar(x =G2.Quarter, y = G2.GDP,name ='第二产业')\n",
    "trace_3 = go.Bar(x =G3.Quarter, y = G3.GDP,name ='第三产业')\n",
    "\n",
    "trace = [trace_1,trace_2,trace_3]\n",
    "layout = go.Layout(title = '三大产业的GDP', xaxis =dict(title ='季度'))\n",
    "# figure\n",
    "figure = go.Figure(data = trace,layout=layout)\n",
    "pyplot(figure,filename='styled_line.html') #输出"
   ]
  },
  {
   "cell_type": "code",
   "execution_count": null,
   "metadata": {},
   "outputs": [],
   "source": [
    "# # #层叠柱状图\n",
    "Industry_GDP = pd.read_excel('Industry_GDP.xlsx')\n",
    "G1 = Industry_GDP[Industry_GDP['Industry_Type'] =='第一产业']\n",
    "G2 = Industry_GDP[Industry_GDP['Industry_Type'] =='第二产业']\n",
    "G3 = Industry_GDP[Industry_GDP['Industry_Type'] =='第三产业']\n",
    "\n",
    "trace_1 = go.Bar(x =G1.Quarter, y = G1.GDP,name ='第一产业')\n",
    "trace_2 = go.Bar(x =G2.Quarter, y = G2.GDP,name ='第二产业')\n",
    "trace_3 = go.Bar(x =G3.Quarter, y = G3.GDP,name ='第三产业')\n",
    "\n",
    "trace = [trace_1,trace_2,trace_3]\n",
    "layout = go.Layout(title = '三大产业的GDP', xaxis =dict(title ='季度'),barmode ='stack')\n",
    "# figure\n",
    "figure = go.Figure(data = trace,layout=layout)\n",
    "pyplot(figure,filename='styled_line.html') #输出"
   ]
  },
  {
   "cell_type": "markdown",
   "metadata": {},
   "source": [
    "* 直方图\n"
   ]
  },
  {
   "cell_type": "code",
   "execution_count": null,
   "metadata": {},
   "outputs": [],
   "source": [
    "Titanic = pd.read_csv('titanic_train.csv')\n",
    "data = [go.Histogram(x = Titanic['Age'], histnorm ='probability',marker = dict(color = 'blue'))]\n",
    "pyplot(data,filename='styled_line.html') #输出"
   ]
  },
  {
   "cell_type": "markdown",
   "metadata": {},
   "source": [
    "* 饼图"
   ]
  },
  {
   "cell_type": "code",
   "execution_count": null,
   "metadata": {},
   "outputs": [],
   "source": [
    "order_Region"
   ]
  },
  {
   "cell_type": "code",
   "execution_count": null,
   "metadata": {},
   "outputs": [],
   "source": [
    "trace = [go.Pie(labels = order_Region.index, values = order_Region.values,hole=0.2,  \\\n",
    "               textfont =dict(size=12,color ='white'))]                 # hole中间部分\n",
    "layout = go.Layout(title = '不同地区订单比例')\n",
    "fig = go.Figure(data = trace,layout=layout) # data与layout组成一个图象对象\n",
    "pyplot(fig,filename='styled_line.html') #输出"
   ]
  },
  {
   "cell_type": "code",
   "execution_count": null,
   "metadata": {},
   "outputs": [],
   "source": []
  },
  {
   "cell_type": "code",
   "execution_count": null,
   "metadata": {},
   "outputs": [],
   "source": []
  },
  {
   "cell_type": "code",
   "execution_count": null,
   "metadata": {},
   "outputs": [],
   "source": []
  },
  {
   "cell_type": "markdown",
   "metadata": {},
   "source": [
    "### 3. 图形设置"
   ]
  },
  {
   "cell_type": "markdown",
   "metadata": {},
   "source": [
    "* 多图表\n"
   ]
  },
  {
   "cell_type": "code",
   "execution_count": null,
   "metadata": {},
   "outputs": [],
   "source": [
    "# 计算订单平均数量\n",
    "mean_value = np.mean(order_Region.values.tolist())\n",
    "y = np.tile(mean_value,6)"
   ]
  },
  {
   "cell_type": "code",
   "execution_count": null,
   "metadata": {},
   "outputs": [],
   "source": [
    "trace_basic = go.Bar(x =order_Region.index.tolist(),y = order_Region.values.tolist(),\n",
    "                      marker=dict(color=[\"red\", \"blue\",\"green\",'darkgray', 'darkgrey', 'darkgreen']),\\\n",
    "                      opacity=0.39)#透明度\n",
    "trace_average = go.Scatter(x = order_Region.index.tolist(), y = y,mode ='lines',\n",
    "                          name ='平均值' )"
   ]
  },
  {
   "cell_type": "code",
   "execution_count": null,
   "metadata": {},
   "outputs": [],
   "source": [
    "data = [trace_basic,trace_average]"
   ]
  },
  {
   "cell_type": "code",
   "execution_count": null,
   "metadata": {},
   "outputs": [],
   "source": [
    "layout = go.Layout(title = '不同地区订单数量对比', xaxis =dict(title ='地区'))\n",
    "figure_basic = go.Figure(data = data,layout=layout)# data与layout组成一个图象对象\n",
    "pyplot(figure_basic, filename='styled_line.html') #输出"
   ]
  },
  {
   "cell_type": "markdown",
   "metadata": {},
   "source": [
    "* 双坐标轴\n",
    "* 主要目的为了体现数值较小的变量的变化规律"
   ]
  },
  {
   "cell_type": "markdown",
   "metadata": {},
   "source": [
    "* 绘制地区生产总值，税收和财政收入之间的关系"
   ]
  },
  {
   "cell_type": "code",
   "execution_count": null,
   "metadata": {},
   "outputs": [],
   "source": [
    "trace1 = Scatter( x = income_data['y'], y = income_data['x8'],name ='地区生产总值和财政收入关系',mode='lines',\\\n",
    "                line = dict(width = 2,color='green'))\n",
    "trace2 = Scatter( x = income_data['y'], y = income_data['x10'],name ='税收和财政收入关系',mode='lines',\\\n",
    "                line = dict(width = 2,color='blue'), yaxis='y2')\n",
    "\n",
    "\n",
    "data  = [trace1,trace2]\n",
    "#go.Layout就可以创建图层对象\n",
    "layout = go.Layout(title = '财政收入变化',xaxis = dict(title = '财政收入'),\n",
    "       yaxis = dict(title = '地区生产总值'),yaxis2 = dict(title = '税收收入',overlaying ='y',side = 'right'),\n",
    "                   legend=dict(x=.1,y =1,font = dict(size=12,color='black')))\n",
    "fig = go.Figure(data=data,layout = layout)# data与layout组成一个图象对象\n",
    "pyplot(fig,filename ='fth.html')"
   ]
  },
  {
   "cell_type": "markdown",
   "metadata": {},
   "source": [
    "* 多子图"
   ]
  },
  {
   "cell_type": "markdown",
   "metadata": {},
   "source": [
    "* 订单数量按地区和箱子类型汇总"
   ]
  },
  {
   "cell_type": "code",
   "execution_count": null,
   "metadata": {},
   "outputs": [],
   "source": [
    "# 统计不同箱子类型的订单数量\n",
    "order_Box =  Prod_Trade['Box_Type'].value_counts()"
   ]
  },
  {
   "cell_type": "code",
   "execution_count": null,
   "metadata": {},
   "outputs": [],
   "source": [
    "from plotly import tools\n",
    "fig = tools.make_subplots(rows=2,cols=1)"
   ]
  },
  {
   "cell_type": "code",
   "execution_count": null,
   "metadata": {},
   "outputs": [],
   "source": [
    "trace1 = go.Bar(x = order_Region.index.tolist(),y = order_Region.values.tolist(),\n",
    "                      marker=dict(color=[\"red\", \"blue\",\"green\",'darkgray', 'darkgrey', 'darkgreen']),\\\n",
    "                      opacity=0.39,name ='不同地区订单')  #透明度"
   ]
  },
  {
   "cell_type": "code",
   "execution_count": null,
   "metadata": {},
   "outputs": [],
   "source": [
    "trace2 = go.Bar(x = order_Box.index.tolist(),y = order_Box.values.tolist(),\n",
    "                      marker=dict(color=[\"red\", \"blue\",\"green\",'darkgray', 'darkgrey', 'darkgreen']),\\\n",
    "                      opacity=0.99,name ='不同箱子类型订单')  #透明度"
   ]
  },
  {
   "cell_type": "code",
   "execution_count": null,
   "metadata": {},
   "outputs": [],
   "source": [
    "fig.append_trace(trace1,1,1)"
   ]
  },
  {
   "cell_type": "code",
   "execution_count": null,
   "metadata": {},
   "outputs": [],
   "source": [
    "fig.append_trace(trace2,2,1)"
   ]
  },
  {
   "cell_type": "code",
   "execution_count": null,
   "metadata": {},
   "outputs": [],
   "source": [
    "fig['layout'].update(height=600,width =600, title='不同地区订单')"
   ]
  },
  {
   "cell_type": "code",
   "execution_count": null,
   "metadata": {},
   "outputs": [],
   "source": [
    "\n",
    "pyplot(fig, filename='styled_line.html') #输出\n"
   ]
  },
  {
   "cell_type": "code",
   "execution_count": null,
   "metadata": {},
   "outputs": [],
   "source": []
  },
  {
   "cell_type": "code",
   "execution_count": null,
   "metadata": {},
   "outputs": [],
   "source": []
  },
  {
   "cell_type": "code",
   "execution_count": null,
   "metadata": {},
   "outputs": [],
   "source": []
  }
 ],
 "metadata": {
  "kernelspec": {
   "display_name": "Python 3",
   "language": "python",
   "name": "python3"
  },
  "language_info": {
   "codemirror_mode": {
    "name": "ipython",
    "version": 3
   },
   "file_extension": ".py",
   "mimetype": "text/x-python",
   "name": "python",
   "nbconvert_exporter": "python",
   "pygments_lexer": "ipython3",
   "version": "3.7.1"
  }
 },
 "nbformat": 4,
 "nbformat_minor": 2
}
