{
 "cells": [
  {
   "cell_type": "markdown",
   "metadata": {},
   "source": [
    "# 第一节 数据分析项目流程\n"
   ]
  },
  {
   "cell_type": "markdown",
   "metadata": {},
   "source": [
    "* 此次的数据集来自在线零售业务的交易数据，该公司主要销售礼品，大部分出售对象是面向批发商。"
   ]
  },
  {
   "cell_type": "markdown",
   "metadata": {},
   "source": [
    "字段介绍\n",
    "* InvoiceNo: 订单编号，每笔交易有6个整数，退货订单编号开头有字母'C'。\n",
    "* StockCode: 产品编号，由5个整数组成。\n",
    "* Description: 产品描述。\n",
    "* Quantity: 产品数量，有负号的表示退货\n",
    "* InvoiceDate: 订单日期和时间。\n",
    "* UnitPrice: 单价（英镑），单位产品的价格。\n",
    "* CustomerID:客户编号，每个客户编号由5位数字组成。\n",
    "* Country: 国家的名称，每个客户所在国家/地区的名称。"
   ]
  },
  {
   "cell_type": "markdown",
   "metadata": {},
   "source": [
    "## 1. 明确问题"
   ]
  },
  {
   "cell_type": "markdown",
   "metadata": {},
   "source": [
    "* 1.购买商品数前十的国家是？\n",
    "\n",
    "* 2.交易额前十的国家是？\n",
    "\n",
    "* 3.哪些月份销量较佳？\n",
    "\n",
    "* 4.客单价多少？\n",
    "\n",
    "* 5.用户消费行为分析"
   ]
  },
  {
   "cell_type": "markdown",
   "metadata": {},
   "source": [
    "## 2. 理解数据 "
   ]
  },
  {
   "cell_type": "markdown",
   "metadata": {},
   "source": [
    "* 获取数据"
   ]
  },
  {
   "cell_type": "code",
   "execution_count": null,
   "metadata": {},
   "outputs": [],
   "source": [
    "import numpy as np\n",
    "import pandas as pd\n",
    "import matplotlib.pyplot as plt\n",
    "import csv\n",
    "import os \n",
    "os.chdir('E:\\云开明培训机构\\云开见明培训课件\\data summary\\第六章')"
   ]
  },
  {
   "cell_type": "code",
   "execution_count": null,
   "metadata": {},
   "outputs": [],
   "source": [
    "#导入可视化库\n",
    "import plotly as py \n",
    "import plotly.graph_objs as go\n",
    "py.offline.init_notebook_mode()# 初始化步骤\n",
    "pyplot = py.offline.iplot  #画图函数"
   ]
  },
  {
   "cell_type": "code",
   "execution_count": null,
   "metadata": {},
   "outputs": [],
   "source": [
    "online_data = pd.read_csv('data.csv',encoding='utf-8',dtype= {'CustomerID':str})"
   ]
  },
  {
   "cell_type": "code",
   "execution_count": null,
   "metadata": {},
   "outputs": [],
   "source": [
    "online_data.head() #查看前5行"
   ]
  },
  {
   "cell_type": "code",
   "execution_count": null,
   "metadata": {},
   "outputs": [],
   "source": [
    "online_data.shape#查看数据形状"
   ]
  },
  {
   "cell_type": "code",
   "execution_count": null,
   "metadata": {},
   "outputs": [],
   "source": [
    "online_data.info()#查看数据情况"
   ]
  },
  {
   "cell_type": "markdown",
   "metadata": {},
   "source": [
    "## 3 .数据清洗"
   ]
  },
  {
   "cell_type": "code",
   "execution_count": null,
   "metadata": {},
   "outputs": [],
   "source": [
    "#统计缺失率\n",
    "online_data.apply(lambda x: sum(x.isnull())/len(x), axis=0)"
   ]
  },
  {
   "cell_type": "markdown",
   "metadata": {},
   "source": [
    "* 通过统计缺失率可以发现，CustomID存在部分缺失，无法进行填充，需要删除缺失的数据。订单日期和格式需要调整，方便后续分析。"
   ]
  },
  {
   "cell_type": "code",
   "execution_count": null,
   "metadata": {},
   "outputs": [],
   "source": [
    "# 剔除缺失值\n",
    "df1 = online_data.dropna(how='any').copy()  #任何一行有缺失，直接删除这一行"
   ]
  },
  {
   "cell_type": "code",
   "execution_count": null,
   "metadata": {},
   "outputs": [],
   "source": [
    "df1['InvoiceDate'] = pd.to_datetime(df1['InvoiceDate'], errors = 'coerce') #12/1/2010 8:26转换为2010-12-01"
   ]
  },
  {
   "cell_type": "code",
   "execution_count": null,
   "metadata": {},
   "outputs": [],
   "source": [
    "df1.head(5)"
   ]
  },
  {
   "cell_type": "code",
   "execution_count": null,
   "metadata": {},
   "outputs": [],
   "source": [
    "# 取用日期部分\n",
    "df1['InvoiceDate'] = df1['InvoiceDate'].dt.date"
   ]
  },
  {
   "cell_type": "code",
   "execution_count": null,
   "metadata": {},
   "outputs": [],
   "source": []
  },
  {
   "cell_type": "markdown",
   "metadata": {},
   "source": [
    "* 取用日期部分或者用以下方法实现\n",
    "* df1['InvoiceDate'] = df1['InvoiceDate'].apply(lambda x: x.strftime('%Y-%m-%d')) #将datetime64[ns] 转化为object\n",
    "* strptime(detester,’%Y-%m-%d')#字符串转日期"
   ]
  },
  {
   "cell_type": "code",
   "execution_count": null,
   "metadata": {},
   "outputs": [],
   "source": [
    "df1.info()"
   ]
  },
  {
   "cell_type": "markdown",
   "metadata": {},
   "source": [
    "* 新建一个销售金额的字段，即用产品数量乘以单价。\n",
    "* 使用apply函数，0代表按行进行计算，然后对每一列做同样的操作，1代表按列进行计算，然后对每一行做同样的操作"
   ]
  },
  {
   "cell_type": "code",
   "execution_count": null,
   "metadata": {},
   "outputs": [],
   "source": [
    "df1['Price'] = df1.apply(lambda x: x[3] * x[5],axis=1) "
   ]
  },
  {
   "cell_type": "code",
   "execution_count": null,
   "metadata": {},
   "outputs": [],
   "source": [
    "# 清洗后的数据如下:"
   ]
  },
  {
   "cell_type": "code",
   "execution_count": null,
   "metadata": {},
   "outputs": [],
   "source": [
    "df1.head(5)"
   ]
  },
  {
   "cell_type": "markdown",
   "metadata": {},
   "source": [
    "## 4. 数据分析和可视化"
   ]
  },
  {
   "cell_type": "markdown",
   "metadata": {},
   "source": [
    "###  第一个问题：购买商品数前十的国家是？"
   ]
  },
  {
   "cell_type": "code",
   "execution_count": null,
   "metadata": {},
   "outputs": [],
   "source": [
    "# 获取产品数量大于0，按国家分组，对产品数量进行求和，从大到小进行排序，取前十的国家"
   ]
  },
  {
   "cell_type": "code",
   "execution_count": null,
   "metadata": {},
   "outputs": [],
   "source": [
    "df1[df1['Quantity']>0].groupby('Country')['Quantity'].sum().sort_values(ascending=False).head(10)"
   ]
  },
  {
   "cell_type": "code",
   "execution_count": null,
   "metadata": {},
   "outputs": [],
   "source": [
    "quantity_first_10 = df1[df1['Quantity']>0].groupby('Country')['Quantity'].sum().sort_values(ascending=False).head(10)"
   ]
  },
  {
   "cell_type": "code",
   "execution_count": null,
   "metadata": {},
   "outputs": [],
   "source": [
    "quantity_first_10"
   ]
  },
  {
   "cell_type": "code",
   "execution_count": null,
   "metadata": {},
   "outputs": [],
   "source": [
    "trace_basic = [go.Bar(x =quantity_first_10.index.tolist(),y =quantity_first_10.values.tolist(),\n",
    "                      marker=dict(color='orange'),opacity=0.50)] #透明度\n",
    "layout = go.Layout(title = '购买商品前10的国家', xaxis =dict(title ='国家'))\n",
    "figure_basic = go.Figure(data = trace_basic,layout=layout)# data与layout组成一个图象对象\n",
    "pyplot(figure_basic) #输出"
   ]
  },
  {
   "cell_type": "markdown",
   "metadata": {},
   "source": [
    " * 英国购买商品数远远大于其他国家，这可能由于公司位于英国，英国是该公司商品销售的主要对象。"
   ]
  },
  {
   "cell_type": "markdown",
   "metadata": {},
   "source": [
    "### 第二个问题：交易额前十的国家是？"
   ]
  },
  {
   "cell_type": "code",
   "execution_count": null,
   "metadata": {},
   "outputs": [],
   "source": [
    "# 获取产品数量大于0，按国家分组，对销售金额进行求和，从大到小进行排序"
   ]
  },
  {
   "cell_type": "code",
   "execution_count": null,
   "metadata": {},
   "outputs": [],
   "source": [
    "trans = df1[df1['Quantity']>0].groupby('Country').sum()['Price'].sort_values(ascending=False).head(10)"
   ]
  },
  {
   "cell_type": "code",
   "execution_count": null,
   "metadata": {},
   "outputs": [],
   "source": [
    "trace_basic = [go.Bar(x =trans.index.tolist(),y =trans.values.tolist(),\n",
    "                      marker=dict(color='orange'),opacity=0.50)] #透明度\n",
    "layout = go.Layout(title = '交易额前10的国家', xaxis =dict(title ='国家'))\n",
    "figure_basic = go.Figure(data = trace_basic,layout=layout)# data与layout组成一个图象对象\n",
    "pyplot(figure_basic) #输出"
   ]
  },
  {
   "cell_type": "markdown",
   "metadata": {},
   "source": [
    "* 可以看出：英国的交易额最大，由于购买数最多，交易额理所当然也是最大。除此之外，荷兰，爱尔兰，德国，法国也是主要消费国家，需要重点关注。"
   ]
  },
  {
   "cell_type": "markdown",
   "metadata": {},
   "source": [
    "###  第三个问题：哪些月份销量较佳？"
   ]
  },
  {
   "cell_type": "code",
   "execution_count": null,
   "metadata": {},
   "outputs": [],
   "source": [
    "df1['month'] = pd.to_datetime(df1['InvoiceDate']).dt.month #取出月份数"
   ]
  },
  {
   "cell_type": "code",
   "execution_count": null,
   "metadata": {},
   "outputs": [],
   "source": [
    "df1[df1['Quantity']>0].groupby('month')['Quantity'].sum().sort_values(ascending=False)"
   ]
  },
  {
   "cell_type": "code",
   "execution_count": null,
   "metadata": {},
   "outputs": [],
   "source": [
    "import seaborn as sns\n",
    "sns.set(style='darkgrid',context='notebook',font_scale=1.2) # 设置背景\n",
    "# 支持中文显示\n",
    "plt.rcParams['font.sans-serif'] = ['SimHei']\n",
    "plt.rcParams['axes.unicode_minus'] = False"
   ]
  },
  {
   "cell_type": "code",
   "execution_count": null,
   "metadata": {},
   "outputs": [],
   "source": [
    "df1[df1['Quantity']>0].groupby('month')['Quantity'].sum().sort_values(ascending=False).head(12).plot(kind ='bar')\n",
    "plt.xticks(rotation=45)"
   ]
  },
  {
   "cell_type": "markdown",
   "metadata": {},
   "source": [
    "* 销量最高的是11月份，其次是12月份，大部分销量较佳集中在下半年，这是由于该产品是礼品，在下半年节日较多，加上促销优惠，销量比上半年月份多"
   ]
  },
  {
   "cell_type": "markdown",
   "metadata": {},
   "source": [
    "###  第四个问题：客单价多少？"
   ]
  },
  {
   "cell_type": "markdown",
   "metadata": {},
   "source": [
    "* 客单价即平均交易金额，是指平均每个客户交易金额，客单价等于成交金额/成交用户数。\n",
    "\n",
    "* 销售额是由客单价和用户数所决定的，要提升产品的销售额，除了尽可能多地吸引客流，增加顾客交易次数以外，提高客单价也是非常重要的途径。"
   ]
  },
  {
   "cell_type": "code",
   "execution_count": null,
   "metadata": {},
   "outputs": [],
   "source": [
    "sumPrice=df1[df1['Quantity']>0]['Price'].sum()\n",
    "countID=df1[df1['Quantity']>0]['InvoiceNo'].count()\n",
    "avgPrice = sumPrice/countID\n",
    "print(avgPrice)"
   ]
  },
  {
   "cell_type": "markdown",
   "metadata": {},
   "source": [
    "### 第五个问题：用户消费行为分析"
   ]
  },
  {
   "cell_type": "markdown",
   "metadata": {},
   "source": [
    "* 用户消费行为分析主要从用户消费次数，用户消费金额，用户购买产品数量这三个维度进行分析。\n",
    "* 首先计算每个消费者用户的消费次数，消费金额和用户购买的产品数量\n",
    "* 然后在计算用户的平均情况"
   ]
  },
  {
   "cell_type": "code",
   "execution_count": null,
   "metadata": {},
   "outputs": [],
   "source": [
    "customer = df1[df1['Quantity']>0].groupby('CustomerID').agg({'InvoiceNo': 'nunique', #统计用户不同的消费数量\n",
    "                                                'Quantity': np.sum, #产品数量量\n",
    "                                                'Price': np.sum})#消费总金额"
   ]
  },
  {
   "cell_type": "code",
   "execution_count": null,
   "metadata": {},
   "outputs": [],
   "source": [
    "customer.describe()"
   ]
  },
  {
   "cell_type": "markdown",
   "metadata": {},
   "source": [
    "## 5 结论和建议"
   ]
  },
  {
   "cell_type": "markdown",
   "metadata": {},
   "source": [
    "通过以上计算可看出：\n",
    "* 用户平均消费4次，有的客户甚至消费高达210次，是产品的忠诚客户。\n",
    "* 用户平均消费金额为2053元，而75%的用户消费金额只有1661，可见，有些用户消费金额较大，属于非常有价值的用户，需要重点保持关注。\n",
    "* 用户购买产品数量平均高达1194件，由于销售对象主要是批发商，算是正常的数量数。"
   ]
  },
  {
   "cell_type": "code",
   "execution_count": null,
   "metadata": {},
   "outputs": [],
   "source": []
  },
  {
   "cell_type": "code",
   "execution_count": null,
   "metadata": {},
   "outputs": [],
   "source": []
  }
 ],
 "metadata": {
  "kernelspec": {
   "display_name": "Python 3",
   "language": "python",
   "name": "python3"
  },
  "language_info": {
   "codemirror_mode": {
    "name": "ipython",
    "version": 3
   },
   "file_extension": ".py",
   "mimetype": "text/x-python",
   "name": "python",
   "nbconvert_exporter": "python",
   "pygments_lexer": "ipython3",
   "version": "3.7.1"
  }
 },
 "nbformat": 4,
 "nbformat_minor": 2
}
