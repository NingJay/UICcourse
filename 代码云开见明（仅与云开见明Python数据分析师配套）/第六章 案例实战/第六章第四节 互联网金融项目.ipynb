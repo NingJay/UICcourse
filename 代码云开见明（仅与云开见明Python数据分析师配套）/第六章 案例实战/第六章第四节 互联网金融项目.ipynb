{
 "cells": [
  {
   "cell_type": "markdown",
   "metadata": {},
   "source": [
    "# 第四节 互联网金融项目\n"
   ]
  },
  {
   "cell_type": "markdown",
   "metadata": {},
   "source": [
    "## 1. 项目背景"
   ]
  },
  {
   "cell_type": "markdown",
   "metadata": {},
   "source": [
    "* 互联网金融的本质是金融，金融的核心在于风控。对于网贷平台来说，风控能力决定了互联网金融企业的竞争力。逾期客户画像主要在于得出未按时还款客户的整体画像，帮助企业降低坏账率，给放贷与否以及额度给与指导，另外分析各维度的不良贷款率情况，以及放贷比例，可以给企业提出一些有效的参考建议。\n",
    "* 此次项目数据来自拍拍贷真实业务数据。拍拍贷平台借款端服务包括面向广大个人用户的通用性借款和其他借款。数据是从2015-01-01到2017-01-30的所有信用标的10%的样本。\n"
   ]
  },
  {
   "cell_type": "markdown",
   "metadata": {},
   "source": [
    "## 2. 理解数据"
   ]
  },
  {
   "cell_type": "code",
   "execution_count": null,
   "metadata": {},
   "outputs": [],
   "source": [
    "#导入常用的库\n",
    "import numpy as np\n",
    "import pandas as pd\n",
    "import matplotlib.pyplot as plt\n",
    "%matplotlib inline \n",
    "plt.rcParams['font.sans-serif']=['SimHei']\n",
    "plt.rcParams['axes.unicode_minus']=False #处理中文和坐标负号显示\n",
    "import seaborn as sns"
   ]
  },
  {
   "cell_type": "code",
   "execution_count": null,
   "metadata": {},
   "outputs": [],
   "source": [
    "import os\n",
    "os.chdir('E:\\云开明培训机构\\云开见明培训课件\\data summary\\第六章')"
   ]
  },
  {
   "cell_type": "code",
   "execution_count": null,
   "metadata": {},
   "outputs": [],
   "source": [
    "data=pd.read_csv('LCIS.csv',dtype ={'ListingId':str})"
   ]
  },
  {
   "cell_type": "code",
   "execution_count": null,
   "metadata": {},
   "outputs": [],
   "source": [
    "data.info()"
   ]
  },
  {
   "cell_type": "code",
   "execution_count": null,
   "metadata": {},
   "outputs": [],
   "source": [
    "data.describe()"
   ]
  },
  {
   "cell_type": "markdown",
   "metadata": {},
   "source": [
    "\n",
    "* 总共有37个字段，292539 条信贷记录，借款金额区间[100-5000000]，借款期限[1-24]个月，借款利率[7%-24%] ，准入年龄[18-65]岁。"
   ]
  },
  {
   "cell_type": "markdown",
   "metadata": {},
   "source": [
    "## 3. 数据预处理"
   ]
  },
  {
   "cell_type": "markdown",
   "metadata": {},
   "source": [
    "####  1.将变量名统一为中文"
   ]
  },
  {
   "cell_type": "code",
   "execution_count": null,
   "metadata": {},
   "outputs": [],
   "source": [
    "columns={'ListingId':'列表序号','recorddate':'记录日期'}"
   ]
  },
  {
   "cell_type": "code",
   "execution_count": null,
   "metadata": {},
   "outputs": [],
   "source": [
    "data.rename(columns=columns,inplace=True)"
   ]
  },
  {
   "cell_type": "code",
   "execution_count": null,
   "metadata": {},
   "outputs": [],
   "source": [
    "data.head()"
   ]
  },
  {
   "cell_type": "markdown",
   "metadata": {},
   "source": [
    "#### 2.缺失值处理"
   ]
  },
  {
   "cell_type": "code",
   "execution_count": null,
   "metadata": {},
   "outputs": [],
   "source": [
    "data.apply(lambda x: sum(x.isnull())/len(x) ,axis= 0)"
   ]
  },
  {
   "cell_type": "code",
   "execution_count": null,
   "metadata": {},
   "outputs": [],
   "source": [
    "missing_rate = pd.DataFrame(data.apply(lambda x: sum(x.isnull())/len(x) ,axis= 0),columns = ['缺失率'])"
   ]
  },
  {
   "cell_type": "code",
   "execution_count": null,
   "metadata": {},
   "outputs": [],
   "source": [
    "missing_rate.sort_values('缺失率',ascending=False,inplace =True)"
   ]
  },
  {
   "cell_type": "code",
   "execution_count": null,
   "metadata": {},
   "outputs": [],
   "source": [
    "missing_rate[missing_rate['缺失率'] > 0]['缺失率'].apply(lambda x: format(x, '.3%'))#显示成百分比形式"
   ]
  },
  {
   "cell_type": "markdown",
   "metadata": {},
   "source": [
    "#### 3. 查看缺失原因，记住不能直接删除"
   ]
  },
  {
   "cell_type": "markdown",
   "metadata": {},
   "source": [
    "* 下次计划还款利息,下次计划还款本金和下次计划还款日期缺失比例最高，且缺失率最高\n"
   ]
  },
  {
   "cell_type": "code",
   "execution_count": null,
   "metadata": {},
   "outputs": [],
   "source": [
    "data[data['下次计划还款利息'].isnull()].head()"
   ]
  },
  {
   "cell_type": "code",
   "execution_count": null,
   "metadata": {},
   "outputs": [],
   "source": [
    "# 查看标当前状态情况\n",
    "data[data['下次计划还款利息'].isnull()]['标当前状态'].value_counts()[:10]"
   ]
  },
  {
   "cell_type": "markdown",
   "metadata": {},
   "source": [
    "* 缺失值较多的三个变量对应的‘标当前状态’大部分为已还清，所以认定为正常值。"
   ]
  },
  {
   "cell_type": "code",
   "execution_count": null,
   "metadata": {
    "scrolled": false
   },
   "outputs": [],
   "source": [
    "#查看上次还款利息，上次还款本金和上次还款日期 \n",
    "data[data['上次还款利息'].isnull()]"
   ]
  },
  {
   "cell_type": "code",
   "execution_count": null,
   "metadata": {},
   "outputs": [],
   "source": [
    "data[data['上次还款利息'].isnull()].iloc[:,-9:-1]"
   ]
  },
  {
   "cell_type": "markdown",
   "metadata": {},
   "source": [
    "*‘上次还款利息’，‘上次还款本金’，‘上次还款日期’属于同一类型，缺失率基本一致。通过查看数据发现分为两种情况：1.未到首次还款日 2，客户逾期上次还款日未进行还款"
   ]
  },
  {
   "cell_type": "code",
   "execution_count": null,
   "metadata": {},
   "outputs": [],
   "source": [
    "data[data['历史成功借款金额'].isnull()]"
   ]
  },
  {
   "cell_type": "markdown",
   "metadata": {},
   "source": [
    "* 该项数据缺失部分对应的是首次借款成功客户"
   ]
  },
  {
   "cell_type": "code",
   "execution_count": null,
   "metadata": {},
   "outputs": [],
   "source": [
    "# 对记录日期进行分析\n",
    "data[data['记录日期'].isnull()][['手机认证','户口认证']].head(5)"
   ]
  },
  {
   "cell_type": "markdown",
   "metadata": {},
   "source": [
    "* 记录日期缺失，其对应的手机认证，户口认证数据出现异常情况，认定是错误值，记录的是婚姻状况和学历状况因此将缺失数据删除"
   ]
  },
  {
   "cell_type": "code",
   "execution_count": null,
   "metadata": {},
   "outputs": [],
   "source": [
    "data.dropna(subset=['记录日期'],how='any',inplace = True)\n",
    "print('删除缺失后大小',data.shape)"
   ]
  },
  {
   "cell_type": "markdown",
   "metadata": {},
   "source": [
    "##### 4.重复值处理"
   ]
  },
  {
   "cell_type": "code",
   "execution_count": null,
   "metadata": {},
   "outputs": [],
   "source": [
    "#共106条重复数据\n",
    "data[data.duplicated()].shape"
   ]
  },
  {
   "cell_type": "code",
   "execution_count": null,
   "metadata": {},
   "outputs": [],
   "source": [
    "data.drop_duplicates(inplace =True)"
   ]
  },
  {
   "cell_type": "code",
   "execution_count": null,
   "metadata": {},
   "outputs": [],
   "source": [
    "print('删除重复值后大小',data.shape)"
   ]
  },
  {
   "cell_type": "markdown",
   "metadata": {},
   "source": [
    "#### 5. 错误值处理"
   ]
  },
  {
   "cell_type": "code",
   "execution_count": null,
   "metadata": {},
   "outputs": [],
   "source": [
    "# 对手机认证字段进行统计分析\n",
    "data['手机认证'].value_counts().plot(kind='bar')"
   ]
  },
  {
   "cell_type": "code",
   "execution_count": null,
   "metadata": {},
   "outputs": [],
   "source": [
    "# 户口认证\n",
    "data['户口认证'].value_counts()"
   ]
  },
  {
   "cell_type": "markdown",
   "metadata": {},
   "source": [
    "* 户口认证出现了学历等信息\n",
    "* 手机认证字段出现了婚姻等信息\n",
    "* 将这些异常或者错误数据剔除"
   ]
  },
  {
   "cell_type": "code",
   "execution_count": null,
   "metadata": {},
   "outputs": [],
   "source": [
    "data = data[(data['手机认证'] =='成功认证') | (data['手机认证'] =='未成功认证')]"
   ]
  },
  {
   "cell_type": "code",
   "execution_count": null,
   "metadata": {},
   "outputs": [],
   "source": [
    "data.shape"
   ]
  },
  {
   "cell_type": "code",
   "execution_count": null,
   "metadata": {},
   "outputs": [],
   "source": [
    "data['户口认证'].value_counts()# 户口认证没有问题"
   ]
  },
  {
   "cell_type": "markdown",
   "metadata": {},
   "source": [
    "* 请大家按照同样的方法查看一下其他几个认证字段"
   ]
  },
  {
   "cell_type": "markdown",
   "metadata": {},
   "source": [
    "## 四、构建模型"
   ]
  },
  {
   "cell_type": "markdown",
   "metadata": {},
   "source": [
    "#### 1、逾期用户画像\n",
    "逾期用户画像—用户基本信息，年龄、性别、学历分布（该列表借款人学历认证是否成功，成功则表示有大专及以上学历。）"
   ]
  },
  {
   "cell_type": "markdown",
   "metadata": {},
   "source": [
    "##### 不同性别的放贷比例与逾期表现"
   ]
  },
  {
   "cell_type": "code",
   "execution_count": null,
   "metadata": {},
   "outputs": [],
   "source": [
    "# 计算男性和女性不同的\n",
    "df_gender = pd.pivot_table(data = data,columns ='标当前状态',index = '性别',values ='列表序号',aggfunc ='size')"
   ]
  },
  {
   "cell_type": "code",
   "execution_count": null,
   "metadata": {},
   "outputs": [],
   "source": [
    "df_gender['借款笔数占比'] = df_gender.apply(np.sum, axis=1) /df_gender.sum().sum()# 计算男女的借款比例"
   ]
  },
  {
   "cell_type": "code",
   "execution_count": null,
   "metadata": {},
   "outputs": [],
   "source": [
    "df_gender['逾期笔数占比']= df_gender['逾期中']/df_gender.sum(axis=1)# 计算男女的逾期占比"
   ]
  },
  {
   "cell_type": "code",
   "execution_count": null,
   "metadata": {},
   "outputs": [],
   "source": [
    "df_gender"
   ]
  },
  {
   "cell_type": "code",
   "execution_count": null,
   "metadata": {},
   "outputs": [],
   "source": [
    "plt.figure(figsize=(16,9))\n",
    "plt.subplot(121)\n",
    "plt.bar(x = df_gender.index,height = df_gender['借款笔数占比'],color= ['c','g'])\n",
    "plt.title('男女借款比例')\n",
    "plt.subplot(122)\n",
    "plt.bar(x = df_gender.index,height = df_gender['逾期笔数占比'],color= ['c','g'])\n",
    "plt.title('男女逾期比例')\n",
    "plt.suptitle('不同的客户画像情况',size=20)\n",
    "plt.show()"
   ]
  },
  {
   "cell_type": "markdown",
   "metadata": {},
   "source": [
    "* 由图可知：\n",
    "* 拍拍贷的借款用户男性占绝大多数几乎是女性用户的2倍；\n",
    "* 逾期表现男性用户也高于女性客户，男性用户中逾期人数占比高出女性用户0.75%。"
   ]
  },
  {
   "cell_type": "markdown",
   "metadata": {},
   "source": [
    "##### *探索不同年龄的放贷比例与逾期表现"
   ]
  },
  {
   "cell_type": "code",
   "execution_count": null,
   "metadata": {},
   "outputs": [],
   "source": [
    "# 按照年龄进行汇总\n",
    "df_age = data.groupby(['年龄'])['借款金额'].sum()"
   ]
  },
  {
   "cell_type": "code",
   "execution_count": null,
   "metadata": {},
   "outputs": [],
   "source": [
    "df_age = pd.DataFrame(df_age)\n",
    "df_age['借款金额累计'] = df_age['借款金额'].cumsum()\n",
    "df_age['借款金额累计占比'] = df_age['借款金额累计']/df_age['借款金额'].sum()"
   ]
  },
  {
   "cell_type": "code",
   "execution_count": null,
   "metadata": {},
   "outputs": [],
   "source": [
    "df_age"
   ]
  },
  {
   "cell_type": "code",
   "execution_count": null,
   "metadata": {},
   "outputs": [],
   "source": [
    "#获取超过80%对应的最小行索引\n",
    "index_num = df_age[df_age['借款金额累计占比'] > 0.8].index[0]\n",
    "# 计算累计占比\n",
    "cum_percent = df_age.loc[index_num,'借款金额累计占比']"
   ]
  },
  {
   "cell_type": "code",
   "execution_count": null,
   "metadata": {},
   "outputs": [],
   "source": [
    "plt.figure(figsize=(16,12))\n",
    "plt.bar(x = df_age.index,height = df_age['借款金额'], color = 'steelblue', alpha = 0.5, width = 0.7)\n",
    "plt.axvline(x  = index_num,color='orange',linestyle=\"--\",alpha=0.8)  \n",
    "df_age['借款金额累计占比'].plot(style='--ob',secondary_y=True)\n",
    "plt.text(index_num+0.4,cum_percent ,'累计占比为：%.3f%%' % (cum_percent*100), color = 'indianred')\n",
    "plt.show()"
   ]
  },
  {
   "cell_type": "markdown",
   "metadata": {},
   "source": [
    "* 年龄段在23-37借款金额占据80%，55岁以上用户放贷金额非常少"
   ]
  },
  {
   "cell_type": "markdown",
   "metadata": {},
   "source": [
    "* 因此我们进一步将年龄分段为(17, 24] ， (24, 30] ，(30, 36] ，(36, 42] ， (42, 48]， (48, 54] ，(54, 65]，计算不同年龄段的贷款笔数占比和各年龄段的逾期表现。"
   ]
  },
  {
   "cell_type": "code",
   "execution_count": null,
   "metadata": {},
   "outputs": [],
   "source": [
    "data['age_bin'] = pd.cut(data['年龄'],[17,24,30,36,42,48,54,65],right=True)# right代表是否包含在内"
   ]
  },
  {
   "cell_type": "code",
   "execution_count": null,
   "metadata": {},
   "outputs": [],
   "source": [
    "# 计算男不同年龄段的情况\n",
    "df_age = pd.pivot_table(data = data,columns ='标当前状态',index = 'age_bin',values ='列表序号',aggfunc ='size')"
   ]
  },
  {
   "cell_type": "code",
   "execution_count": null,
   "metadata": {},
   "outputs": [],
   "source": [
    "df_age['借款笔数'] = df_age.apply(np.sum,axis =1)"
   ]
  },
  {
   "cell_type": "code",
   "execution_count": null,
   "metadata": {
    "scrolled": true
   },
   "outputs": [],
   "source": [
    "df_age"
   ]
  },
  {
   "cell_type": "code",
   "execution_count": null,
   "metadata": {},
   "outputs": [],
   "source": [
    "df_age['借款笔数分布']=df_age['借款笔数']/df_age['借款笔数'].sum()\n",
    "df_age['逾期占比']=df_age['逾期中']/df_age['借款笔数']\n",
    "df_age['借款笔数分布%']=df_age['借款笔数分布'].apply(lambda x: format(x, '.3%'))\n",
    "df_age['逾期占比%']=df_age['逾期占比'].apply(lambda x: format(x, '.3%'))\n",
    "df_age"
   ]
  },
  {
   "cell_type": "code",
   "execution_count": null,
   "metadata": {},
   "outputs": [],
   "source": [
    "plt.figure(figsize=(12,9))\n",
    "df_age['借款笔数分布'].plot(kind = 'bar', rot =45,color = 'steelblue', alpha = 0.5)\n",
    "plt.xlabel('年龄分段情况')\n",
    "plt.ylabel('借款笔数分布')\n",
    "df_age['逾期占比'].plot( rot =45,color = 'red', alpha = 1,secondary_y=True)\n",
    "plt.ylabel('逾期占比情况')\n",
    "plt.grid(True)\n",
    "plt.show()"
   ]
  },
  {
   "cell_type": "code",
   "execution_count": null,
   "metadata": {},
   "outputs": [],
   "source": [
    "# # #条形图\n",
    "plt.rcParams['font.sans-serif'] = ['SimHei']\n",
    "plt.rcParams['axes.unicode_minus'] = False\n",
    "plt.bar(x = df_age.index.values, height = df_age['借款笔数分布'].values)\n",
    "#plt.ylabel('')\n",
    "plt.title('2017年6个省份的GDP',fontsize = 25)\n",
    "plt.xlim(0,10)\n",
    "plt.show()"
   ]
  },
  {
   "cell_type": "markdown",
   "metadata": {},
   "source": [
    "* 由图可知：年龄段在25-30岁之间的借款笔数最多占44.9%左右，其逾期占比也是最低为3.07%,逾期率最高的年龄段在55以上，逾期率高达5.88%。"
   ]
  },
  {
   "cell_type": "markdown",
   "metadata": {},
   "source": [
    "##### 不同学历的逾期表现\n",
    "\n",
    "该数据集中没有客户的具体学历，仅以学历认证是否成功将客户群体分为大专及以上学历、大专以下学历。"
   ]
  },
  {
   "cell_type": "code",
   "execution_count": null,
   "metadata": {},
   "outputs": [],
   "source": [
    "df_edu  =  pd.pivot_table(data = data,columns ='标当前状态',index ='学历认证',values ='列表序号',aggfunc ='size')"
   ]
  },
  {
   "cell_type": "code",
   "execution_count": null,
   "metadata": {},
   "outputs": [],
   "source": [
    "df_edu"
   ]
  },
  {
   "cell_type": "code",
   "execution_count": null,
   "metadata": {},
   "outputs": [],
   "source": [
    "df_edu['借款笔数'] = df_edu.apply(np.sum,axis=1)"
   ]
  },
  {
   "cell_type": "code",
   "execution_count": null,
   "metadata": {},
   "outputs": [],
   "source": [
    "df_edu['借款笔数占比'] = df_edu['借款笔数'] /df_edu['借款笔数'].sum()"
   ]
  },
  {
   "cell_type": "code",
   "execution_count": null,
   "metadata": {},
   "outputs": [],
   "source": [
    "df_edu['逾期占比'] = df_edu['逾期中'] /df_edu['借款笔数']"
   ]
  },
  {
   "cell_type": "code",
   "execution_count": null,
   "metadata": {},
   "outputs": [],
   "source": [
    "df_edu"
   ]
  },
  {
   "cell_type": "code",
   "execution_count": null,
   "metadata": {},
   "outputs": [],
   "source": [
    "plt.figure(figsize=(12,9))\n",
    "plt.subplot(121)\n",
    "plt.pie(x = df_edu['借款笔数占比'], # 绘图数据\n",
    "        labels=['成功认证','未成功认证'], # 添加标签\n",
    "        colors=['red','yellow'], # 设置饼图的自定义填充色\n",
    "        autopct='%.1f%%', # 设置百分比的格式，这里保留一位小数\n",
    "        pctdistance=0.5,  # 设置百分比标签与圆心的距离\n",
    "        labeldistance = 1.1, # 设置标签与圆心的距离\n",
    "        startangle = 30, # 设置饼图的初始角度\n",
    "        radius = 1.2, # 设置饼图的半径\n",
    "        counterclock = False, # 是否逆时针，这里设置为顺时针方向\n",
    "        wedgeprops = {'linewidth': 1.5, 'edgecolor':'green'},# 设置饼图内外边界的属性值\n",
    "        textprops = {'fontsize':20, 'color':'black'}, # 设置文本标签的属性值\n",
    "        )\n",
    "plt.title('学历认证占比')\n",
    "plt.subplot(122)\n",
    "plt.bar(x = df_edu.index,height = df_edu['逾期占比'],color= ['c','g'])\n",
    "plt.title('不同学历的人逾期情况')\n",
    "plt.suptitle('不同学历的人客户画像',size=20)\n",
    "plt.show()"
   ]
  },
  {
   "cell_type": "markdown",
   "metadata": {},
   "source": [
    "* 拍拍贷的借款用户大专及以上和大专以下的用户几乎是1:1分布，逾期表现学历较低的用户逾期率高出学历较高用户，1.2%左右。"
   ]
  },
  {
   "cell_type": "markdown",
   "metadata": {},
   "source": [
    "##### 逾期用户画像—用户行为信息，是否完成淘宝认证，视频认证，户口认证，手机认证，征信认证客户逾期是否表现出差异。\n"
   ]
  },
  {
   "cell_type": "markdown",
   "metadata": {},
   "source": [
    "* 结合不同用户行为放贷笔数占比，观察不同用户行为的逾期表现是否存在差异。"
   ]
  },
  {
   "cell_type": "markdown",
   "metadata": {},
   "source": [
    "* 定义一个函数用来计算不同用户行为下的借款笔数和逾期比率"
   ]
  },
  {
   "cell_type": "code",
   "execution_count": null,
   "metadata": {},
   "outputs": [],
   "source": [
    "def trans(data,col,ind):\n",
    "    df  =  pd.pivot_table(data = data,columns =col,index =ind,values ='列表序号',aggfunc ='size')\n",
    "    df['借款笔数'] = df.apply(np.sum,axis=1)\n",
    "    df['借款笔数占比'] = df['借款笔数'] /df_edu['借款笔数'].sum()\n",
    "    df['逾期占比'] = df['逾期中'] /df['借款笔数']\n",
    "    \n",
    "    plt.figure(figsize=(12,9))\n",
    "    plt.subplot(121)\n",
    "    plt.pie(x = df_edu['借款笔数占比'], # 绘图数据\n",
    "            labels=['成功认证','未成功认证'], # 添加标签\n",
    "            colors=['red','yellow'], # 设置饼图的自定义填充色\n",
    "            autopct='%.1f%%', # 设置百分比的格式，这里保留一位小数\n",
    "            pctdistance=0.5,  # 设置百分比标签与圆心的距离\n",
    "            labeldistance = 1.1, # 设置标签与圆心的距离\n",
    "            startangle = 30, # 设置饼图的初始角度\n",
    "            radius = 1.2, # 设置饼图的半径\n",
    "            counterclock = False, # 是否逆时针，这里设置为顺时针方向\n",
    "            wedgeprops = {'linewidth': 1.5, 'edgecolor':'green'},# 设置饼图内外边界的属性值\n",
    "            textprops = {'fontsize':17, 'color':'black'}, # 设置文本标签的属性值\n",
    "            )\n",
    "    plt.title('%s占比' % ind)\n",
    "    plt.subplot(122)\n",
    "    plt.bar(x = df_edu.index,height = df_edu['逾期占比'],color= ['c','g'])\n",
    "    plt.title('不同%s的人逾期情况' % ind)\n",
    "    plt.suptitle('%s客户画像' % ind,size=20)\n",
    "    plt.show()\n",
    "    \n",
    "    return df"
   ]
  },
  {
   "cell_type": "code",
   "execution_count": null,
   "metadata": {},
   "outputs": [],
   "source": [
    "# 对淘宝认证进行分析\n",
    "trans(data=data,col = '标当前状态',ind = '淘宝认证')"
   ]
  },
  {
   "cell_type": "code",
   "execution_count": null,
   "metadata": {},
   "outputs": [],
   "source": [
    "#对手机进行认证\n",
    "trans(data=data,col = '标当前状态',ind = '手机认证')"
   ]
  },
  {
   "cell_type": "code",
   "execution_count": null,
   "metadata": {},
   "outputs": [],
   "source": []
  },
  {
   "cell_type": "markdown",
   "metadata": {},
   "source": [
    "* 由以上分析可知：\n",
    "\n",
    "* 淘宝成功认证的用户逾期率明显低于未成功认证的，分析发现拍拍贷平台淘宝认证是区分借款类型是否为电商，其他借款类型无需进行淘宝认证因此我们后续会将淘宝认证纳入借款类型中重新进行分析。\n",
    "\n",
    "* 手机认证是否成功逾期表现没有明显差异\n"
   ]
  },
  {
   "cell_type": "markdown",
   "metadata": {},
   "source": [
    "* 使用以上代码，请同学们依次完成对 视频认证 , 征信认证 和 户口认证 的分析"
   ]
  },
  {
   "cell_type": "markdown",
   "metadata": {},
   "source": [
    "## 五、结果解读"
   ]
  },
  {
   "cell_type": "markdown",
   "metadata": {},
   "source": [
    "* 总结：\n",
    "\n",
    "①在性别差异方面，男性客户借款笔数是女性客户的近两倍，逾期表现男性用户也高于女性客户，男性用户中逾期人数占比高出女性用户0.75%。\n",
    "\n",
    "②学历方面，拍拍贷的借款用户大专及以上和大专以下的用户几乎是1:1分布，逾期表现学历较低的用户逾期率高出学历较高用户，1.2%左右。\n",
    "\n",
    "③年龄分布上，23-36岁的用户借款额占平台总借款额的80%是，是平台借款用户的主力军。年龄段在25-30岁之间的借款笔数最多占44.9%左右，其逾期占比也是最低为3.07%，是比较优质的客户群体；逾期率最高的年龄段在55以上，逾期率高达5.88%。"
   ]
  },
  {
   "cell_type": "markdown",
   "metadata": {},
   "source": [
    "建议\n",
    "\n",
    "* 逾期用户画像：年龄在36岁以上尤其是55岁上，男性客户，学历在大专及以下。年龄在24-36岁的客户数量占总客户数量的80%，同时逾期率也在平均值以下是比较优质的客户。\n",
    "\n",
    "* 用户行为方面，视频认证，征信认证和户口认证成功的用户逾期率反而高于为认证成功的用户，建议平台不要过多依赖用户认证，对认证成功的客户也需要严格审核。"
   ]
  },
  {
   "cell_type": "code",
   "execution_count": null,
   "metadata": {},
   "outputs": [],
   "source": []
  }
 ],
 "metadata": {
  "kernelspec": {
   "display_name": "Python 3",
   "language": "python",
   "name": "python3"
  },
  "language_info": {
   "codemirror_mode": {
    "name": "ipython",
    "version": 3
   },
   "file_extension": ".py",
   "mimetype": "text/x-python",
   "name": "python",
   "nbconvert_exporter": "python",
   "pygments_lexer": "ipython3",
   "version": "3.7.1"
  }
 },
 "nbformat": 4,
 "nbformat_minor": 2
}
