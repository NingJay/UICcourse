{
 "cells": [
  {
   "cell_type": "markdown",
   "metadata": {},
   "source": [
    "# 电商平台零售数据分析\n"
   ]
  },
  {
   "cell_type": "markdown",
   "metadata": {},
   "source": [
    "## 一、提出问题"
   ]
  },
  {
   "cell_type": "markdown",
   "metadata": {},
   "source": [
    "* 项目背景\n",
    "* 此次项目数据来自Kaggle，包含了2010年12月1日至2011年12月9日在英国注册的非实体网上零售发生的所有交易。公司主要销售独特的全天候礼品。该公司的许多客户都是批发商。"
   ]
  },
  {
   "cell_type": "markdown",
   "metadata": {},
   "source": [
    "分析目的\n",
    "* 用户分类（RFM模型），对比分析不同用户群体在时间、地区等维度下交易量，交易金额指标，并根据分析结果提出优化建议。"
   ]
  },
  {
   "cell_type": "markdown",
   "metadata": {},
   "source": [
    "## 二. 理解数据\n"
   ]
  },
  {
   "cell_type": "code",
   "execution_count": null,
   "metadata": {},
   "outputs": [],
   "source": [
    "# 忽略警告提示\n",
    "import warnings\n",
    "warnings.filterwarnings('ignore')\n",
    "#导入处理数据包\n",
    "import matplotlib.pyplot as plt\n",
    "import pandas as pd\n",
    "import numpy as np\n",
    "import os\n",
    "os.chdir(r'E:\\云开明培训机构\\云开见明培训课件\\data summary\\第六章')"
   ]
  },
  {
   "cell_type": "code",
   "execution_count": null,
   "metadata": {},
   "outputs": [],
   "source": [
    "#导入可视化库\n",
    "import plotly as py \n",
    "import plotly.graph_objs as go\n",
    "py.offline.init_notebook_mode()# 初始化步骤\n",
    "pyplot = py.offline.iplot  #画图函数"
   ]
  },
  {
   "cell_type": "code",
   "execution_count": null,
   "metadata": {},
   "outputs": [],
   "source": [
    "# 读取数据\n",
    "df  = pd.read_csv('data.csv',encoding='utf-8',dtype= {'CustomerID':str})"
   ]
  },
  {
   "cell_type": "code",
   "execution_count": null,
   "metadata": {},
   "outputs": [],
   "source": [
    "df.shape"
   ]
  },
  {
   "cell_type": "code",
   "execution_count": null,
   "metadata": {},
   "outputs": [],
   "source": [
    "df.info()"
   ]
  },
  {
   "cell_type": "markdown",
   "metadata": {},
   "source": [
    "* 字段解释：\n",
    "\n",
    "InvoiceNo --> 订单号码： 6位字符串\n",
    "\n",
    "StockCode --> 产品代码： 6位字符串\n",
    "\n",
    "Description --> 产品描述\n",
    "\n",
    "Quantity --> 产品数量：交易产品数量\n",
    "\n",
    "InvoiceDate --> 订单日期：订单发生的日期和时间\n",
    "\n",
    "UnitPrice --> 单价：浮点数值\n",
    "\n",
    "CustomerID --> 顾客ID：5位字符串\n",
    "\n",
    "Country --> 国家：客户所在地\n"
   ]
  },
  {
   "cell_type": "markdown",
   "metadata": {},
   "source": [
    "## 三.  数据清洗"
   ]
  },
  {
   "cell_type": "code",
   "execution_count": null,
   "metadata": {},
   "outputs": [],
   "source": [
    "#统计缺失率\n",
    "df.apply(lambda x: sum(x.isnull())/len(x), axis=0)"
   ]
  },
  {
   "cell_type": "code",
   "execution_count": null,
   "metadata": {},
   "outputs": [],
   "source": [
    "# Description字段对于分析结果影响不大，选择直接删除改变量\n",
    "df.drop(['Description'],axis=1,inplace=True)\n",
    "# CustomerID字段为客户编号，不能直接删除，选择填充为U（表示未知）\n",
    "df['CustomerID'] = df['CustomerID'].fillna('U')"
   ]
  },
  {
   "cell_type": "markdown",
   "metadata": {},
   "source": [
    "* 为方便后续分析，将订单日期拆分，增加年月日时间四个字段；增加合计购买字段；"
   ]
  },
  {
   "cell_type": "code",
   "execution_count": null,
   "metadata": {},
   "outputs": [],
   "source": [
    "#增加合计购买金额（amount）=数量*金额\n",
    "df['amount']= df['Quantity']*df['UnitPrice']\n",
    "#订单日期切分\n",
    "df['data']=[x.split(' ')[0] for x in df['InvoiceDate']] \n",
    "df['time']=[x.split(' ')[1] for x in df['InvoiceDate']]\n",
    "df.drop(['InvoiceDate'],axis=1,inplace=True)\n",
    "df['year']=[x.split('/')[2] for x in df['data']]\n",
    "df['month']=[x.split('/')[0] for x in df['data']]\n",
    "df['day']=[x.split('/')[1] for x in df['data']]\n",
    "#转换日期格式\n",
    "df['date'] = pd.to_datetime(df['data'])\n",
    "df.head()"
   ]
  },
  {
   "cell_type": "code",
   "execution_count": null,
   "metadata": {},
   "outputs": [],
   "source": [
    "# 重复值处理\n",
    "df = df.drop_duplicates()"
   ]
  },
  {
   "cell_type": "code",
   "execution_count": null,
   "metadata": {},
   "outputs": [],
   "source": [
    "# 异常值处理\n",
    "df.describe()"
   ]
  },
  {
   "cell_type": "code",
   "execution_count": null,
   "metadata": {},
   "outputs": [],
   "source": [
    "# 查看数据发现商品数量和单价存在负值，进一步查看异常数据。\n",
    "# 商品数量异常\n",
    "df1 = df.loc[df['Quantity'] <= 0]\n",
    "print('异常数据比例：',df1.shape[0]/df.shape[0])"
   ]
  },
  {
   "cell_type": "markdown",
   "metadata": {},
   "source": [
    "* 从输出结果可以看出，数量为负数的订单都是订单号为‘C’开头的退货订单（实际业务中应找相关部门确认数据异常原因），先把这部分数据存放在另一个数据框内，后续进行分析。"
   ]
  },
  {
   "cell_type": "code",
   "execution_count": null,
   "metadata": {},
   "outputs": [],
   "source": [
    "df2 = df.loc[df['UnitPrice'] <= 0]\n",
    "print('异常数据比例：',df2.shape[0]/df.shape[0])"
   ]
  },
  {
   "cell_type": "code",
   "execution_count": null,
   "metadata": {},
   "outputs": [],
   "source": [
    "df2['UnitPrice'].head(10)"
   ]
  },
  {
   "cell_type": "code",
   "execution_count": null,
   "metadata": {},
   "outputs": [],
   "source": [
    "#查看数据发现单价为0的居多，查看单价分类\n",
    "df2['UnitPrice'].groupby(df2['UnitPrice']).count()"
   ]
  },
  {
   "cell_type": "markdown",
   "metadata": {},
   "source": [
    "* 查询单价异常结果一共2512条，其中2510条为单价为0，预计为促销赠品；还有2条单价是负数，明细为坏账记录。本次不做分析。"
   ]
  },
  {
   "cell_type": "markdown",
   "metadata": {},
   "source": [
    "## 四、数据分析"
   ]
  },
  {
   "cell_type": "markdown",
   "metadata": {},
   "source": [
    "### 1、退货订单分析"
   ]
  },
  {
   "cell_type": "markdown",
   "metadata": {},
   "source": [
    "* 指标一：退货率=退货合计金额/合计金额"
   ]
  },
  {
   "cell_type": "code",
   "execution_count": null,
   "metadata": {},
   "outputs": [],
   "source": [
    "# 退货合计金额\n",
    "tt = pd.pivot_table(df1,index=['year'],columns=['month'], values=['amount'], aggfunc={'amount':np.sum}, margins=False)\n",
    "sale_no = tt.iloc[0:2]\n",
    "sale_no.fillna(0)"
   ]
  },
  {
   "cell_type": "code",
   "execution_count": null,
   "metadata": {},
   "outputs": [],
   "source": [
    "# 合计金额\n",
    "df2 = df[(df['Quantity'] > 0)&(df['UnitPrice'] > 0)]\n",
    "pp = pd.pivot_table(df2,index=['year'],columns=['month'], values=['amount'], aggfunc={'amount':np.sum}, margins=False)\n",
    "sale = pp.iloc[0:2]\n",
    "sale.fillna(0)"
   ]
  },
  {
   "cell_type": "code",
   "execution_count": null,
   "metadata": {},
   "outputs": [],
   "source": [
    "# 退货率\n",
    "rate = round(tt/pp)"
   ]
  },
  {
   "cell_type": "code",
   "execution_count": null,
   "metadata": {},
   "outputs": [],
   "source": [
    "rate"
   ]
  },
  {
   "cell_type": "markdown",
   "metadata": {},
   "source": [
    "* 可以看到，退货率最高为2011年1月和12月，将结果可视化"
   ]
  },
  {
   "cell_type": "code",
   "execution_count": null,
   "metadata": {},
   "outputs": [],
   "source": []
  },
  {
   "cell_type": "markdown",
   "metadata": {},
   "source": [
    "* 2011年1月和12月退货率均高于平均退货率9%。特别是2011年12月，具体情况应该与相关部门沟通是什么原因导致，并且分析前几年的退货率，是否存在同样的问题。"
   ]
  },
  {
   "cell_type": "markdown",
   "metadata": {},
   "source": [
    "### 2、用户分类"
   ]
  },
  {
   "cell_type": "markdown",
   "metadata": {},
   "source": [
    "RFM模型是衡量客户价值和客户创利能力的重要工具和手段。通过一个客户的近期购买行为、购买的总体频率以及花了多少钱三项指标来描述该客户的价值状况。\n",
    "* R：最近一次消费时间（最近一次消费到参考时间的间隔）\n",
    "* F：消费的频次(消费了多少次）\n",
    "* M：消费的金额 （总消费金额）"
   ]
  },
  {
   "cell_type": "code",
   "execution_count": null,
   "metadata": {},
   "outputs": [],
   "source": [
    "#客户最近一次消费时间\n",
    "R_value=df2.groupby('CustomerID')['date'].max()\n",
    "#计算客户最后一次消费距离截止日期的天数\n",
    "R = (df2['date'].max()- R_value).dt.days\n",
    "\n",
    "#客户消费频率\n",
    "F = df2.groupby('CustomerID')['InvoiceNo'].nunique()\n",
    "\n",
    "#客户消费金额\n",
    "M = df2.groupby('CustomerID')['amount'].sum()"
   ]
  },
  {
   "cell_type": "markdown",
   "metadata": {},
   "source": [
    "* 分别查看R/F/M值，对其设置合理阈值，进行分层"
   ]
  },
  {
   "cell_type": "code",
   "execution_count": null,
   "metadata": {},
   "outputs": [],
   "source": [
    "R.describe()"
   ]
  },
  {
   "cell_type": "code",
   "execution_count": null,
   "metadata": {},
   "outputs": [],
   "source": [
    "import seaborn as sns\n",
    "sns.set(style='darkgrid',context='notebook',font_scale=1.2) # 设置背景\n",
    "# 支持中文显示\n",
    "plt.rcParams['font.sans-serif'] = ['SimHei']\n",
    "plt.rcParams['axes.unicode_minus'] = False\n",
    "plt.hist(R,bins =30)\n",
    "plt.show()"
   ]
  },
  {
   "cell_type": "markdown",
   "metadata": {},
   "source": [
    "* 可以看到，截止2011年12月9日，最后一次消费距离截止日期的天数平均为92天，方差为100，波动较大。距离天数最大超过一年。"
   ]
  },
  {
   "cell_type": "code",
   "execution_count": null,
   "metadata": {},
   "outputs": [],
   "source": [
    "# 查看F值\n",
    "F.describe()"
   ]
  },
  {
   "cell_type": "code",
   "execution_count": null,
   "metadata": {},
   "outputs": [],
   "source": [
    "plt.hist(F,bins =30)\n",
    "plt.show"
   ]
  },
  {
   "cell_type": "markdown",
   "metadata": {},
   "source": [
    "* 由于极值的影响，可视化不明显。"
   ]
  },
  {
   "cell_type": "code",
   "execution_count": null,
   "metadata": {},
   "outputs": [],
   "source": [
    "# 查看频次小于50的\n",
    "plt.hist(F[F<50],bins =30)\n",
    "plt.show"
   ]
  },
  {
   "cell_type": "markdown",
   "metadata": {},
   "source": [
    "* 可知，在2010年12月1日至2011年12月9日时间内，用户平均消费4.6次。其中，有用户在此期间消费了1428次，前面理解数据可知，该公司有许多客户都是批发商。所以不存在异常。"
   ]
  },
  {
   "cell_type": "code",
   "execution_count": null,
   "metadata": {},
   "outputs": [],
   "source": [
    "# 查看M值\n",
    "M.describe()"
   ]
  },
  {
   "cell_type": "code",
   "execution_count": null,
   "metadata": {},
   "outputs": [],
   "source": [
    "plt.hist(M,bins =30)\n",
    "plt.show"
   ]
  },
  {
   "cell_type": "code",
   "execution_count": null,
   "metadata": {},
   "outputs": [],
   "source": [
    "# 查看金额小于2000的分布"
   ]
  },
  {
   "cell_type": "code",
   "execution_count": null,
   "metadata": {},
   "outputs": [],
   "source": [
    "plt.hist(M[M<2000],bins =100)\n",
    "plt.show"
   ]
  },
  {
   "cell_type": "markdown",
   "metadata": {},
   "source": [
    "* 可知，因存在极值，平均值会被影响，通过查看中位数可知整体平均金额为668元。"
   ]
  },
  {
   "cell_type": "markdown",
   "metadata": {},
   "source": [
    "### 针对之前的分析，对用户进行分级"
   ]
  },
  {
   "cell_type": "markdown",
   "metadata": {},
   "source": [
    "* 分别计算r,f,m得分"
   ]
  },
  {
   "cell_type": "code",
   "execution_count": null,
   "metadata": {},
   "outputs": [],
   "source": [
    "R_bins  = [0,30,90,180,360,720]\n",
    "F_bins = [1,2,5,10,20,500]\n",
    "M_bins = [0,500,2000,5000,10000,200000]"
   ]
  },
  {
   "cell_type": "code",
   "execution_count": null,
   "metadata": {},
   "outputs": [],
   "source": [
    "# 数据离散化\n",
    "R_score = pd.cut(R,R_bins,labels = [5,4,3,2,1],right=False)\n",
    "F_score = pd.cut(F,F_bins,labels = [1,2,3,4,5],right=False)\n",
    "M_score = pd.cut(M,M_bins,labels = [1,2,3,4,5],right=False)"
   ]
  },
  {
   "cell_type": "code",
   "execution_count": null,
   "metadata": {},
   "outputs": [],
   "source": [
    "rfm = pd.concat([R_score,F_score,M_score],axis=1) #数据合并"
   ]
  },
  {
   "cell_type": "code",
   "execution_count": null,
   "metadata": {},
   "outputs": [],
   "source": [
    "rfm.rename(columns={'date':'R_score','InvoiceNo':'F_score','amount':'M_score'},inplace = True)"
   ]
  },
  {
   "cell_type": "code",
   "execution_count": null,
   "metadata": {},
   "outputs": [],
   "source": [
    "rfm.head()"
   ]
  },
  {
   "cell_type": "code",
   "execution_count": null,
   "metadata": {},
   "outputs": [],
   "source": [
    "#数据类型转换\n",
    "for i in ['R_score','F_score','M_score']:\n",
    "    rfm[i] = rfm[i].astype(float)   "
   ]
  },
  {
   "cell_type": "code",
   "execution_count": null,
   "metadata": {},
   "outputs": [],
   "source": [
    "rfm.describe()"
   ]
  },
  {
   "cell_type": "markdown",
   "metadata": {},
   "source": [
    "* 这里使用R/F/M得分的平均值为阈值，得分大于平均值设置为分值高，小于分值设置为分值低"
   ]
  },
  {
   "cell_type": "code",
   "execution_count": null,
   "metadata": {},
   "outputs": [],
   "source": [
    "rfm['R'] = np.where(rfm['R_score']>3.82,'高','低')"
   ]
  },
  {
   "cell_type": "code",
   "execution_count": null,
   "metadata": {},
   "outputs": [],
   "source": [
    "rfm['F'] = np.where(rfm['F_score']>2.03,'高','低')"
   ]
  },
  {
   "cell_type": "code",
   "execution_count": null,
   "metadata": {},
   "outputs": [],
   "source": [
    "rfm['M'] = np.where(rfm['M_score']>1.89,'高','低')"
   ]
  },
  {
   "cell_type": "code",
   "execution_count": null,
   "metadata": {},
   "outputs": [],
   "source": [
    "rfm.head()"
   ]
  },
  {
   "cell_type": "code",
   "execution_count": null,
   "metadata": {},
   "outputs": [],
   "source": [
    "rfm['value'] = rfm['R'].str[:] + rfm['F'].str[:]+rfm['M'].str[:] #字符串拼接"
   ]
  },
  {
   "cell_type": "code",
   "execution_count": null,
   "metadata": {},
   "outputs": [],
   "source": [
    "rfm['value'] = rfm['value'].str.strip()#去除字符串空格"
   ]
  },
  {
   "cell_type": "code",
   "execution_count": null,
   "metadata": {},
   "outputs": [],
   "source": [
    "def trans_value(x):\n",
    "    if x =='高高高':\n",
    "        return '重要价值客户'\n",
    "    elif x =='高低高':\n",
    "        return '重要发展客户'\n",
    "    elif x =='低高高':\n",
    "        return '重要保持客户'\n",
    "    elif x =='低低高':\n",
    "        return '重要挽留客户'\n",
    "    elif x =='高高低':\n",
    "        return '一般价值客户'\n",
    "    elif x =='高低低':\n",
    "        return '一般发展客户'\n",
    "    elif x =='低高低':\n",
    "        return '一般保持客户'\n",
    "    else:\n",
    "        return '一般挽留客户'"
   ]
  },
  {
   "cell_type": "code",
   "execution_count": null,
   "metadata": {},
   "outputs": [],
   "source": [
    "rfm['用户等级'] = rfm['value'].apply( trans_value)"
   ]
  },
  {
   "cell_type": "code",
   "execution_count": null,
   "metadata": {},
   "outputs": [],
   "source": [
    "rfm['用户等级'].value_counts()"
   ]
  },
  {
   "cell_type": "code",
   "execution_count": null,
   "metadata": {},
   "outputs": [],
   "source": [
    "# 对结果可视化\n",
    "trace_basic = [go.Bar(x =rfm['用户等级'].value_counts().index.tolist(),y =rfm['用户等级'].value_counts().values.tolist(),\n",
    "                      marker=dict(color='orange'),opacity=0.50)] #透明度\n",
    "layout = go.Layout(title = '用户等级情况', xaxis =dict(title ='用户重要度'))\n",
    "figure_basic = go.Figure(data = trace_basic,layout=layout)# data与layout组成一个图象对象\n",
    "pyplot(figure_basic) #输出"
   ]
  },
  {
   "cell_type": "code",
   "execution_count": null,
   "metadata": {},
   "outputs": [],
   "source": [
    "trace = [go.Pie(labels = rfm['用户等级'].value_counts().index, values =rfm['用户等级'].value_counts().values,hole=0.2,  \\\n",
    "               textfont =dict(size=12,color ='white'))]                 # hole中间部分\n",
    "layout = go.Layout(title = '用户等级比例')\n",
    "fig = go.Figure(data = trace,layout=layout) # data与layout组成一个图象对象\n",
    "pyplot(fig) #输出"
   ]
  },
  {
   "cell_type": "markdown",
   "metadata": {},
   "source": [
    "五 结论和建议"
   ]
  },
  {
   "cell_type": "markdown",
   "metadata": {},
   "source": [
    "\n",
    "* 1、针对退货订单，2011年1月与11月退货率存在异常，需要了解是外部因素还是内部因素导致的。从产品，渠道，价格，促销四个方面分析原因，找到原因，进行改进。\n",
    "\n",
    "* 2、用户分层，得到8个类别的客户。根据数据可知，该公司用户数最多的为重要价值客户，重要发展客户，占总用户数的47%。对于重要发展客户，由于最近交易较少，建议及时推送公司活动及相关产品信息，唤回客户；其次最多的的为一般发展用户和一般挽留客户，占总用户数40%。针对一般发展用户，获取该类用户详细数据进行用户画像，了解用户消费需求，及时推送产品信息；对于重要保持客户和重要挽留客户，以赠送优惠券或者推送折扣信息等措施增加用户活跃度。\n",
    "* 在真实项目中，由于给客户进行营销会有相关成本，应该按照客户的特征和比例进行相应的分配,已使得营销费用利用率最大化"
   ]
  },
  {
   "cell_type": "code",
   "execution_count": null,
   "metadata": {},
   "outputs": [],
   "source": []
  },
  {
   "cell_type": "code",
   "execution_count": null,
   "metadata": {},
   "outputs": [],
   "source": []
  }
 ],
 "metadata": {
  "kernelspec": {
   "display_name": "Python 3",
   "language": "python",
   "name": "python3"
  },
  "language_info": {
   "codemirror_mode": {
    "name": "ipython",
    "version": 3
   },
   "file_extension": ".py",
   "mimetype": "text/x-python",
   "name": "python",
   "nbconvert_exporter": "python",
   "pygments_lexer": "ipython3",
   "version": "3.7.1"
  }
 },
 "nbformat": 4,
 "nbformat_minor": 2
}
