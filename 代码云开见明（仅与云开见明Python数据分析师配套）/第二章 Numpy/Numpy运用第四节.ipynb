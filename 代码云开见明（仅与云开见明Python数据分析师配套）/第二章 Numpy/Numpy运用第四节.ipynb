{
 "cells": [
  {
   "cell_type": "markdown",
   "metadata": {},
   "source": [
    "# Numpy运用"
   ]
  },
  {
   "cell_type": "markdown",
   "metadata": {},
   "source": [
    "## Numpy文件读写:   使用Numpy读写文件和存储文件，例如txt和csv 文件\n"
   ]
  },
  {
   "cell_type": "markdown",
   "metadata": {},
   "source": [
    "### 1. Numpy随机数生成\n"
   ]
  },
  {
   "cell_type": "code",
   "execution_count": null,
   "metadata": {},
   "outputs": [],
   "source": [
    "# 手动创建的数组往往可能受限制，有时候需要创建随机数，但计算机产生的都是伪随机数"
   ]
  },
  {
   "cell_type": "code",
   "execution_count": null,
   "metadata": {},
   "outputs": [],
   "source": [
    "import numpy as np"
   ]
  },
  {
   "cell_type": "code",
   "execution_count": null,
   "metadata": {},
   "outputs": [],
   "source": [
    "np.random.random(100) #生成0到1之间的随机数"
   ]
  },
  {
   "cell_type": "code",
   "execution_count": null,
   "metadata": {},
   "outputs": [],
   "source": [
    "# 固定随机数种子"
   ]
  },
  {
   "cell_type": "code",
   "execution_count": null,
   "metadata": {},
   "outputs": [],
   "source": [
    "np.random.seed(100)\n",
    "np.random.random(100) #生成0到1之间的随机数"
   ]
  },
  {
   "cell_type": "code",
   "execution_count": null,
   "metadata": {},
   "outputs": [],
   "source": []
  },
  {
   "cell_type": "code",
   "execution_count": null,
   "metadata": {},
   "outputs": [],
   "source": [
    "np.random.rand(2,10)#生成均匀分布的随机数,指定形状,产生的均匀分布的"
   ]
  },
  {
   "cell_type": "code",
   "execution_count": null,
   "metadata": {},
   "outputs": [],
   "source": [
    "#产生1到100之间的100个随机整数\n",
    "np.random.randint(0,100,size= 100)"
   ]
  },
  {
   "cell_type": "code",
   "execution_count": null,
   "metadata": {},
   "outputs": [],
   "source": []
  },
  {
   "cell_type": "code",
   "execution_count": null,
   "metadata": {},
   "outputs": [],
   "source": [
    "np.random.uniform(low=0,high=10,size=100) #生成0到10范围内均为分布的随机数"
   ]
  },
  {
   "cell_type": "code",
   "execution_count": 260,
   "metadata": {},
   "outputs": [],
   "source": [
    "#\n",
    "np.set_printoptions(precision=2)# 控制小数位数"
   ]
  },
  {
   "cell_type": "code",
   "execution_count": 211,
   "metadata": {},
   "outputs": [
    {
     "data": {
      "text/plain": [
       "array([ 2.08,  0.73, -0.53, -0.52,  4.59,  3.41, -0.9 , -1.37,  1.34,\n",
       "        2.31,  2.21, -4.08,  2.26,  6.21, -0.68, -0.89, -4.7 ,  5.14,\n",
       "       -0.4 , -2.66,  0.32, -2.44,  1.78, -0.66, -0.36,  7.12,  1.  ,\n",
       "       -2.07,  1.51, -3.21,  0.31,  3.3 ,  2.92,  1.52, -6.84, -0.19,\n",
       "        5.98, -3.31,  4.31,  2.33,  5.01,  5.07, -2.46,  0.84, -1.44,\n",
       "       -1.26,  0.98, -4.37, -0.62,  2.03, -4.52,  0.57,  3.11, -2.27,\n",
       "        0.32, -1.18,  7.36,  2.62,  5.77,  2.54,  2.67,  1.4 , -0.92,\n",
       "        1.99, -1.03,  2.59,  5.01,  1.5 , -0.97, -4.68, -1.8 , -1.4 ,\n",
       "       -2.05,  6.72,  3.44,  1.18, -0.91, -0.46, -0.63,  1.09,  1.82,\n",
       "        1.93, -0.93,  5.86,  4.19,  1.04,  5.82,  0.56, -4.31, -1.5 ,\n",
       "        0.11,  2.27, -0.49, -2.62,  0.85,  0.32, -1.46,  2.53,  7.94,\n",
       "        1.14])"
      ]
     },
     "execution_count": 211,
     "metadata": {},
     "output_type": "execute_result"
    }
   ],
   "source": [
    "np.random.normal(1,3,size = 100) #生成正态分布随机数,均值和标准差"
   ]
  },
  {
   "cell_type": "code",
   "execution_count": null,
   "metadata": {},
   "outputs": [],
   "source": [
    "np.random.randn(10,2) #生成标准正态分布随机数，2维"
   ]
  },
  {
   "cell_type": "code",
   "execution_count": null,
   "metadata": {},
   "outputs": [],
   "source": [
    "samples = np.random.normal(size=(4,4))\n",
    "print(samples)\n",
    "# 生成一个标准正太分布的4*4样本值"
   ]
  },
  {
   "cell_type": "code",
   "execution_count": null,
   "metadata": {},
   "outputs": [],
   "source": [
    "s = np.array([1,2,5,7,9,10])"
   ]
  },
  {
   "cell_type": "code",
   "execution_count": null,
   "metadata": {},
   "outputs": [],
   "source": [
    "np.random.shuffle(s)# 打乱S"
   ]
  },
  {
   "cell_type": "code",
   "execution_count": null,
   "metadata": {},
   "outputs": [],
   "source": [
    "s"
   ]
  },
  {
   "cell_type": "code",
   "execution_count": null,
   "metadata": {},
   "outputs": [],
   "source": [
    "np.random.permutation(s) #重新排列"
   ]
  },
  {
   "cell_type": "markdown",
   "metadata": {},
   "source": [
    "### 2. Numpy统计相关函数\n"
   ]
  },
  {
   "cell_type": "code",
   "execution_count": null,
   "metadata": {},
   "outputs": [],
   "source": [
    "# 读取csv文件\n",
    "data = np.genfromtxt(r'E:\\云开明培训机构\\云开见明培训课件\\Numpy运用\\arr.txt',delimiter=',',skip_header= 1)"
   ]
  },
  {
   "cell_type": "code",
   "execution_count": null,
   "metadata": {},
   "outputs": [],
   "source": [
    "data.shape"
   ]
  },
  {
   "cell_type": "code",
   "execution_count": null,
   "metadata": {},
   "outputs": [],
   "source": [
    "data.sum()#求和"
   ]
  },
  {
   "cell_type": "code",
   "execution_count": null,
   "metadata": {},
   "outputs": [],
   "source": [
    "data.mean() #求均值"
   ]
  },
  {
   "cell_type": "code",
   "execution_count": null,
   "metadata": {},
   "outputs": [],
   "source": [
    "print(data.sum(axis=0)) #对列进行求和"
   ]
  },
  {
   "cell_type": "code",
   "execution_count": null,
   "metadata": {},
   "outputs": [],
   "source": [
    "print(data.mean(axis=0)) #对列进行求均值"
   ]
  },
  {
   "cell_type": "markdown",
   "metadata": {},
   "source": [
    "* 0代表纵轴，即沿着纵轴计算，就是按列计算，1代表横轴，即沿着横轴，就是按行进行计算"
   ]
  },
  {
   "cell_type": "code",
   "execution_count": null,
   "metadata": {},
   "outputs": [],
   "source": [
    "print(data.sum(axis=1)) #对行进行求和 \n",
    "print(data.mean(axis=1)) #对行进行求和均值"
   ]
  },
  {
   "cell_type": "code",
   "execution_count": null,
   "metadata": {},
   "outputs": [],
   "source": [
    "print(data.cumsum()) #累计求和"
   ]
  },
  {
   "cell_type": "code",
   "execution_count": null,
   "metadata": {},
   "outputs": [],
   "source": [
    "print(data.cumsum(axis=1)) #累计求和"
   ]
  },
  {
   "cell_type": "code",
   "execution_count": null,
   "metadata": {},
   "outputs": [],
   "source": [
    "print(data.cumprod()) #累计积\n"
   ]
  },
  {
   "cell_type": "code",
   "execution_count": null,
   "metadata": {},
   "outputs": [],
   "source": [
    "print(data.cumprod(axis=0))"
   ]
  },
  {
   "cell_type": "code",
   "execution_count": null,
   "metadata": {},
   "outputs": [],
   "source": [
    "print(data.cumprod(axis=1))"
   ]
  },
  {
   "cell_type": "code",
   "execution_count": null,
   "metadata": {},
   "outputs": [],
   "source": [
    "print(data.max()) #最大值"
   ]
  },
  {
   "cell_type": "code",
   "execution_count": null,
   "metadata": {},
   "outputs": [],
   "source": [
    "print(data.max(axis=0))"
   ]
  },
  {
   "cell_type": "code",
   "execution_count": null,
   "metadata": {},
   "outputs": [],
   "source": [
    "print(data.max(axis=1))"
   ]
  },
  {
   "cell_type": "markdown",
   "metadata": {},
   "source": [
    "* np.percentile用于计算分位数"
   ]
  },
  {
   "cell_type": "code",
   "execution_count": null,
   "metadata": {},
   "outputs": [],
   "source": [
    "np.percentile(data,10)"
   ]
  },
  {
   "cell_type": "code",
   "execution_count": 199,
   "metadata": {},
   "outputs": [
    {
     "data": {
      "text/plain": [
       "array([0.002688  , 0.31808625, 0.516569  , 0.74815075, 0.995358  ])"
      ]
     },
     "execution_count": 199,
     "metadata": {},
     "output_type": "execute_result"
    }
   ],
   "source": [
    "np.percentile(data,[0,25,50,75,100])"
   ]
  },
  {
   "cell_type": "markdown",
   "metadata": {},
   "source": [
    "* np.ptp用于计算极差"
   ]
  },
  {
   "cell_type": "code",
   "execution_count": null,
   "metadata": {},
   "outputs": [],
   "source": [
    "np.ptp(data)"
   ]
  },
  {
   "cell_type": "code",
   "execution_count": null,
   "metadata": {},
   "outputs": [],
   "source": [
    "np.ptp(data,axis=0)"
   ]
  },
  {
   "cell_type": "code",
   "execution_count": null,
   "metadata": {},
   "outputs": [],
   "source": [
    "np.ptp(data,axis=1)"
   ]
  },
  {
   "cell_type": "code",
   "execution_count": 198,
   "metadata": {},
   "outputs": [
    {
     "data": {
      "text/plain": [
       "33"
      ]
     },
     "execution_count": 198,
     "metadata": {},
     "output_type": "execute_result"
    }
   ],
   "source": [
    "# 大于3的元素个数总数\n",
    "np.sum(data>0.3)"
   ]
  },
  {
   "cell_type": "markdown",
   "metadata": {},
   "source": [
    "### 3. Numpy线性代数"
   ]
  },
  {
   "cell_type": "code",
   "execution_count": 215,
   "metadata": {},
   "outputs": [
    {
     "name": "stdout",
     "output_type": "stream",
     "text": [
      "一维数组的点积：\n",
      " 32\n"
     ]
    }
   ],
   "source": [
    "# 一维数组的点积\n",
    "a = np.array([1,2,3])\n",
    "b = np.array([4,5,6])\n",
    "vector_dot = np.dot(a, b)\n",
    "print('一维数组的点积：\\n',vector_dot)"
   ]
  },
  {
   "cell_type": "code",
   "execution_count": 241,
   "metadata": {},
   "outputs": [],
   "source": [
    "arr5 = np.array([5,15,25,40]).reshape(4,1)\n",
    "arr6 = np.arange(12).reshape(3,4)"
   ]
  },
  {
   "cell_type": "code",
   "execution_count": 242,
   "metadata": {},
   "outputs": [],
   "source": [
    "arr2d = np.dot(arr6,arr5)"
   ]
  },
  {
   "cell_type": "code",
   "execution_count": 249,
   "metadata": {},
   "outputs": [
    {
     "data": {
      "text/plain": [
       "array([[185],\n",
       "       [525],\n",
       "       [865]])"
      ]
     },
     "execution_count": 249,
     "metadata": {},
     "output_type": "execute_result"
    }
   ],
   "source": [
    "arr2d"
   ]
  },
  {
   "cell_type": "code",
   "execution_count": 246,
   "metadata": {},
   "outputs": [
    {
     "data": {
      "text/plain": [
       "array([[ 28,  64],\n",
       "       [ 67, 181]])"
      ]
     },
     "execution_count": 246,
     "metadata": {},
     "output_type": "execute_result"
    }
   ],
   "source": [
    "arr9 = np.array([[1,2,3],[4,5,6]])\n",
    "arr10 = np.array([[6,23],[-1,7],[8,9]])\n",
    "np.dot(arr9,arr10)"
   ]
  },
  {
   "cell_type": "code",
   "execution_count": 251,
   "metadata": {},
   "outputs": [],
   "source": [
    "arr11 = np.array([[6,-1],[8,1]])\n",
    "arr12 = np.array([[6,10],[-1,1]])"
   ]
  },
  {
   "cell_type": "code",
   "execution_count": 252,
   "metadata": {},
   "outputs": [
    {
     "data": {
      "text/plain": [
       "array([[37, 59],\n",
       "       [47, 81]])"
      ]
     },
     "execution_count": 252,
     "metadata": {},
     "output_type": "execute_result"
    }
   ],
   "source": [
    "np.dot(arr11,arr12)"
   ]
  },
  {
   "cell_type": "code",
   "execution_count": 253,
   "metadata": {},
   "outputs": [
    {
     "data": {
      "text/plain": [
       "array([[ 36, -10],\n",
       "       [ -8,   1]])"
      ]
     },
     "execution_count": 253,
     "metadata": {},
     "output_type": "execute_result"
    }
   ],
   "source": [
    "arr11*arr12"
   ]
  },
  {
   "cell_type": "code",
   "execution_count": 255,
   "metadata": {},
   "outputs": [
    {
     "data": {
      "text/plain": [
       "array([[ 8.5,  1.5,  3.2, 11.2, 12. ],\n",
       "       [ 6. ,  3. ,  4.5, 13.4,  3.4],\n",
       "       [ 4.1,  5.4,  6. , 15.6,  1.2],\n",
       "       [ 2. ,  7.3,  3. , 17.8,  4. ],\n",
       "       [ 0.7,  9. ,  9. , 19. ,  7. ]])"
      ]
     },
     "execution_count": 255,
     "metadata": {},
     "output_type": "execute_result"
    }
   ],
   "source": [
    "# 矩阵的转置\n",
    "data2 = ((8.5,6,4.1,2,0.7),(1.5,3,5.4,7.3,9),(3.2,4.5,6,3,9),(11.2,13.4,15.6,17.8,19),(12,3.4,1.2,4,7))\n",
    "arr2 = np.array(data2)\n",
    "arr2.T"
   ]
  },
  {
   "cell_type": "code",
   "execution_count": 256,
   "metadata": {},
   "outputs": [
    {
     "data": {
      "text/plain": [
       "array([[ 8.5,  1.5,  3.2, 11.2, 12. ],\n",
       "       [ 6. ,  3. ,  4.5, 13.4,  3.4],\n",
       "       [ 4.1,  5.4,  6. , 15.6,  1.2],\n",
       "       [ 2. ,  7.3,  3. , 17.8,  4. ],\n",
       "       [ 0.7,  9. ,  9. , 19. ,  7. ]])"
      ]
     },
     "execution_count": 256,
     "metadata": {},
     "output_type": "execute_result"
    }
   ],
   "source": [
    "np.transpose(arr2)"
   ]
  },
  {
   "cell_type": "code",
   "execution_count": 257,
   "metadata": {},
   "outputs": [
    {
     "name": "stdout",
     "output_type": "stream",
     "text": [
      "[[ 0.38  0.65 -0.05 -0.31  0.03]\n",
      " [-1.04 -2.13  0.15  0.95  0.08]\n",
      " [ 1.05  1.84 -0.03 -0.82 -0.2 ]\n",
      " [-0.06  0.   -0.21  0.09  0.01]\n",
      " [-0.3  -0.39  0.14  0.15  0.08]]\n"
     ]
    }
   ],
   "source": [
    "#逆矩阵\n",
    "from numpy.linalg import inv\n",
    "arr2_inv = inv(arr2)\n",
    "print(arr2_inv)"
   ]
  },
  {
   "cell_type": "code",
   "execution_count": 265,
   "metadata": {},
   "outputs": [
    {
     "data": {
      "text/plain": [
       "array([[ 1.e+00, -2.e-15, -6.e-16, -2.e-15, -1.e-15],\n",
       "       [ 2.e-15,  1.e+00,  3.e-15,  6.e-15,  4.e-15],\n",
       "       [-8.e-16, -2.e-15,  1.e+00, -8.e-16, -5.e-16],\n",
       "       [-6.e-17,  7.e-17, -8.e-17,  1.e+00,  7.e-17],\n",
       "       [-6.e-16,  5.e-16,  6.e-17,  3.e-16,  1.e+00]])"
      ]
     },
     "execution_count": 265,
     "metadata": {},
     "output_type": "execute_result"
    }
   ],
   "source": [
    "np.dot(arr2_inv,arr2)"
   ]
  },
  {
   "cell_type": "code",
   "execution_count": 272,
   "metadata": {},
   "outputs": [
    {
     "data": {
      "text/plain": [
       "array([[ 1., -0., -0., -0., -0.],\n",
       "       [ 0.,  1.,  0.,  0.,  0.],\n",
       "       [-0., -0.,  1., -0., -0.],\n",
       "       [-0.,  0., -0.,  1.,  0.],\n",
       "       [-0.,  0.,  0.,  0.,  1.]])"
      ]
     },
     "execution_count": 272,
     "metadata": {},
     "output_type": "execute_result"
    }
   ],
   "source": [
    "np.set_printoptions(suppress=True)# 控制小数位数\n",
    "np.dot(arr2_inv,arr2)\n"
   ]
  },
  {
   "cell_type": "code",
   "execution_count": 280,
   "metadata": {},
   "outputs": [
    {
     "name": "stdout",
     "output_type": "stream",
     "text": [
      "5x5的矩阵: \n",
      " [[ 8.5  6.   4.1  2.   0.7]\n",
      " [ 1.5  3.   5.4  7.3  9. ]\n",
      " [ 3.2  4.5  6.   3.   9. ]\n",
      " [11.2 13.4 15.6 17.8 19. ]\n",
      " [12.   3.4  1.2  4.   7. ]]\n",
      "取出矩阵的主对角线元素: \n",
      " [ 8.5  3.   6.  17.8  7. ]\n"
     ]
    }
   ],
   "source": [
    "# 求对角元素\n",
    "print('5x5的矩阵: \\n',arr2)\n",
    "print('取出矩阵的主对角线元素: \\n', np.diag(arr2))"
   ]
  },
  {
   "cell_type": "markdown",
   "metadata": {},
   "source": [
    "* 求解方程组"
   ]
  },
  {
   "cell_type": "markdown",
   "metadata": {},
   "source": [
    "* 3x + 2y + z  = 39;\n",
    "* 2x + 3y + z  = 34;\n",
    "* x  + 2y + 3z = 26;"
   ]
  },
  {
   "cell_type": "code",
   "execution_count": null,
   "metadata": {},
   "outputs": [],
   "source": [
    "# 首先创建矩阵"
   ]
  },
  {
   "cell_type": "code",
   "execution_count": null,
   "metadata": {},
   "outputs": [],
   "source": [
    "A = np.array([[3,2,1],[2,3,1],[1,2,3]]) #3行3列"
   ]
  },
  {
   "cell_type": "code",
   "execution_count": 284,
   "metadata": {},
   "outputs": [],
   "source": [
    "b = np.array([[39],[34],[26]]) # 3行一列"
   ]
  },
  {
   "cell_type": "code",
   "execution_count": 285,
   "metadata": {},
   "outputs": [
    {
     "name": "stdout",
     "output_type": "stream",
     "text": [
      "三元一次方程组的解：\n",
      " [[9.25]\n",
      " [4.25]\n",
      " [2.75]]\n"
     ]
    }
   ],
   "source": [
    "X = np.linalg.solve(A,b)\n",
    "print('三元一次方程组的解：\\n',X)"
   ]
  },
  {
   "cell_type": "markdown",
   "metadata": {},
   "source": [
    "* https://www.kesci.com/home/project"
   ]
  },
  {
   "cell_type": "code",
   "execution_count": null,
   "metadata": {},
   "outputs": [],
   "source": []
  }
 ],
 "metadata": {
  "kernelspec": {
   "display_name": "Python 3",
   "language": "python",
   "name": "python3"
  },
  "language_info": {
   "codemirror_mode": {
    "name": "ipython",
    "version": 3
   },
   "file_extension": ".py",
   "mimetype": "text/x-python",
   "name": "python",
   "nbconvert_exporter": "python",
   "pygments_lexer": "ipython3",
   "version": "3.7.1"
  }
 },
 "nbformat": 4,
 "nbformat_minor": 2
}
