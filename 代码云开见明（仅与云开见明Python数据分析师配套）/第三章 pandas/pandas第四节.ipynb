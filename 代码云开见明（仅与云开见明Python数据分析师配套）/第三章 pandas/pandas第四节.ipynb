{
 "cells": [
  {
   "cell_type": "markdown",
   "metadata": {},
   "source": [
    "# Pandas数据分析运用"
   ]
  },
  {
   "cell_type": "markdown",
   "metadata": {},
   "source": [
    "## Pandas数据预处理: 利用pandas进行缺失值、异常值和数据离散化等处理"
   ]
  },
  {
   "cell_type": "markdown",
   "metadata": {},
   "source": [
    "### 1. pandas其他函数"
   ]
  },
  {
   "cell_type": "markdown",
   "metadata": {},
   "source": [
    "* 通过数据转换案例掌握相关函数"
   ]
  },
  {
   "cell_type": "code",
   "execution_count": 1,
   "metadata": {},
   "outputs": [],
   "source": [
    "import pandas as pd\n",
    "import numpy as np\n",
    "import os"
   ]
  },
  {
   "cell_type": "code",
   "execution_count": 2,
   "metadata": {},
   "outputs": [],
   "source": [
    "os.chdir(r'E:\\云开明培训机构\\云开见明培训课件\\data summary\\第三章')"
   ]
  },
  {
   "cell_type": "code",
   "execution_count": 3,
   "metadata": {},
   "outputs": [],
   "source": [
    "sec_cars = pd.read_csv('sec_cars.csv', sep=',',na_values='暂无')"
   ]
  },
  {
   "cell_type": "code",
   "execution_count": 4,
   "metadata": {},
   "outputs": [
    {
     "data": {
      "text/plain": [
       "Brand             object\n",
       "Name              object\n",
       "Boarding_time     object\n",
       "Km(W)            float64\n",
       "Discharge         object\n",
       "Sec_price        float64\n",
       "New_price         object\n",
       "dtype: object"
      ]
     },
     "execution_count": 4,
     "metadata": {},
     "output_type": "execute_result"
    }
   ],
   "source": [
    "sec_cars.dtypes"
   ]
  },
  {
   "cell_type": "code",
   "execution_count": 5,
   "metadata": {},
   "outputs": [
    {
     "data": {
      "text/html": [
       "<div>\n",
       "<style scoped>\n",
       "    .dataframe tbody tr th:only-of-type {\n",
       "        vertical-align: middle;\n",
       "    }\n",
       "\n",
       "    .dataframe tbody tr th {\n",
       "        vertical-align: top;\n",
       "    }\n",
       "\n",
       "    .dataframe thead th {\n",
       "        text-align: right;\n",
       "    }\n",
       "</style>\n",
       "<table border=\"1\" class=\"dataframe\">\n",
       "  <thead>\n",
       "    <tr style=\"text-align: right;\">\n",
       "      <th></th>\n",
       "      <th>Brand</th>\n",
       "      <th>Name</th>\n",
       "      <th>Boarding_time</th>\n",
       "      <th>Km(W)</th>\n",
       "      <th>Discharge</th>\n",
       "      <th>Sec_price</th>\n",
       "      <th>New_price</th>\n",
       "    </tr>\n",
       "  </thead>\n",
       "  <tbody>\n",
       "    <tr>\n",
       "      <th>0</th>\n",
       "      <td>众泰</td>\n",
       "      <td>众泰T600 2016款 1.5T 手动 豪华型</td>\n",
       "      <td>2016年5月</td>\n",
       "      <td>3.96</td>\n",
       "      <td>国4</td>\n",
       "      <td>6.8</td>\n",
       "      <td>9.42万</td>\n",
       "    </tr>\n",
       "    <tr>\n",
       "      <th>1</th>\n",
       "      <td>众泰</td>\n",
       "      <td>众泰Z700 2016款 1.8T 手动 典雅型</td>\n",
       "      <td>2017年8月</td>\n",
       "      <td>0.08</td>\n",
       "      <td>国4,国5</td>\n",
       "      <td>8.8</td>\n",
       "      <td>11.92万</td>\n",
       "    </tr>\n",
       "    <tr>\n",
       "      <th>2</th>\n",
       "      <td>众泰</td>\n",
       "      <td>大迈X5 2015款 1.5T 手动 豪华型</td>\n",
       "      <td>2016年9月</td>\n",
       "      <td>0.80</td>\n",
       "      <td>国4</td>\n",
       "      <td>5.8</td>\n",
       "      <td>8.56万</td>\n",
       "    </tr>\n",
       "    <tr>\n",
       "      <th>3</th>\n",
       "      <td>众泰</td>\n",
       "      <td>众泰T600 2017款 1.5T 手动 精英贺岁版</td>\n",
       "      <td>2017年3月</td>\n",
       "      <td>0.30</td>\n",
       "      <td>国5</td>\n",
       "      <td>6.2</td>\n",
       "      <td>8.66万</td>\n",
       "    </tr>\n",
       "    <tr>\n",
       "      <th>4</th>\n",
       "      <td>众泰</td>\n",
       "      <td>众泰T600 2016款 1.5T 手动 旗舰型</td>\n",
       "      <td>2016年2月</td>\n",
       "      <td>1.70</td>\n",
       "      <td>国4</td>\n",
       "      <td>7.0</td>\n",
       "      <td>11.59万</td>\n",
       "    </tr>\n",
       "  </tbody>\n",
       "</table>\n",
       "</div>"
      ],
      "text/plain": [
       "  Brand                        Name Boarding_time  Km(W) Discharge  Sec_price  \\\n",
       "0    众泰    众泰T600 2016款 1.5T 手动 豪华型       2016年5月   3.96        国4        6.8   \n",
       "1    众泰    众泰Z700 2016款 1.8T 手动 典雅型       2017年8月   0.08     国4,国5        8.8   \n",
       "2    众泰      大迈X5 2015款 1.5T 手动 豪华型       2016年9月   0.80        国4        5.8   \n",
       "3    众泰  众泰T600 2017款 1.5T 手动 精英贺岁版       2017年3月   0.30        国5        6.2   \n",
       "4    众泰    众泰T600 2016款 1.5T 手动 旗舰型       2016年2月   1.70        国4        7.0   \n",
       "\n",
       "  New_price  \n",
       "0     9.42万  \n",
       "1    11.92万  \n",
       "2     8.56万  \n",
       "3     8.66万  \n",
       "4    11.59万  "
      ]
     },
     "execution_count": 5,
     "metadata": {},
     "output_type": "execute_result"
    }
   ],
   "source": [
    "sec_cars.head(5)"
   ]
  },
  {
   "cell_type": "code",
   "execution_count": 6,
   "metadata": {},
   "outputs": [],
   "source": [
    "#上牌时间应该为时间类型，新车价格应该为浮点型类型\n",
    "sec_cars['Boarding_time'] = pd.to_datetime(sec_cars['Boarding_time'],format ='%Y年%m月',errors = 'coerce')#加上这个以防止数据格式有些数据不匹配"
   ]
  },
  {
   "cell_type": "code",
   "execution_count": 7,
   "metadata": {},
   "outputs": [
    {
     "data": {
      "text/html": [
       "<div>\n",
       "<style scoped>\n",
       "    .dataframe tbody tr th:only-of-type {\n",
       "        vertical-align: middle;\n",
       "    }\n",
       "\n",
       "    .dataframe tbody tr th {\n",
       "        vertical-align: top;\n",
       "    }\n",
       "\n",
       "    .dataframe thead th {\n",
       "        text-align: right;\n",
       "    }\n",
       "</style>\n",
       "<table border=\"1\" class=\"dataframe\">\n",
       "  <thead>\n",
       "    <tr style=\"text-align: right;\">\n",
       "      <th></th>\n",
       "      <th>Brand</th>\n",
       "      <th>Name</th>\n",
       "      <th>Boarding_time</th>\n",
       "      <th>Km(W)</th>\n",
       "      <th>Discharge</th>\n",
       "      <th>Sec_price</th>\n",
       "      <th>New_price</th>\n",
       "    </tr>\n",
       "  </thead>\n",
       "  <tbody>\n",
       "    <tr>\n",
       "      <th>0</th>\n",
       "      <td>众泰</td>\n",
       "      <td>众泰T600 2016款 1.5T 手动 豪华型</td>\n",
       "      <td>2016-05-01</td>\n",
       "      <td>3.96</td>\n",
       "      <td>国4</td>\n",
       "      <td>6.8</td>\n",
       "      <td>9.42万</td>\n",
       "    </tr>\n",
       "    <tr>\n",
       "      <th>1</th>\n",
       "      <td>众泰</td>\n",
       "      <td>众泰Z700 2016款 1.8T 手动 典雅型</td>\n",
       "      <td>2017-08-01</td>\n",
       "      <td>0.08</td>\n",
       "      <td>国4,国5</td>\n",
       "      <td>8.8</td>\n",
       "      <td>11.92万</td>\n",
       "    </tr>\n",
       "    <tr>\n",
       "      <th>2</th>\n",
       "      <td>众泰</td>\n",
       "      <td>大迈X5 2015款 1.5T 手动 豪华型</td>\n",
       "      <td>2016-09-01</td>\n",
       "      <td>0.80</td>\n",
       "      <td>国4</td>\n",
       "      <td>5.8</td>\n",
       "      <td>8.56万</td>\n",
       "    </tr>\n",
       "    <tr>\n",
       "      <th>3</th>\n",
       "      <td>众泰</td>\n",
       "      <td>众泰T600 2017款 1.5T 手动 精英贺岁版</td>\n",
       "      <td>2017-03-01</td>\n",
       "      <td>0.30</td>\n",
       "      <td>国5</td>\n",
       "      <td>6.2</td>\n",
       "      <td>8.66万</td>\n",
       "    </tr>\n",
       "    <tr>\n",
       "      <th>4</th>\n",
       "      <td>众泰</td>\n",
       "      <td>众泰T600 2016款 1.5T 手动 旗舰型</td>\n",
       "      <td>2016-02-01</td>\n",
       "      <td>1.70</td>\n",
       "      <td>国4</td>\n",
       "      <td>7.0</td>\n",
       "      <td>11.59万</td>\n",
       "    </tr>\n",
       "  </tbody>\n",
       "</table>\n",
       "</div>"
      ],
      "text/plain": [
       "  Brand                        Name Boarding_time  Km(W) Discharge  Sec_price  \\\n",
       "0    众泰    众泰T600 2016款 1.5T 手动 豪华型    2016-05-01   3.96        国4        6.8   \n",
       "1    众泰    众泰Z700 2016款 1.8T 手动 典雅型    2017-08-01   0.08     国4,国5        8.8   \n",
       "2    众泰      大迈X5 2015款 1.5T 手动 豪华型    2016-09-01   0.80        国4        5.8   \n",
       "3    众泰  众泰T600 2017款 1.5T 手动 精英贺岁版    2017-03-01   0.30        国5        6.2   \n",
       "4    众泰    众泰T600 2016款 1.5T 手动 旗舰型    2016-02-01   1.70        国4        7.0   \n",
       "\n",
       "  New_price  \n",
       "0     9.42万  \n",
       "1    11.92万  \n",
       "2     8.56万  \n",
       "3     8.66万  \n",
       "4    11.59万  "
      ]
     },
     "execution_count": 7,
     "metadata": {},
     "output_type": "execute_result"
    }
   ],
   "source": [
    "sec_cars.head()"
   ]
  },
  {
   "cell_type": "code",
   "execution_count": 8,
   "metadata": {},
   "outputs": [
    {
     "data": {
      "text/plain": [
       "0          9.42\n",
       "1         11.92\n",
       "2          8.56\n",
       "3          8.66\n",
       "4         11.59\n",
       "5         10.72\n",
       "6         11.48\n",
       "7         11.92\n",
       "8          8.56\n",
       "9         11.72\n",
       "10        17.56\n",
       "11         9.42\n",
       "12       168.25\n",
       "13         8.87\n",
       "14         7.96\n",
       "15        13.66\n",
       "16         8.43\n",
       "17         8.99\n",
       "18         7.90\n",
       "19         6.49\n",
       "20        10.07\n",
       "21        10.18\n",
       "22        10.07\n",
       "23        10.40\n",
       "24         6.22\n",
       "25        11.48\n",
       "26         9.63\n",
       "27         6.22\n",
       "28        11.48\n",
       "29         8.99\n",
       "          ...  \n",
       "11095     42.65\n",
       "11096     30.49\n",
       "11097     26.04\n",
       "11098    153.70\n",
       "11099    139.81\n",
       "11100    128.09\n",
       "11101       NaN\n",
       "11102    128.09\n",
       "11103       NaN\n",
       "11104       NaN\n",
       "11105    182.36\n",
       "11106    117.23\n",
       "11107       NaN\n",
       "11108    153.70\n",
       "11109     37.86\n",
       "11110     23.86\n",
       "11111     23.86\n",
       "11112     29.61\n",
       "11113     33.20\n",
       "11114     23.86\n",
       "11115     27.12\n",
       "11116     28.32\n",
       "11117     21.70\n",
       "11118     29.62\n",
       "11119     22.46\n",
       "11120     23.86\n",
       "11121     23.86\n",
       "11122     20.28\n",
       "11123     28.65\n",
       "11124     24.95\n",
       "Name: New_price, Length: 11125, dtype: object"
      ]
     },
     "execution_count": 8,
     "metadata": {},
     "output_type": "execute_result"
    }
   ],
   "source": [
    "sec_cars['New_price'].str[:-1] #str方法提取字符串"
   ]
  },
  {
   "cell_type": "code",
   "execution_count": 9,
   "metadata": {},
   "outputs": [],
   "source": [
    "sec_cars['New_price'] = sec_cars['New_price'].str[:-1].astype('float') #新车价格应该为浮点型类型"
   ]
  },
  {
   "cell_type": "code",
   "execution_count": 10,
   "metadata": {},
   "outputs": [],
   "source": [
    "sec_cars['Discharge'] = sec_cars['Discharge'].str.replace('--','缺失值')"
   ]
  },
  {
   "cell_type": "code",
   "execution_count": null,
   "metadata": {},
   "outputs": [],
   "source": []
  },
  {
   "cell_type": "code",
   "execution_count": 11,
   "metadata": {},
   "outputs": [
    {
     "data": {
      "text/plain": [
       "Brand                    object\n",
       "Name                     object\n",
       "Boarding_time    datetime64[ns]\n",
       "Km(W)                   float64\n",
       "Discharge                object\n",
       "Sec_price               float64\n",
       "New_price               float64\n",
       "dtype: object"
      ]
     },
     "execution_count": 11,
     "metadata": {},
     "output_type": "execute_result"
    }
   ],
   "source": [
    "sec_cars.dtypes #查看数据类型"
   ]
  },
  {
   "cell_type": "code",
   "execution_count": 12,
   "metadata": {},
   "outputs": [
    {
     "data": {
      "text/html": [
       "<div>\n",
       "<style scoped>\n",
       "    .dataframe tbody tr th:only-of-type {\n",
       "        vertical-align: middle;\n",
       "    }\n",
       "\n",
       "    .dataframe tbody tr th {\n",
       "        vertical-align: top;\n",
       "    }\n",
       "\n",
       "    .dataframe thead th {\n",
       "        text-align: right;\n",
       "    }\n",
       "</style>\n",
       "<table border=\"1\" class=\"dataframe\">\n",
       "  <thead>\n",
       "    <tr style=\"text-align: right;\">\n",
       "      <th></th>\n",
       "      <th>Km(W)</th>\n",
       "      <th>Sec_price</th>\n",
       "      <th>New_price</th>\n",
       "    </tr>\n",
       "  </thead>\n",
       "  <tbody>\n",
       "    <tr>\n",
       "      <th>count</th>\n",
       "      <td>11125.000000</td>\n",
       "      <td>11125.000000</td>\n",
       "      <td>10984.000000</td>\n",
       "    </tr>\n",
       "    <tr>\n",
       "      <th>mean</th>\n",
       "      <td>6.279603</td>\n",
       "      <td>25.671780</td>\n",
       "      <td>51.326006</td>\n",
       "    </tr>\n",
       "    <tr>\n",
       "      <th>std</th>\n",
       "      <td>3.479047</td>\n",
       "      <td>52.797762</td>\n",
       "      <td>79.682066</td>\n",
       "    </tr>\n",
       "    <tr>\n",
       "      <th>min</th>\n",
       "      <td>0.020000</td>\n",
       "      <td>0.650000</td>\n",
       "      <td>2.910000</td>\n",
       "    </tr>\n",
       "    <tr>\n",
       "      <th>25%</th>\n",
       "      <td>4.000000</td>\n",
       "      <td>5.200000</td>\n",
       "      <td>16.050000</td>\n",
       "    </tr>\n",
       "    <tr>\n",
       "      <th>50%</th>\n",
       "      <td>6.000000</td>\n",
       "      <td>10.000000</td>\n",
       "      <td>26.690000</td>\n",
       "    </tr>\n",
       "    <tr>\n",
       "      <th>75%</th>\n",
       "      <td>8.200000</td>\n",
       "      <td>23.800000</td>\n",
       "      <td>52.210000</td>\n",
       "    </tr>\n",
       "    <tr>\n",
       "      <th>max</th>\n",
       "      <td>34.600000</td>\n",
       "      <td>808.000000</td>\n",
       "      <td>976.920000</td>\n",
       "    </tr>\n",
       "  </tbody>\n",
       "</table>\n",
       "</div>"
      ],
      "text/plain": [
       "              Km(W)     Sec_price     New_price\n",
       "count  11125.000000  11125.000000  10984.000000\n",
       "mean       6.279603     25.671780     51.326006\n",
       "std        3.479047     52.797762     79.682066\n",
       "min        0.020000      0.650000      2.910000\n",
       "25%        4.000000      5.200000     16.050000\n",
       "50%        6.000000     10.000000     26.690000\n",
       "75%        8.200000     23.800000     52.210000\n",
       "max       34.600000    808.000000    976.920000"
      ]
     },
     "execution_count": 12,
     "metadata": {},
     "output_type": "execute_result"
    }
   ],
   "source": [
    "#数据简单描述\n",
    "sec_cars.describe()"
   ]
  },
  {
   "cell_type": "code",
   "execution_count": 13,
   "metadata": {},
   "outputs": [
    {
     "data": {
      "text/html": [
       "<div>\n",
       "<style scoped>\n",
       "    .dataframe tbody tr th:only-of-type {\n",
       "        vertical-align: middle;\n",
       "    }\n",
       "\n",
       "    .dataframe tbody tr th {\n",
       "        vertical-align: top;\n",
       "    }\n",
       "\n",
       "    .dataframe thead th {\n",
       "        text-align: right;\n",
       "    }\n",
       "</style>\n",
       "<table border=\"1\" class=\"dataframe\">\n",
       "  <thead>\n",
       "    <tr style=\"text-align: right;\">\n",
       "      <th></th>\n",
       "      <th>Brand</th>\n",
       "      <th>Name</th>\n",
       "      <th>Discharge</th>\n",
       "    </tr>\n",
       "  </thead>\n",
       "  <tbody>\n",
       "    <tr>\n",
       "      <th>count</th>\n",
       "      <td>11125</td>\n",
       "      <td>11125</td>\n",
       "      <td>11125</td>\n",
       "    </tr>\n",
       "    <tr>\n",
       "      <th>unique</th>\n",
       "      <td>104</td>\n",
       "      <td>4462</td>\n",
       "      <td>34</td>\n",
       "    </tr>\n",
       "    <tr>\n",
       "      <th>top</th>\n",
       "      <td>别克</td>\n",
       "      <td>经典全顺 2010款 柴油 短轴 多功能 中顶 6座</td>\n",
       "      <td>国4</td>\n",
       "    </tr>\n",
       "    <tr>\n",
       "      <th>freq</th>\n",
       "      <td>1347</td>\n",
       "      <td>126</td>\n",
       "      <td>4296</td>\n",
       "    </tr>\n",
       "  </tbody>\n",
       "</table>\n",
       "</div>"
      ],
      "text/plain": [
       "        Brand                        Name Discharge\n",
       "count   11125                       11125     11125\n",
       "unique    104                        4462        34\n",
       "top        别克  经典全顺 2010款 柴油 短轴 多功能 中顶 6座        国4\n",
       "freq     1347                         126      4296"
      ]
     },
     "execution_count": 13,
     "metadata": {},
     "output_type": "execute_result"
    }
   ],
   "source": [
    "sec_cars.describe(include=['object'])"
   ]
  },
  {
   "cell_type": "code",
   "execution_count": null,
   "metadata": {},
   "outputs": [],
   "source": [
    "count 代表有效值个数\n",
    "unique代表不同的取值个数\n",
    "top 取值最高的类别\n",
    "freq 取值最高的类别对应的个数"
   ]
  },
  {
   "cell_type": "code",
   "execution_count": 14,
   "metadata": {},
   "outputs": [
    {
     "data": {
      "text/html": [
       "<div>\n",
       "<style scoped>\n",
       "    .dataframe tbody tr th:only-of-type {\n",
       "        vertical-align: middle;\n",
       "    }\n",
       "\n",
       "    .dataframe tbody tr th {\n",
       "        vertical-align: top;\n",
       "    }\n",
       "\n",
       "    .dataframe thead th {\n",
       "        text-align: right;\n",
       "    }\n",
       "</style>\n",
       "<table border=\"1\" class=\"dataframe\">\n",
       "  <thead>\n",
       "    <tr style=\"text-align: right;\">\n",
       "      <th></th>\n",
       "      <th>Brand</th>\n",
       "      <th>Name</th>\n",
       "      <th>Boarding_time</th>\n",
       "      <th>Km(W)</th>\n",
       "      <th>Discharge</th>\n",
       "      <th>Sec_price</th>\n",
       "      <th>New_price</th>\n",
       "    </tr>\n",
       "  </thead>\n",
       "  <tbody>\n",
       "    <tr>\n",
       "      <th>count</th>\n",
       "      <td>11125</td>\n",
       "      <td>11125</td>\n",
       "      <td>11125</td>\n",
       "      <td>11125.000000</td>\n",
       "      <td>11125</td>\n",
       "      <td>11125.000000</td>\n",
       "      <td>10984.000000</td>\n",
       "    </tr>\n",
       "    <tr>\n",
       "      <th>unique</th>\n",
       "      <td>104</td>\n",
       "      <td>4462</td>\n",
       "      <td>187</td>\n",
       "      <td>NaN</td>\n",
       "      <td>34</td>\n",
       "      <td>NaN</td>\n",
       "      <td>NaN</td>\n",
       "    </tr>\n",
       "    <tr>\n",
       "      <th>top</th>\n",
       "      <td>别克</td>\n",
       "      <td>经典全顺 2010款 柴油 短轴 多功能 中顶 6座</td>\n",
       "      <td>2010-08-01 00:00:00</td>\n",
       "      <td>NaN</td>\n",
       "      <td>国4</td>\n",
       "      <td>NaN</td>\n",
       "      <td>NaN</td>\n",
       "    </tr>\n",
       "    <tr>\n",
       "      <th>freq</th>\n",
       "      <td>1347</td>\n",
       "      <td>126</td>\n",
       "      <td>223</td>\n",
       "      <td>NaN</td>\n",
       "      <td>4296</td>\n",
       "      <td>NaN</td>\n",
       "      <td>NaN</td>\n",
       "    </tr>\n",
       "    <tr>\n",
       "      <th>first</th>\n",
       "      <td>NaN</td>\n",
       "      <td>NaN</td>\n",
       "      <td>1997-12-01 00:00:00</td>\n",
       "      <td>NaN</td>\n",
       "      <td>NaN</td>\n",
       "      <td>NaN</td>\n",
       "      <td>NaN</td>\n",
       "    </tr>\n",
       "    <tr>\n",
       "      <th>last</th>\n",
       "      <td>NaN</td>\n",
       "      <td>NaN</td>\n",
       "      <td>2017-10-01 00:00:00</td>\n",
       "      <td>NaN</td>\n",
       "      <td>NaN</td>\n",
       "      <td>NaN</td>\n",
       "      <td>NaN</td>\n",
       "    </tr>\n",
       "    <tr>\n",
       "      <th>mean</th>\n",
       "      <td>NaN</td>\n",
       "      <td>NaN</td>\n",
       "      <td>NaN</td>\n",
       "      <td>6.279603</td>\n",
       "      <td>NaN</td>\n",
       "      <td>25.671780</td>\n",
       "      <td>51.326006</td>\n",
       "    </tr>\n",
       "    <tr>\n",
       "      <th>std</th>\n",
       "      <td>NaN</td>\n",
       "      <td>NaN</td>\n",
       "      <td>NaN</td>\n",
       "      <td>3.479047</td>\n",
       "      <td>NaN</td>\n",
       "      <td>52.797762</td>\n",
       "      <td>79.682066</td>\n",
       "    </tr>\n",
       "    <tr>\n",
       "      <th>min</th>\n",
       "      <td>NaN</td>\n",
       "      <td>NaN</td>\n",
       "      <td>NaN</td>\n",
       "      <td>0.020000</td>\n",
       "      <td>NaN</td>\n",
       "      <td>0.650000</td>\n",
       "      <td>2.910000</td>\n",
       "    </tr>\n",
       "    <tr>\n",
       "      <th>25%</th>\n",
       "      <td>NaN</td>\n",
       "      <td>NaN</td>\n",
       "      <td>NaN</td>\n",
       "      <td>4.000000</td>\n",
       "      <td>NaN</td>\n",
       "      <td>5.200000</td>\n",
       "      <td>16.050000</td>\n",
       "    </tr>\n",
       "    <tr>\n",
       "      <th>50%</th>\n",
       "      <td>NaN</td>\n",
       "      <td>NaN</td>\n",
       "      <td>NaN</td>\n",
       "      <td>6.000000</td>\n",
       "      <td>NaN</td>\n",
       "      <td>10.000000</td>\n",
       "      <td>26.690000</td>\n",
       "    </tr>\n",
       "    <tr>\n",
       "      <th>75%</th>\n",
       "      <td>NaN</td>\n",
       "      <td>NaN</td>\n",
       "      <td>NaN</td>\n",
       "      <td>8.200000</td>\n",
       "      <td>NaN</td>\n",
       "      <td>23.800000</td>\n",
       "      <td>52.210000</td>\n",
       "    </tr>\n",
       "    <tr>\n",
       "      <th>max</th>\n",
       "      <td>NaN</td>\n",
       "      <td>NaN</td>\n",
       "      <td>NaN</td>\n",
       "      <td>34.600000</td>\n",
       "      <td>NaN</td>\n",
       "      <td>808.000000</td>\n",
       "      <td>976.920000</td>\n",
       "    </tr>\n",
       "  </tbody>\n",
       "</table>\n",
       "</div>"
      ],
      "text/plain": [
       "        Brand                        Name        Boarding_time         Km(W)  \\\n",
       "count   11125                       11125                11125  11125.000000   \n",
       "unique    104                        4462                  187           NaN   \n",
       "top        别克  经典全顺 2010款 柴油 短轴 多功能 中顶 6座  2010-08-01 00:00:00           NaN   \n",
       "freq     1347                         126                  223           NaN   \n",
       "first     NaN                         NaN  1997-12-01 00:00:00           NaN   \n",
       "last      NaN                         NaN  2017-10-01 00:00:00           NaN   \n",
       "mean      NaN                         NaN                  NaN      6.279603   \n",
       "std       NaN                         NaN                  NaN      3.479047   \n",
       "min       NaN                         NaN                  NaN      0.020000   \n",
       "25%       NaN                         NaN                  NaN      4.000000   \n",
       "50%       NaN                         NaN                  NaN      6.000000   \n",
       "75%       NaN                         NaN                  NaN      8.200000   \n",
       "max       NaN                         NaN                  NaN     34.600000   \n",
       "\n",
       "       Discharge     Sec_price     New_price  \n",
       "count      11125  11125.000000  10984.000000  \n",
       "unique        34           NaN           NaN  \n",
       "top           国4           NaN           NaN  \n",
       "freq        4296           NaN           NaN  \n",
       "first        NaN           NaN           NaN  \n",
       "last         NaN           NaN           NaN  \n",
       "mean         NaN     25.671780     51.326006  \n",
       "std          NaN     52.797762     79.682066  \n",
       "min          NaN      0.650000      2.910000  \n",
       "25%          NaN      5.200000     16.050000  \n",
       "50%          NaN     10.000000     26.690000  \n",
       "75%          NaN     23.800000     52.210000  \n",
       "max          NaN    808.000000    976.920000  "
      ]
     },
     "execution_count": 14,
     "metadata": {},
     "output_type": "execute_result"
    }
   ],
   "source": [
    "sec_cars.describe(include='all') #输出所有变量类型统计信息"
   ]
  },
  {
   "cell_type": "markdown",
   "metadata": {},
   "source": [
    "* 计算时间差"
   ]
  },
  {
   "cell_type": "code",
   "execution_count": 15,
   "metadata": {},
   "outputs": [],
   "source": [
    "sec_cars['diff_day'] = pd.datetime.today() - sec_cars['Boarding_time']"
   ]
  },
  {
   "cell_type": "code",
   "execution_count": 16,
   "metadata": {},
   "outputs": [],
   "source": [
    "sec_cars['diff_day'] = sec_cars['diff_day']/np.timedelta64(1, 'D')   #转化为天数 1代表周期，D代表天数"
   ]
  },
  {
   "cell_type": "code",
   "execution_count": 17,
   "metadata": {},
   "outputs": [],
   "source": [
    "sec_cars['diff_year'] = pd.datetime.today().year - sec_cars['Boarding_time'].dt.year # 计算年份差"
   ]
  },
  {
   "cell_type": "code",
   "execution_count": 18,
   "metadata": {},
   "outputs": [
    {
     "data": {
      "text/html": [
       "<div>\n",
       "<style scoped>\n",
       "    .dataframe tbody tr th:only-of-type {\n",
       "        vertical-align: middle;\n",
       "    }\n",
       "\n",
       "    .dataframe tbody tr th {\n",
       "        vertical-align: top;\n",
       "    }\n",
       "\n",
       "    .dataframe thead th {\n",
       "        text-align: right;\n",
       "    }\n",
       "</style>\n",
       "<table border=\"1\" class=\"dataframe\">\n",
       "  <thead>\n",
       "    <tr style=\"text-align: right;\">\n",
       "      <th></th>\n",
       "      <th>Brand</th>\n",
       "      <th>Name</th>\n",
       "      <th>Boarding_time</th>\n",
       "      <th>Km(W)</th>\n",
       "      <th>Discharge</th>\n",
       "      <th>Sec_price</th>\n",
       "      <th>New_price</th>\n",
       "      <th>diff_day</th>\n",
       "      <th>diff_year</th>\n",
       "    </tr>\n",
       "  </thead>\n",
       "  <tbody>\n",
       "    <tr>\n",
       "      <th>0</th>\n",
       "      <td>众泰</td>\n",
       "      <td>众泰T600 2016款 1.5T 手动 豪华型</td>\n",
       "      <td>2016-05-01</td>\n",
       "      <td>3.96</td>\n",
       "      <td>国4</td>\n",
       "      <td>6.80</td>\n",
       "      <td>9.42</td>\n",
       "      <td>1300.380654</td>\n",
       "      <td>3</td>\n",
       "    </tr>\n",
       "    <tr>\n",
       "      <th>1</th>\n",
       "      <td>众泰</td>\n",
       "      <td>众泰Z700 2016款 1.8T 手动 典雅型</td>\n",
       "      <td>2017-08-01</td>\n",
       "      <td>0.08</td>\n",
       "      <td>国4,国5</td>\n",
       "      <td>8.80</td>\n",
       "      <td>11.92</td>\n",
       "      <td>843.380654</td>\n",
       "      <td>2</td>\n",
       "    </tr>\n",
       "    <tr>\n",
       "      <th>2</th>\n",
       "      <td>众泰</td>\n",
       "      <td>大迈X5 2015款 1.5T 手动 豪华型</td>\n",
       "      <td>2016-09-01</td>\n",
       "      <td>0.80</td>\n",
       "      <td>国4</td>\n",
       "      <td>5.80</td>\n",
       "      <td>8.56</td>\n",
       "      <td>1177.380654</td>\n",
       "      <td>3</td>\n",
       "    </tr>\n",
       "    <tr>\n",
       "      <th>3</th>\n",
       "      <td>众泰</td>\n",
       "      <td>众泰T600 2017款 1.5T 手动 精英贺岁版</td>\n",
       "      <td>2017-03-01</td>\n",
       "      <td>0.30</td>\n",
       "      <td>国5</td>\n",
       "      <td>6.20</td>\n",
       "      <td>8.66</td>\n",
       "      <td>996.380654</td>\n",
       "      <td>2</td>\n",
       "    </tr>\n",
       "    <tr>\n",
       "      <th>4</th>\n",
       "      <td>众泰</td>\n",
       "      <td>众泰T600 2016款 1.5T 手动 旗舰型</td>\n",
       "      <td>2016-02-01</td>\n",
       "      <td>1.70</td>\n",
       "      <td>国4</td>\n",
       "      <td>7.00</td>\n",
       "      <td>11.59</td>\n",
       "      <td>1390.380654</td>\n",
       "      <td>3</td>\n",
       "    </tr>\n",
       "    <tr>\n",
       "      <th>5</th>\n",
       "      <td>众泰</td>\n",
       "      <td>众泰T600 2015款 1.5T 手动 尊贵型</td>\n",
       "      <td>2015-12-01</td>\n",
       "      <td>0.75</td>\n",
       "      <td>国4</td>\n",
       "      <td>8.00</td>\n",
       "      <td>10.72</td>\n",
       "      <td>1452.380654</td>\n",
       "      <td>4</td>\n",
       "    </tr>\n",
       "    <tr>\n",
       "      <th>6</th>\n",
       "      <td>众泰</td>\n",
       "      <td>众泰T600 2016款 运动版 1.5T 手动 尊享型</td>\n",
       "      <td>2016-11-01</td>\n",
       "      <td>0.43</td>\n",
       "      <td>国5</td>\n",
       "      <td>8.50</td>\n",
       "      <td>11.48</td>\n",
       "      <td>1116.380654</td>\n",
       "      <td>3</td>\n",
       "    </tr>\n",
       "    <tr>\n",
       "      <th>7</th>\n",
       "      <td>众泰</td>\n",
       "      <td>众泰Z700 2016款 1.8T 手动 典雅型</td>\n",
       "      <td>2017-08-01</td>\n",
       "      <td>0.08</td>\n",
       "      <td>国4,国5</td>\n",
       "      <td>9.30</td>\n",
       "      <td>11.92</td>\n",
       "      <td>843.380654</td>\n",
       "      <td>2</td>\n",
       "    </tr>\n",
       "    <tr>\n",
       "      <th>8</th>\n",
       "      <td>众泰</td>\n",
       "      <td>大迈X5 2015款 1.5T 手动 豪华型</td>\n",
       "      <td>2016-09-01</td>\n",
       "      <td>0.80</td>\n",
       "      <td>国4</td>\n",
       "      <td>6.00</td>\n",
       "      <td>8.56</td>\n",
       "      <td>1177.380654</td>\n",
       "      <td>3</td>\n",
       "    </tr>\n",
       "    <tr>\n",
       "      <th>9</th>\n",
       "      <td>众泰</td>\n",
       "      <td>众泰SR7 2016款 1.5T CVT 魔方之心 国五</td>\n",
       "      <td>2015-12-01</td>\n",
       "      <td>2.36</td>\n",
       "      <td>国5</td>\n",
       "      <td>7.58</td>\n",
       "      <td>11.72</td>\n",
       "      <td>1452.380654</td>\n",
       "      <td>4</td>\n",
       "    </tr>\n",
       "  </tbody>\n",
       "</table>\n",
       "</div>"
      ],
      "text/plain": [
       "  Brand                          Name Boarding_time  Km(W) Discharge  \\\n",
       "0    众泰      众泰T600 2016款 1.5T 手动 豪华型    2016-05-01   3.96        国4   \n",
       "1    众泰      众泰Z700 2016款 1.8T 手动 典雅型    2017-08-01   0.08     国4,国5   \n",
       "2    众泰        大迈X5 2015款 1.5T 手动 豪华型    2016-09-01   0.80        国4   \n",
       "3    众泰    众泰T600 2017款 1.5T 手动 精英贺岁版    2017-03-01   0.30        国5   \n",
       "4    众泰      众泰T600 2016款 1.5T 手动 旗舰型    2016-02-01   1.70        国4   \n",
       "5    众泰      众泰T600 2015款 1.5T 手动 尊贵型    2015-12-01   0.75        国4   \n",
       "6    众泰  众泰T600 2016款 运动版 1.5T 手动 尊享型    2016-11-01   0.43        国5   \n",
       "7    众泰      众泰Z700 2016款 1.8T 手动 典雅型    2017-08-01   0.08     国4,国5   \n",
       "8    众泰        大迈X5 2015款 1.5T 手动 豪华型    2016-09-01   0.80        国4   \n",
       "9    众泰  众泰SR7 2016款 1.5T CVT 魔方之心 国五    2015-12-01   2.36        国5   \n",
       "\n",
       "   Sec_price  New_price     diff_day  diff_year  \n",
       "0       6.80       9.42  1300.380654          3  \n",
       "1       8.80      11.92   843.380654          2  \n",
       "2       5.80       8.56  1177.380654          3  \n",
       "3       6.20       8.66   996.380654          2  \n",
       "4       7.00      11.59  1390.380654          3  \n",
       "5       8.00      10.72  1452.380654          4  \n",
       "6       8.50      11.48  1116.380654          3  \n",
       "7       9.30      11.92   843.380654          2  \n",
       "8       6.00       8.56  1177.380654          3  \n",
       "9       7.58      11.72  1452.380654          4  "
      ]
     },
     "execution_count": 18,
     "metadata": {},
     "output_type": "execute_result"
    }
   ],
   "source": [
    "sec_cars.head(10)"
   ]
  },
  {
   "cell_type": "code",
   "execution_count": null,
   "metadata": {},
   "outputs": [],
   "source": [
    "# 介绍apply的用法\n",
    "df = pd.read_excel('data_test03.xlsx', dtype={'tel': np.str,'birthday':np.datetime64})"
   ]
  },
  {
   "cell_type": "code",
   "execution_count": null,
   "metadata": {},
   "outputs": [],
   "source": [
    "# 将手机号中间4位隐藏\n",
    "df.tel = df.tel.apply(lambda  x: x.replace(x[3:7],'****'))"
   ]
  },
  {
   "cell_type": "code",
   "execution_count": null,
   "metadata": {},
   "outputs": [],
   "source": [
    "df['email'] = df['email'].apply(lambda x: x.split('@')[1]) #取出域名"
   ]
  },
  {
   "cell_type": "code",
   "execution_count": null,
   "metadata": {},
   "outputs": [],
   "source": [
    "df['tel_new'] = df['tel'].str[0:3] #取出前三位 ,使用str方法"
   ]
  },
  {
   "cell_type": "code",
   "execution_count": null,
   "metadata": {},
   "outputs": [],
   "source": [
    "df['tel_new'] = df['tel'].apply(lambda x: x[0:3]) #取出前三位"
   ]
  },
  {
   "cell_type": "markdown",
   "metadata": {},
   "source": [
    "* 掌握rolling等方法"
   ]
  },
  {
   "cell_type": "markdown",
   "metadata": {},
   "source": [
    "利用Pandas库中的sample。\n",
    "\n",
    "DataFrame.sample(n=None, frac=None, replace=False, weights=None, random_state=None, axis=None)\n",
    "\n",
    "* n是要抽取的行数。（例如n=20000时，抽取其中的2W行）\n",
    "\n",
    "* frac是抽取的比列。（有一些时候，我们并对具体抽取的行数不关系，我们想抽取其中的百分比，这个时候就可以选择使用frac，例如frac=0.8，\n",
    "就是抽取其中80%）\n",
    "\n",
    "* replace：是否为有放回抽样，取replace=True时为有放回抽样。\n",
    "\n",
    "* weights这个是每个样本的权重，具体可以看官方文档说明。\n",
    "\n",
    "* random_state这个在之前的文章已经介绍过了,可以理解为随机数种子\n",
    "\n",
    "- axis是选择抽取数据的行还是列。axis=0的时是抽取行，axis=1时是抽取列（也就是说axis=1时，在列中随机抽取n列，在axis=0时，在行中随机抽取n行）"
   ]
  },
  {
   "cell_type": "markdown",
   "metadata": {},
   "source": [
    "\n",
    "* 某零售订单数据\n",
    "* InvoiceNo --> 订单号码： 6位字符串\n",
    "* StockCode --> 产品代码： 6位字符串\n",
    "* Description --> 产品描述\n",
    "* Quantity --> 产品数量：交易产品数量\n",
    "* InvoiceDate --> 订单日期：订单发生的日期和时间\n",
    "* UnitPrice --> 单价：浮点数值\n",
    "* CustomerID --> 顾客ID：5位字符串\n",
    "* Country --> 国家：客户所在地"
   ]
  },
  {
   "cell_type": "code",
   "execution_count": null,
   "metadata": {},
   "outputs": [],
   "source": [
    "data = pd.read_excel('Online_Retail.xlsx')"
   ]
  },
  {
   "cell_type": "code",
   "execution_count": null,
   "metadata": {},
   "outputs": [],
   "source": [
    "data.shape"
   ]
  },
  {
   "cell_type": "code",
   "execution_count": null,
   "metadata": {},
   "outputs": [],
   "source": [
    "# 数据量大，随机抽取50000个样本作分析\n",
    "df = data.sample(n=50000,replace=False) \n",
    "df.reset_index(inplace = True,drop = True)"
   ]
  },
  {
   "cell_type": "code",
   "execution_count": null,
   "metadata": {},
   "outputs": [],
   "source": [
    "# 创建一个年月日变量\n",
    "df['date'] = df['InvoiceDate'].dt.date"
   ]
  },
  {
   "cell_type": "code",
   "execution_count": null,
   "metadata": {},
   "outputs": [],
   "source": [
    "# 计算每个订单号码的订单总价\n",
    "df['total_price'] = df[['Quantity','UnitPrice']].apply(np.prod,axis=1)"
   ]
  },
  {
   "cell_type": "code",
   "execution_count": null,
   "metadata": {},
   "outputs": [],
   "source": [
    "# 按日期进行汇总，计算订单总价\n",
    "grouped_data  = df.groupby(by='date').sum()"
   ]
  },
  {
   "cell_type": "code",
   "execution_count": null,
   "metadata": {},
   "outputs": [],
   "source": [
    "grouped_data.index = pd.to_datetime(grouped_data.index) #转化为日期格式"
   ]
  },
  {
   "cell_type": "code",
   "execution_count": null,
   "metadata": {},
   "outputs": [],
   "source": [
    "grouped_data"
   ]
  },
  {
   "cell_type": "markdown",
   "metadata": {},
   "source": [
    "* pct_change() #计算(后一个 - 前一个)/前一个\n",
    "* 计算变化率"
   ]
  },
  {
   "cell_type": "code",
   "execution_count": null,
   "metadata": {},
   "outputs": [],
   "source": [
    "grouped_data['总价变化率'] = grouped_data['total_price'].pct_change()"
   ]
  },
  {
   "cell_type": "code",
   "execution_count": null,
   "metadata": {},
   "outputs": [],
   "source": [
    "grouped_data.head()"
   ]
  },
  {
   "cell_type": "markdown",
   "metadata": {},
   "source": [
    "* 计算移动平均值\n",
    "* data.rolling(5).mean()#计算5日均线"
   ]
  },
  {
   "cell_type": "code",
   "execution_count": null,
   "metadata": {},
   "outputs": [],
   "source": [
    "grouped_data['SMA_5'] =  grouped_data['total_price'].rolling(5).mean()"
   ]
  },
  {
   "cell_type": "code",
   "execution_count": null,
   "metadata": {},
   "outputs": [],
   "source": [
    "grouped_data['SMA_10'] = grouped_data['total_price'].rolling(10).mean()"
   ]
  },
  {
   "cell_type": "code",
   "execution_count": null,
   "metadata": {},
   "outputs": [],
   "source": [
    "grouped_data[['SMA_5','SMA_10']].plot()"
   ]
  },
  {
   "cell_type": "markdown",
   "metadata": {},
   "source": [
    "* 使用shift函数,进行平移"
   ]
  },
  {
   "cell_type": "code",
   "execution_count": null,
   "metadata": {},
   "outputs": [],
   "source": [
    "grouped_data['total_price_before']  =  grouped_data['total_price'].shift(1) #将所有total_pric进行向下平移"
   ]
  },
  {
   "cell_type": "code",
   "execution_count": null,
   "metadata": {},
   "outputs": [],
   "source": [
    "grouped_data['total_price_next']  = grouped_data['total_price'].shift(-1) #将所有total_price进行向上平移"
   ]
  },
  {
   "cell_type": "code",
   "execution_count": null,
   "metadata": {},
   "outputs": [],
   "source": [
    "grouped_data[['total_price','total_price_before','total_price_next']].head(20)"
   ]
  },
  {
   "cell_type": "markdown",
   "metadata": {},
   "source": [
    "* 使用diff函数，效果如下\n",
    "* diff(1) 代表用下一行减去上一行,例如第三行减去第二行\n",
    "* dff(2) 代表用下二行减去上一行,例如第三行减去第一行"
   ]
  },
  {
   "cell_type": "code",
   "execution_count": null,
   "metadata": {},
   "outputs": [],
   "source": [
    "grouped_data['diff'] = grouped_data['total_price'].diff(1)"
   ]
  },
  {
   "cell_type": "code",
   "execution_count": null,
   "metadata": {},
   "outputs": [],
   "source": [
    "grouped_data['diff_percent'] = grouped_data['diff']  / grouped_data['total_price'].shift(1) "
   ]
  },
  {
   "cell_type": "code",
   "execution_count": null,
   "metadata": {},
   "outputs": [],
   "source": [
    "grouped_data.head(10)"
   ]
  },
  {
   "cell_type": "markdown",
   "metadata": {},
   "source": [
    "* 观察diff_percent 和 总价变化率 的值，会发现一样\n",
    "* 现在可以理解这里面机制了吧"
   ]
  },
  {
   "cell_type": "code",
   "execution_count": null,
   "metadata": {},
   "outputs": [],
   "source": []
  },
  {
   "cell_type": "markdown",
   "metadata": {},
   "source": [
    "### 2. 重复值和缺失值处理\n"
   ]
  },
  {
   "cell_type": "code",
   "execution_count": 22,
   "metadata": {},
   "outputs": [],
   "source": [
    "import os\n",
    "os.chdir(r'E:\\云开明培训机构\\云开见明培训课件\\data summary\\第三章')"
   ]
  },
  {
   "cell_type": "code",
   "execution_count": 23,
   "metadata": {},
   "outputs": [
    {
     "name": "stdout",
     "output_type": "stream",
     "text": [
      "数据集是否存在重复观测: \n",
      " True\n"
     ]
    }
   ],
   "source": [
    "df = pd.read_excel(r'data_test04.xlsx')\n",
    "print ('数据集是否存在重复观测: \\n', any(df.duplicated()))"
   ]
  },
  {
   "cell_type": "code",
   "execution_count": 24,
   "metadata": {
    "scrolled": true
   },
   "outputs": [
    {
     "data": {
      "text/html": [
       "<div>\n",
       "<style scoped>\n",
       "    .dataframe tbody tr th:only-of-type {\n",
       "        vertical-align: middle;\n",
       "    }\n",
       "\n",
       "    .dataframe tbody tr th {\n",
       "        vertical-align: top;\n",
       "    }\n",
       "\n",
       "    .dataframe thead th {\n",
       "        text-align: right;\n",
       "    }\n",
       "</style>\n",
       "<table border=\"1\" class=\"dataframe\">\n",
       "  <thead>\n",
       "    <tr style=\"text-align: right;\">\n",
       "      <th></th>\n",
       "      <th>appcategory</th>\n",
       "      <th>appname</th>\n",
       "      <th>comments</th>\n",
       "      <th>install</th>\n",
       "      <th>love</th>\n",
       "      <th>size</th>\n",
       "      <th>update</th>\n",
       "    </tr>\n",
       "  </thead>\n",
       "  <tbody>\n",
       "    <tr>\n",
       "      <th>3</th>\n",
       "      <td>网上购物-商城-优惠</td>\n",
       "      <td>唯品会</td>\n",
       "      <td>2543</td>\n",
       "      <td>7090.1万</td>\n",
       "      <td>86.00%</td>\n",
       "      <td>41.43MB</td>\n",
       "      <td>2017年10月13日</td>\n",
       "    </tr>\n",
       "    <tr>\n",
       "      <th>8</th>\n",
       "      <td>网上购物-商城-团购-优惠</td>\n",
       "      <td>当当</td>\n",
       "      <td>134</td>\n",
       "      <td>1615.3万</td>\n",
       "      <td>61.00%</td>\n",
       "      <td>37.01MB</td>\n",
       "      <td>2017年10月17日</td>\n",
       "    </tr>\n",
       "    <tr>\n",
       "      <th>9</th>\n",
       "      <td>网上购物-商城-团购-优惠</td>\n",
       "      <td>当当</td>\n",
       "      <td>134</td>\n",
       "      <td>1615.3万</td>\n",
       "      <td>61.00%</td>\n",
       "      <td>37.01MB</td>\n",
       "      <td>2017年10月17日</td>\n",
       "    </tr>\n",
       "  </tbody>\n",
       "</table>\n",
       "</div>"
      ],
      "text/plain": [
       "     appcategory appname  comments  install    love     size       update\n",
       "3     网上购物-商城-优惠     唯品会      2543  7090.1万  86.00%  41.43MB  2017年10月13日\n",
       "8  网上购物-商城-团购-优惠      当当       134  1615.3万  61.00%  37.01MB  2017年10月17日\n",
       "9  网上购物-商城-团购-优惠      当当       134  1615.3万  61.00%  37.01MB  2017年10月17日"
      ]
     },
     "execution_count": 24,
     "metadata": {},
     "output_type": "execute_result"
    }
   ],
   "source": [
    "df[df.duplicated()] #查看那些数据重复"
   ]
  },
  {
   "cell_type": "code",
   "execution_count": null,
   "metadata": {},
   "outputs": [],
   "source": []
  },
  {
   "cell_type": "code",
   "execution_count": 6,
   "metadata": {},
   "outputs": [
    {
     "data": {
      "text/plain": [
       "3"
      ]
     },
     "execution_count": 6,
     "metadata": {},
     "output_type": "execute_result"
    }
   ],
   "source": [
    "np.sum(df.duplicated()) #计算重复数量"
   ]
  },
  {
   "cell_type": "code",
   "execution_count": 15,
   "metadata": {},
   "outputs": [
    {
     "data": {
      "text/html": [
       "<div>\n",
       "<style scoped>\n",
       "    .dataframe tbody tr th:only-of-type {\n",
       "        vertical-align: middle;\n",
       "    }\n",
       "\n",
       "    .dataframe tbody tr th {\n",
       "        vertical-align: top;\n",
       "    }\n",
       "\n",
       "    .dataframe thead th {\n",
       "        text-align: right;\n",
       "    }\n",
       "</style>\n",
       "<table border=\"1\" class=\"dataframe\">\n",
       "  <thead>\n",
       "    <tr style=\"text-align: right;\">\n",
       "      <th></th>\n",
       "      <th>appcategory</th>\n",
       "      <th>appname</th>\n",
       "      <th>comments</th>\n",
       "      <th>install</th>\n",
       "      <th>love</th>\n",
       "      <th>size</th>\n",
       "      <th>update</th>\n",
       "    </tr>\n",
       "  </thead>\n",
       "  <tbody>\n",
       "    <tr>\n",
       "      <th>0</th>\n",
       "      <td>网上购物-商城-团购-优惠-快递</td>\n",
       "      <td>每日优鲜</td>\n",
       "      <td>1297</td>\n",
       "      <td>204.7万</td>\n",
       "      <td>89.00%</td>\n",
       "      <td>15.16MB</td>\n",
       "      <td>2017年10月11日</td>\n",
       "    </tr>\n",
       "    <tr>\n",
       "      <th>1</th>\n",
       "      <td>网上购物-商城</td>\n",
       "      <td>苏宁易购</td>\n",
       "      <td>577</td>\n",
       "      <td>7996.8万</td>\n",
       "      <td>73.00%</td>\n",
       "      <td>58.9MB</td>\n",
       "      <td>2017年09月21日</td>\n",
       "    </tr>\n",
       "    <tr>\n",
       "      <th>2</th>\n",
       "      <td>网上购物-商城-优惠</td>\n",
       "      <td>唯品会</td>\n",
       "      <td>2543</td>\n",
       "      <td>7090.1万</td>\n",
       "      <td>86.00%</td>\n",
       "      <td>41.43MB</td>\n",
       "      <td>2017年10月13日</td>\n",
       "    </tr>\n",
       "    <tr>\n",
       "      <th>4</th>\n",
       "      <td>网上购物-商城</td>\n",
       "      <td>拼多多</td>\n",
       "      <td>1921</td>\n",
       "      <td>3841.9万</td>\n",
       "      <td>95.00%</td>\n",
       "      <td>13.35MB</td>\n",
       "      <td>2017年10月11日</td>\n",
       "    </tr>\n",
       "    <tr>\n",
       "      <th>5</th>\n",
       "      <td>网上购物-商城-优惠</td>\n",
       "      <td>寺库奢侈品</td>\n",
       "      <td>1964</td>\n",
       "      <td>175.4万</td>\n",
       "      <td>100.00%</td>\n",
       "      <td>17.21MB</td>\n",
       "      <td>2017年09月30日</td>\n",
       "    </tr>\n",
       "    <tr>\n",
       "      <th>6</th>\n",
       "      <td>网上购物-商城</td>\n",
       "      <td>淘宝</td>\n",
       "      <td>14244</td>\n",
       "      <td>4.6亿</td>\n",
       "      <td>68.00%</td>\n",
       "      <td>73.78MB</td>\n",
       "      <td>2017年10月13日</td>\n",
       "    </tr>\n",
       "    <tr>\n",
       "      <th>7</th>\n",
       "      <td>网上购物-商城-团购-优惠</td>\n",
       "      <td>当当</td>\n",
       "      <td>134</td>\n",
       "      <td>1615.3万</td>\n",
       "      <td>61.00%</td>\n",
       "      <td>37.01MB</td>\n",
       "      <td>2017年10月17日</td>\n",
       "    </tr>\n",
       "  </tbody>\n",
       "</table>\n",
       "</div>"
      ],
      "text/plain": [
       "        appcategory appname  comments  install     love     size       update\n",
       "0  网上购物-商城-团购-优惠-快递    每日优鲜      1297   204.7万   89.00%  15.16MB  2017年10月11日\n",
       "1           网上购物-商城    苏宁易购       577  7996.8万   73.00%   58.9MB  2017年09月21日\n",
       "2        网上购物-商城-优惠     唯品会      2543  7090.1万   86.00%  41.43MB  2017年10月13日\n",
       "4           网上购物-商城     拼多多      1921  3841.9万   95.00%  13.35MB  2017年10月11日\n",
       "5        网上购物-商城-优惠   寺库奢侈品      1964   175.4万  100.00%  17.21MB  2017年09月30日\n",
       "6           网上购物-商城      淘宝     14244     4.6亿   68.00%  73.78MB  2017年10月13日\n",
       "7     网上购物-商城-团购-优惠      当当       134  1615.3万   61.00%  37.01MB  2017年10月17日"
      ]
     },
     "execution_count": 15,
     "metadata": {},
     "output_type": "execute_result"
    }
   ],
   "source": [
    "df.drop_duplicates() #删除所有变量都重复的行, 注意没有加inplace = True"
   ]
  },
  {
   "cell_type": "code",
   "execution_count": 16,
   "metadata": {},
   "outputs": [
    {
     "data": {
      "text/html": [
       "<div>\n",
       "<style scoped>\n",
       "    .dataframe tbody tr th:only-of-type {\n",
       "        vertical-align: middle;\n",
       "    }\n",
       "\n",
       "    .dataframe tbody tr th {\n",
       "        vertical-align: top;\n",
       "    }\n",
       "\n",
       "    .dataframe thead th {\n",
       "        text-align: right;\n",
       "    }\n",
       "</style>\n",
       "<table border=\"1\" class=\"dataframe\">\n",
       "  <thead>\n",
       "    <tr style=\"text-align: right;\">\n",
       "      <th></th>\n",
       "      <th>appcategory</th>\n",
       "      <th>appname</th>\n",
       "      <th>comments</th>\n",
       "      <th>install</th>\n",
       "      <th>love</th>\n",
       "      <th>size</th>\n",
       "      <th>update</th>\n",
       "    </tr>\n",
       "  </thead>\n",
       "  <tbody>\n",
       "    <tr>\n",
       "      <th>0</th>\n",
       "      <td>网上购物-商城-团购-优惠-快递</td>\n",
       "      <td>每日优鲜</td>\n",
       "      <td>1297</td>\n",
       "      <td>204.7万</td>\n",
       "      <td>89.00%</td>\n",
       "      <td>15.16MB</td>\n",
       "      <td>2017年10月11日</td>\n",
       "    </tr>\n",
       "    <tr>\n",
       "      <th>1</th>\n",
       "      <td>网上购物-商城</td>\n",
       "      <td>苏宁易购</td>\n",
       "      <td>577</td>\n",
       "      <td>7996.8万</td>\n",
       "      <td>73.00%</td>\n",
       "      <td>58.9MB</td>\n",
       "      <td>2017年09月21日</td>\n",
       "    </tr>\n",
       "    <tr>\n",
       "      <th>2</th>\n",
       "      <td>网上购物-商城-优惠</td>\n",
       "      <td>唯品会</td>\n",
       "      <td>2543</td>\n",
       "      <td>7090.1万</td>\n",
       "      <td>86.00%</td>\n",
       "      <td>41.43MB</td>\n",
       "      <td>2017年10月13日</td>\n",
       "    </tr>\n",
       "    <tr>\n",
       "      <th>3</th>\n",
       "      <td>网上购物-商城-优惠</td>\n",
       "      <td>唯品会</td>\n",
       "      <td>2543</td>\n",
       "      <td>7090.1万</td>\n",
       "      <td>86.00%</td>\n",
       "      <td>41.43MB</td>\n",
       "      <td>2017年10月13日</td>\n",
       "    </tr>\n",
       "    <tr>\n",
       "      <th>4</th>\n",
       "      <td>网上购物-商城</td>\n",
       "      <td>拼多多</td>\n",
       "      <td>1921</td>\n",
       "      <td>3841.9万</td>\n",
       "      <td>95.00%</td>\n",
       "      <td>13.35MB</td>\n",
       "      <td>2017年10月11日</td>\n",
       "    </tr>\n",
       "    <tr>\n",
       "      <th>5</th>\n",
       "      <td>网上购物-商城-优惠</td>\n",
       "      <td>寺库奢侈品</td>\n",
       "      <td>1964</td>\n",
       "      <td>175.4万</td>\n",
       "      <td>100.00%</td>\n",
       "      <td>17.21MB</td>\n",
       "      <td>2017年09月30日</td>\n",
       "    </tr>\n",
       "    <tr>\n",
       "      <th>6</th>\n",
       "      <td>网上购物-商城</td>\n",
       "      <td>淘宝</td>\n",
       "      <td>14244</td>\n",
       "      <td>4.6亿</td>\n",
       "      <td>68.00%</td>\n",
       "      <td>73.78MB</td>\n",
       "      <td>2017年10月13日</td>\n",
       "    </tr>\n",
       "    <tr>\n",
       "      <th>7</th>\n",
       "      <td>网上购物-商城-团购-优惠</td>\n",
       "      <td>当当</td>\n",
       "      <td>134</td>\n",
       "      <td>1615.3万</td>\n",
       "      <td>61.00%</td>\n",
       "      <td>37.01MB</td>\n",
       "      <td>2017年10月17日</td>\n",
       "    </tr>\n",
       "    <tr>\n",
       "      <th>8</th>\n",
       "      <td>网上购物-商城-团购-优惠</td>\n",
       "      <td>当当</td>\n",
       "      <td>134</td>\n",
       "      <td>1615.3万</td>\n",
       "      <td>61.00%</td>\n",
       "      <td>37.01MB</td>\n",
       "      <td>2017年10月17日</td>\n",
       "    </tr>\n",
       "    <tr>\n",
       "      <th>9</th>\n",
       "      <td>网上购物-商城-团购-优惠</td>\n",
       "      <td>当当</td>\n",
       "      <td>134</td>\n",
       "      <td>1615.3万</td>\n",
       "      <td>61.00%</td>\n",
       "      <td>37.01MB</td>\n",
       "      <td>2017年10月17日</td>\n",
       "    </tr>\n",
       "  </tbody>\n",
       "</table>\n",
       "</div>"
      ],
      "text/plain": [
       "        appcategory appname  comments  install     love     size       update\n",
       "0  网上购物-商城-团购-优惠-快递    每日优鲜      1297   204.7万   89.00%  15.16MB  2017年10月11日\n",
       "1           网上购物-商城    苏宁易购       577  7996.8万   73.00%   58.9MB  2017年09月21日\n",
       "2        网上购物-商城-优惠     唯品会      2543  7090.1万   86.00%  41.43MB  2017年10月13日\n",
       "3        网上购物-商城-优惠     唯品会      2543  7090.1万   86.00%  41.43MB  2017年10月13日\n",
       "4           网上购物-商城     拼多多      1921  3841.9万   95.00%  13.35MB  2017年10月11日\n",
       "5        网上购物-商城-优惠   寺库奢侈品      1964   175.4万  100.00%  17.21MB  2017年09月30日\n",
       "6           网上购物-商城      淘宝     14244     4.6亿   68.00%  73.78MB  2017年10月13日\n",
       "7     网上购物-商城-团购-优惠      当当       134  1615.3万   61.00%  37.01MB  2017年10月17日\n",
       "8     网上购物-商城-团购-优惠      当当       134  1615.3万   61.00%  37.01MB  2017年10月17日\n",
       "9     网上购物-商城-团购-优惠      当当       134  1615.3万   61.00%  37.01MB  2017年10月17日"
      ]
     },
     "execution_count": 16,
     "metadata": {},
     "output_type": "execute_result"
    }
   ],
   "source": [
    "df"
   ]
  },
  {
   "cell_type": "code",
   "execution_count": 17,
   "metadata": {},
   "outputs": [
    {
     "data": {
      "text/html": [
       "<div>\n",
       "<style scoped>\n",
       "    .dataframe tbody tr th:only-of-type {\n",
       "        vertical-align: middle;\n",
       "    }\n",
       "\n",
       "    .dataframe tbody tr th {\n",
       "        vertical-align: top;\n",
       "    }\n",
       "\n",
       "    .dataframe thead th {\n",
       "        text-align: right;\n",
       "    }\n",
       "</style>\n",
       "<table border=\"1\" class=\"dataframe\">\n",
       "  <thead>\n",
       "    <tr style=\"text-align: right;\">\n",
       "      <th></th>\n",
       "      <th>appcategory</th>\n",
       "      <th>appname</th>\n",
       "      <th>comments</th>\n",
       "      <th>install</th>\n",
       "      <th>love</th>\n",
       "      <th>size</th>\n",
       "      <th>update</th>\n",
       "    </tr>\n",
       "  </thead>\n",
       "  <tbody>\n",
       "    <tr>\n",
       "      <th>0</th>\n",
       "      <td>网上购物-商城-团购-优惠-快递</td>\n",
       "      <td>每日优鲜</td>\n",
       "      <td>1297</td>\n",
       "      <td>204.7万</td>\n",
       "      <td>89.00%</td>\n",
       "      <td>15.16MB</td>\n",
       "      <td>2017年10月11日</td>\n",
       "    </tr>\n",
       "    <tr>\n",
       "      <th>1</th>\n",
       "      <td>网上购物-商城</td>\n",
       "      <td>苏宁易购</td>\n",
       "      <td>577</td>\n",
       "      <td>7996.8万</td>\n",
       "      <td>73.00%</td>\n",
       "      <td>58.9MB</td>\n",
       "      <td>2017年09月21日</td>\n",
       "    </tr>\n",
       "    <tr>\n",
       "      <th>2</th>\n",
       "      <td>网上购物-商城-优惠</td>\n",
       "      <td>唯品会</td>\n",
       "      <td>2543</td>\n",
       "      <td>7090.1万</td>\n",
       "      <td>86.00%</td>\n",
       "      <td>41.43MB</td>\n",
       "      <td>2017年10月13日</td>\n",
       "    </tr>\n",
       "    <tr>\n",
       "      <th>4</th>\n",
       "      <td>网上购物-商城</td>\n",
       "      <td>拼多多</td>\n",
       "      <td>1921</td>\n",
       "      <td>3841.9万</td>\n",
       "      <td>95.00%</td>\n",
       "      <td>13.35MB</td>\n",
       "      <td>2017年10月11日</td>\n",
       "    </tr>\n",
       "    <tr>\n",
       "      <th>5</th>\n",
       "      <td>网上购物-商城-优惠</td>\n",
       "      <td>寺库奢侈品</td>\n",
       "      <td>1964</td>\n",
       "      <td>175.4万</td>\n",
       "      <td>100.00%</td>\n",
       "      <td>17.21MB</td>\n",
       "      <td>2017年09月30日</td>\n",
       "    </tr>\n",
       "    <tr>\n",
       "      <th>6</th>\n",
       "      <td>网上购物-商城</td>\n",
       "      <td>淘宝</td>\n",
       "      <td>14244</td>\n",
       "      <td>4.6亿</td>\n",
       "      <td>68.00%</td>\n",
       "      <td>73.78MB</td>\n",
       "      <td>2017年10月13日</td>\n",
       "    </tr>\n",
       "    <tr>\n",
       "      <th>7</th>\n",
       "      <td>网上购物-商城-团购-优惠</td>\n",
       "      <td>当当</td>\n",
       "      <td>134</td>\n",
       "      <td>1615.3万</td>\n",
       "      <td>61.00%</td>\n",
       "      <td>37.01MB</td>\n",
       "      <td>2017年10月17日</td>\n",
       "    </tr>\n",
       "  </tbody>\n",
       "</table>\n",
       "</div>"
      ],
      "text/plain": [
       "        appcategory appname  comments  install     love     size       update\n",
       "0  网上购物-商城-团购-优惠-快递    每日优鲜      1297   204.7万   89.00%  15.16MB  2017年10月11日\n",
       "1           网上购物-商城    苏宁易购       577  7996.8万   73.00%   58.9MB  2017年09月21日\n",
       "2        网上购物-商城-优惠     唯品会      2543  7090.1万   86.00%  41.43MB  2017年10月13日\n",
       "4           网上购物-商城     拼多多      1921  3841.9万   95.00%  13.35MB  2017年10月11日\n",
       "5        网上购物-商城-优惠   寺库奢侈品      1964   175.4万  100.00%  17.21MB  2017年09月30日\n",
       "6           网上购物-商城      淘宝     14244     4.6亿   68.00%  73.78MB  2017年10月13日\n",
       "7     网上购物-商城-团购-优惠      当当       134  1615.3万   61.00%  37.01MB  2017年10月17日"
      ]
     },
     "execution_count": 17,
     "metadata": {},
     "output_type": "execute_result"
    }
   ],
   "source": [
    "df.drop_duplicates(['size']) #按照size重复去重"
   ]
  },
  {
   "cell_type": "code",
   "execution_count": 18,
   "metadata": {},
   "outputs": [],
   "source": [
    "df.drop_duplicates(subset= ['appname','size'],inplace=True) #按照两个变量重复来去除"
   ]
  },
  {
   "cell_type": "code",
   "execution_count": 19,
   "metadata": {},
   "outputs": [
    {
     "data": {
      "text/html": [
       "<div>\n",
       "<style scoped>\n",
       "    .dataframe tbody tr th:only-of-type {\n",
       "        vertical-align: middle;\n",
       "    }\n",
       "\n",
       "    .dataframe tbody tr th {\n",
       "        vertical-align: top;\n",
       "    }\n",
       "\n",
       "    .dataframe thead th {\n",
       "        text-align: right;\n",
       "    }\n",
       "</style>\n",
       "<table border=\"1\" class=\"dataframe\">\n",
       "  <thead>\n",
       "    <tr style=\"text-align: right;\">\n",
       "      <th></th>\n",
       "      <th>appcategory</th>\n",
       "      <th>appname</th>\n",
       "      <th>comments</th>\n",
       "      <th>install</th>\n",
       "      <th>love</th>\n",
       "      <th>size</th>\n",
       "      <th>update</th>\n",
       "    </tr>\n",
       "  </thead>\n",
       "  <tbody>\n",
       "    <tr>\n",
       "      <th>0</th>\n",
       "      <td>网上购物-商城-团购-优惠-快递</td>\n",
       "      <td>每日优鲜</td>\n",
       "      <td>1297</td>\n",
       "      <td>204.7万</td>\n",
       "      <td>89.00%</td>\n",
       "      <td>15.16MB</td>\n",
       "      <td>2017年10月11日</td>\n",
       "    </tr>\n",
       "    <tr>\n",
       "      <th>1</th>\n",
       "      <td>网上购物-商城</td>\n",
       "      <td>苏宁易购</td>\n",
       "      <td>577</td>\n",
       "      <td>7996.8万</td>\n",
       "      <td>73.00%</td>\n",
       "      <td>58.9MB</td>\n",
       "      <td>2017年09月21日</td>\n",
       "    </tr>\n",
       "    <tr>\n",
       "      <th>2</th>\n",
       "      <td>网上购物-商城-优惠</td>\n",
       "      <td>唯品会</td>\n",
       "      <td>2543</td>\n",
       "      <td>7090.1万</td>\n",
       "      <td>86.00%</td>\n",
       "      <td>41.43MB</td>\n",
       "      <td>2017年10月13日</td>\n",
       "    </tr>\n",
       "    <tr>\n",
       "      <th>4</th>\n",
       "      <td>网上购物-商城</td>\n",
       "      <td>拼多多</td>\n",
       "      <td>1921</td>\n",
       "      <td>3841.9万</td>\n",
       "      <td>95.00%</td>\n",
       "      <td>13.35MB</td>\n",
       "      <td>2017年10月11日</td>\n",
       "    </tr>\n",
       "    <tr>\n",
       "      <th>5</th>\n",
       "      <td>网上购物-商城-优惠</td>\n",
       "      <td>寺库奢侈品</td>\n",
       "      <td>1964</td>\n",
       "      <td>175.4万</td>\n",
       "      <td>100.00%</td>\n",
       "      <td>17.21MB</td>\n",
       "      <td>2017年09月30日</td>\n",
       "    </tr>\n",
       "    <tr>\n",
       "      <th>6</th>\n",
       "      <td>网上购物-商城</td>\n",
       "      <td>淘宝</td>\n",
       "      <td>14244</td>\n",
       "      <td>4.6亿</td>\n",
       "      <td>68.00%</td>\n",
       "      <td>73.78MB</td>\n",
       "      <td>2017年10月13日</td>\n",
       "    </tr>\n",
       "    <tr>\n",
       "      <th>7</th>\n",
       "      <td>网上购物-商城-团购-优惠</td>\n",
       "      <td>当当</td>\n",
       "      <td>134</td>\n",
       "      <td>1615.3万</td>\n",
       "      <td>61.00%</td>\n",
       "      <td>37.01MB</td>\n",
       "      <td>2017年10月17日</td>\n",
       "    </tr>\n",
       "  </tbody>\n",
       "</table>\n",
       "</div>"
      ],
      "text/plain": [
       "        appcategory appname  comments  install     love     size       update\n",
       "0  网上购物-商城-团购-优惠-快递    每日优鲜      1297   204.7万   89.00%  15.16MB  2017年10月11日\n",
       "1           网上购物-商城    苏宁易购       577  7996.8万   73.00%   58.9MB  2017年09月21日\n",
       "2        网上购物-商城-优惠     唯品会      2543  7090.1万   86.00%  41.43MB  2017年10月13日\n",
       "4           网上购物-商城     拼多多      1921  3841.9万   95.00%  13.35MB  2017年10月11日\n",
       "5        网上购物-商城-优惠   寺库奢侈品      1964   175.4万  100.00%  17.21MB  2017年09月30日\n",
       "6           网上购物-商城      淘宝     14244     4.6亿   68.00%  73.78MB  2017年10月13日\n",
       "7     网上购物-商城-团购-优惠      当当       134  1615.3万   61.00%  37.01MB  2017年10月17日"
      ]
     },
     "execution_count": 19,
     "metadata": {},
     "output_type": "execute_result"
    }
   ],
   "source": [
    "df"
   ]
  },
  {
   "cell_type": "code",
   "execution_count": null,
   "metadata": {},
   "outputs": [],
   "source": []
  },
  {
   "cell_type": "code",
   "execution_count": 20,
   "metadata": {},
   "outputs": [
    {
     "name": "stdout",
     "output_type": "stream",
     "text": [
      "数据集中是否存在缺失值: \n",
      " True\n"
     ]
    },
    {
     "data": {
      "text/plain": [
       "uid           0\n",
       "regit_date    0\n",
       "gender        1\n",
       "age           3\n",
       "income        2\n",
       "dtype: int64"
      ]
     },
     "execution_count": 20,
     "metadata": {},
     "output_type": "execute_result"
    }
   ],
   "source": [
    "# # # # # # 缺失值处理\n",
    "# 数据导入\n",
    "df = pd.read_excel('data_test05.xlsx')\n",
    "print('数据集中是否存在缺失值: \\n', any(df.isnull()))\n",
    "np.sum(df.isnull()) #计算缺失数量"
   ]
  },
  {
   "cell_type": "code",
   "execution_count": 21,
   "metadata": {},
   "outputs": [
    {
     "data": {
      "text/plain": [
       "uid           0.0\n",
       "regit_date    0.0\n",
       "gender        0.1\n",
       "age           0.3\n",
       "income        0.2\n",
       "dtype: float64"
      ]
     },
     "execution_count": 21,
     "metadata": {},
     "output_type": "execute_result"
    }
   ],
   "source": [
    "df.apply(lambda x: sum(x.isnull())/len(x),axis= 0) #缺失比例"
   ]
  },
  {
   "cell_type": "code",
   "execution_count": null,
   "metadata": {},
   "outputs": [],
   "source": [
    "#删除法\n",
    "df.dropna() #直接删除法"
   ]
  },
  {
   "cell_type": "code",
   "execution_count": 23,
   "metadata": {},
   "outputs": [
    {
     "data": {
      "text/html": [
       "<div>\n",
       "<style scoped>\n",
       "    .dataframe tbody tr th:only-of-type {\n",
       "        vertical-align: middle;\n",
       "    }\n",
       "\n",
       "    .dataframe tbody tr th {\n",
       "        vertical-align: top;\n",
       "    }\n",
       "\n",
       "    .dataframe thead th {\n",
       "        text-align: right;\n",
       "    }\n",
       "</style>\n",
       "<table border=\"1\" class=\"dataframe\">\n",
       "  <thead>\n",
       "    <tr style=\"text-align: right;\">\n",
       "      <th></th>\n",
       "      <th>uid</th>\n",
       "      <th>regit_date</th>\n",
       "    </tr>\n",
       "  </thead>\n",
       "  <tbody>\n",
       "    <tr>\n",
       "      <th>0</th>\n",
       "      <td>81200457</td>\n",
       "      <td>2016-10-30</td>\n",
       "    </tr>\n",
       "    <tr>\n",
       "      <th>1</th>\n",
       "      <td>81201135</td>\n",
       "      <td>2016-11-08</td>\n",
       "    </tr>\n",
       "    <tr>\n",
       "      <th>2</th>\n",
       "      <td>80043782</td>\n",
       "      <td>2016-10-13</td>\n",
       "    </tr>\n",
       "    <tr>\n",
       "      <th>3</th>\n",
       "      <td>84639281</td>\n",
       "      <td>2017-04-17</td>\n",
       "    </tr>\n",
       "    <tr>\n",
       "      <th>4</th>\n",
       "      <td>73499801</td>\n",
       "      <td>2016-03-21</td>\n",
       "    </tr>\n",
       "    <tr>\n",
       "      <th>5</th>\n",
       "      <td>72399510</td>\n",
       "      <td>2016-01-18</td>\n",
       "    </tr>\n",
       "    <tr>\n",
       "      <th>6</th>\n",
       "      <td>63881943</td>\n",
       "      <td>2015-10-07</td>\n",
       "    </tr>\n",
       "    <tr>\n",
       "      <th>7</th>\n",
       "      <td>35442690</td>\n",
       "      <td>2015-04-10</td>\n",
       "    </tr>\n",
       "    <tr>\n",
       "      <th>8</th>\n",
       "      <td>77638351</td>\n",
       "      <td>2016-07-12</td>\n",
       "    </tr>\n",
       "    <tr>\n",
       "      <th>9</th>\n",
       "      <td>85200189</td>\n",
       "      <td>2017-05-18</td>\n",
       "    </tr>\n",
       "  </tbody>\n",
       "</table>\n",
       "</div>"
      ],
      "text/plain": [
       "        uid regit_date\n",
       "0  81200457 2016-10-30\n",
       "1  81201135 2016-11-08\n",
       "2  80043782 2016-10-13\n",
       "3  84639281 2017-04-17\n",
       "4  73499801 2016-03-21\n",
       "5  72399510 2016-01-18\n",
       "6  63881943 2015-10-07\n",
       "7  35442690 2015-04-10\n",
       "8  77638351 2016-07-12\n",
       "9  85200189 2017-05-18"
      ]
     },
     "execution_count": 23,
     "metadata": {},
     "output_type": "execute_result"
    }
   ],
   "source": [
    "df.dropna(how='any',axis = 1 ) #只要有缺失，就删除这一列"
   ]
  },
  {
   "cell_type": "code",
   "execution_count": 24,
   "metadata": {},
   "outputs": [
    {
     "data": {
      "text/html": [
       "<div>\n",
       "<style scoped>\n",
       "    .dataframe tbody tr th:only-of-type {\n",
       "        vertical-align: middle;\n",
       "    }\n",
       "\n",
       "    .dataframe tbody tr th {\n",
       "        vertical-align: top;\n",
       "    }\n",
       "\n",
       "    .dataframe thead th {\n",
       "        text-align: right;\n",
       "    }\n",
       "</style>\n",
       "<table border=\"1\" class=\"dataframe\">\n",
       "  <thead>\n",
       "    <tr style=\"text-align: right;\">\n",
       "      <th></th>\n",
       "      <th>uid</th>\n",
       "      <th>regit_date</th>\n",
       "      <th>gender</th>\n",
       "      <th>age</th>\n",
       "      <th>income</th>\n",
       "    </tr>\n",
       "  </thead>\n",
       "  <tbody>\n",
       "    <tr>\n",
       "      <th>0</th>\n",
       "      <td>81200457</td>\n",
       "      <td>2016-10-30</td>\n",
       "      <td>M</td>\n",
       "      <td>23.0</td>\n",
       "      <td>6500.0</td>\n",
       "    </tr>\n",
       "    <tr>\n",
       "      <th>1</th>\n",
       "      <td>81201135</td>\n",
       "      <td>2016-11-08</td>\n",
       "      <td>M</td>\n",
       "      <td>27.0</td>\n",
       "      <td>10300.0</td>\n",
       "    </tr>\n",
       "    <tr>\n",
       "      <th>3</th>\n",
       "      <td>84639281</td>\n",
       "      <td>2017-04-17</td>\n",
       "      <td>M</td>\n",
       "      <td>26.0</td>\n",
       "      <td>6000.0</td>\n",
       "    </tr>\n",
       "    <tr>\n",
       "      <th>6</th>\n",
       "      <td>63881943</td>\n",
       "      <td>2015-10-07</td>\n",
       "      <td>M</td>\n",
       "      <td>21.0</td>\n",
       "      <td>10000.0</td>\n",
       "    </tr>\n",
       "    <tr>\n",
       "      <th>8</th>\n",
       "      <td>77638351</td>\n",
       "      <td>2016-07-12</td>\n",
       "      <td>M</td>\n",
       "      <td>25.0</td>\n",
       "      <td>18000.0</td>\n",
       "    </tr>\n",
       "  </tbody>\n",
       "</table>\n",
       "</div>"
      ],
      "text/plain": [
       "        uid regit_date gender   age   income\n",
       "0  81200457 2016-10-30      M  23.0   6500.0\n",
       "1  81201135 2016-11-08      M  27.0  10300.0\n",
       "3  84639281 2017-04-17      M  26.0   6000.0\n",
       "6  63881943 2015-10-07      M  21.0  10000.0\n",
       "8  77638351 2016-07-12      M  25.0  18000.0"
      ]
     },
     "execution_count": 24,
     "metadata": {},
     "output_type": "execute_result"
    }
   ],
   "source": [
    "df.dropna(how='any',axis = 0) #只要有缺失，就删除这一行，等价于df.dropna()"
   ]
  },
  {
   "cell_type": "markdown",
   "metadata": {},
   "source": [
    "* axis = 0 或者 1代表的函数在数据集作用的方向，0代表沿着行的方向，1代表沿着列的方向 "
   ]
  },
  {
   "cell_type": "code",
   "execution_count": null,
   "metadata": {},
   "outputs": [],
   "source": []
  },
  {
   "cell_type": "code",
   "execution_count": 25,
   "metadata": {},
   "outputs": [
    {
     "data": {
      "text/html": [
       "<div>\n",
       "<style scoped>\n",
       "    .dataframe tbody tr th:only-of-type {\n",
       "        vertical-align: middle;\n",
       "    }\n",
       "\n",
       "    .dataframe tbody tr th {\n",
       "        vertical-align: top;\n",
       "    }\n",
       "\n",
       "    .dataframe thead th {\n",
       "        text-align: right;\n",
       "    }\n",
       "</style>\n",
       "<table border=\"1\" class=\"dataframe\">\n",
       "  <thead>\n",
       "    <tr style=\"text-align: right;\">\n",
       "      <th></th>\n",
       "      <th>uid</th>\n",
       "      <th>regit_date</th>\n",
       "      <th>gender</th>\n",
       "      <th>income</th>\n",
       "    </tr>\n",
       "  </thead>\n",
       "  <tbody>\n",
       "    <tr>\n",
       "      <th>0</th>\n",
       "      <td>81200457</td>\n",
       "      <td>2016-10-30</td>\n",
       "      <td>M</td>\n",
       "      <td>6500.0</td>\n",
       "    </tr>\n",
       "    <tr>\n",
       "      <th>1</th>\n",
       "      <td>81201135</td>\n",
       "      <td>2016-11-08</td>\n",
       "      <td>M</td>\n",
       "      <td>10300.0</td>\n",
       "    </tr>\n",
       "    <tr>\n",
       "      <th>2</th>\n",
       "      <td>80043782</td>\n",
       "      <td>2016-10-13</td>\n",
       "      <td>F</td>\n",
       "      <td>13500.0</td>\n",
       "    </tr>\n",
       "    <tr>\n",
       "      <th>3</th>\n",
       "      <td>84639281</td>\n",
       "      <td>2017-04-17</td>\n",
       "      <td>M</td>\n",
       "      <td>6000.0</td>\n",
       "    </tr>\n",
       "    <tr>\n",
       "      <th>4</th>\n",
       "      <td>73499801</td>\n",
       "      <td>2016-03-21</td>\n",
       "      <td>NaN</td>\n",
       "      <td>4500.0</td>\n",
       "    </tr>\n",
       "    <tr>\n",
       "      <th>5</th>\n",
       "      <td>72399510</td>\n",
       "      <td>2016-01-18</td>\n",
       "      <td>M</td>\n",
       "      <td>NaN</td>\n",
       "    </tr>\n",
       "    <tr>\n",
       "      <th>6</th>\n",
       "      <td>63881943</td>\n",
       "      <td>2015-10-07</td>\n",
       "      <td>M</td>\n",
       "      <td>10000.0</td>\n",
       "    </tr>\n",
       "    <tr>\n",
       "      <th>7</th>\n",
       "      <td>35442690</td>\n",
       "      <td>2015-04-10</td>\n",
       "      <td>F</td>\n",
       "      <td>5800.0</td>\n",
       "    </tr>\n",
       "    <tr>\n",
       "      <th>8</th>\n",
       "      <td>77638351</td>\n",
       "      <td>2016-07-12</td>\n",
       "      <td>M</td>\n",
       "      <td>18000.0</td>\n",
       "    </tr>\n",
       "    <tr>\n",
       "      <th>9</th>\n",
       "      <td>85200189</td>\n",
       "      <td>2017-05-18</td>\n",
       "      <td>M</td>\n",
       "      <td>NaN</td>\n",
       "    </tr>\n",
       "  </tbody>\n",
       "</table>\n",
       "</div>"
      ],
      "text/plain": [
       "        uid regit_date gender   income\n",
       "0  81200457 2016-10-30      M   6500.0\n",
       "1  81201135 2016-11-08      M  10300.0\n",
       "2  80043782 2016-10-13      F  13500.0\n",
       "3  84639281 2017-04-17      M   6000.0\n",
       "4  73499801 2016-03-21    NaN   4500.0\n",
       "5  72399510 2016-01-18      M      NaN\n",
       "6  63881943 2015-10-07      M  10000.0\n",
       "7  35442690 2015-04-10      F   5800.0\n",
       "8  77638351 2016-07-12      M  18000.0\n",
       "9  85200189 2017-05-18      M      NaN"
      ]
     },
     "execution_count": 25,
     "metadata": {},
     "output_type": "execute_result"
    }
   ],
   "source": [
    "df.drop('age', axis=1) #删除变量"
   ]
  },
  {
   "cell_type": "code",
   "execution_count": 26,
   "metadata": {},
   "outputs": [
    {
     "data": {
      "text/html": [
       "<div>\n",
       "<style scoped>\n",
       "    .dataframe tbody tr th:only-of-type {\n",
       "        vertical-align: middle;\n",
       "    }\n",
       "\n",
       "    .dataframe tbody tr th {\n",
       "        vertical-align: top;\n",
       "    }\n",
       "\n",
       "    .dataframe thead th {\n",
       "        text-align: right;\n",
       "    }\n",
       "</style>\n",
       "<table border=\"1\" class=\"dataframe\">\n",
       "  <thead>\n",
       "    <tr style=\"text-align: right;\">\n",
       "      <th></th>\n",
       "      <th>uid</th>\n",
       "      <th>regit_date</th>\n",
       "      <th>gender</th>\n",
       "      <th>age</th>\n",
       "      <th>income</th>\n",
       "    </tr>\n",
       "  </thead>\n",
       "  <tbody>\n",
       "    <tr>\n",
       "      <th>0</th>\n",
       "      <td>81200457</td>\n",
       "      <td>2016-10-30</td>\n",
       "      <td>M</td>\n",
       "      <td>23.0</td>\n",
       "      <td>6500.0</td>\n",
       "    </tr>\n",
       "    <tr>\n",
       "      <th>1</th>\n",
       "      <td>81201135</td>\n",
       "      <td>2016-11-08</td>\n",
       "      <td>M</td>\n",
       "      <td>27.0</td>\n",
       "      <td>10300.0</td>\n",
       "    </tr>\n",
       "    <tr>\n",
       "      <th>3</th>\n",
       "      <td>84639281</td>\n",
       "      <td>2017-04-17</td>\n",
       "      <td>M</td>\n",
       "      <td>26.0</td>\n",
       "      <td>6000.0</td>\n",
       "    </tr>\n",
       "    <tr>\n",
       "      <th>6</th>\n",
       "      <td>63881943</td>\n",
       "      <td>2015-10-07</td>\n",
       "      <td>M</td>\n",
       "      <td>21.0</td>\n",
       "      <td>10000.0</td>\n",
       "    </tr>\n",
       "    <tr>\n",
       "      <th>8</th>\n",
       "      <td>77638351</td>\n",
       "      <td>2016-07-12</td>\n",
       "      <td>M</td>\n",
       "      <td>25.0</td>\n",
       "      <td>18000.0</td>\n",
       "    </tr>\n",
       "  </tbody>\n",
       "</table>\n",
       "</div>"
      ],
      "text/plain": [
       "        uid regit_date gender   age   income\n",
       "0  81200457 2016-10-30      M  23.0   6500.0\n",
       "1  81201135 2016-11-08      M  27.0  10300.0\n",
       "3  84639281 2017-04-17      M  26.0   6000.0\n",
       "6  63881943 2015-10-07      M  21.0  10000.0\n",
       "8  77638351 2016-07-12      M  25.0  18000.0"
      ]
     },
     "execution_count": 26,
     "metadata": {},
     "output_type": "execute_result"
    }
   ],
   "source": [
    "df.dropna(axis = 0,how='any',subset=['age','gender','income'] ) #1代表列，0代表行，只要有缺失，就删除这一行,基于三个变量"
   ]
  },
  {
   "cell_type": "markdown",
   "metadata": {},
   "source": [
    "在数据分析中，实际上大部分时候都是按照行来进行删除的，很少会基于列来进行删除 列代表的是变量，是否删除删除列很多时候主要取决于缺失比例\n",
    "\n",
    "使用替换法进行缺失值的填补"
   ]
  },
  {
   "cell_type": "code",
   "execution_count": 27,
   "metadata": {},
   "outputs": [
    {
     "data": {
      "text/plain": [
       "0    23.000000\n",
       "1    27.000000\n",
       "2    23.285714\n",
       "3    26.000000\n",
       "4    23.285714\n",
       "5    19.000000\n",
       "6    21.000000\n",
       "7    23.285714\n",
       "8    25.000000\n",
       "9    22.000000\n",
       "Name: age, dtype: float64"
      ]
     },
     "execution_count": 27,
     "metadata": {},
     "output_type": "execute_result"
    }
   ],
   "source": [
    "# 替换法\n",
    "df.age.fillna(df.age.mean()) # 年龄用均值填补"
   ]
  },
  {
   "cell_type": "code",
   "execution_count": 28,
   "metadata": {},
   "outputs": [
    {
     "data": {
      "text/html": [
       "<div>\n",
       "<style scoped>\n",
       "    .dataframe tbody tr th:only-of-type {\n",
       "        vertical-align: middle;\n",
       "    }\n",
       "\n",
       "    .dataframe tbody tr th {\n",
       "        vertical-align: top;\n",
       "    }\n",
       "\n",
       "    .dataframe thead th {\n",
       "        text-align: right;\n",
       "    }\n",
       "</style>\n",
       "<table border=\"1\" class=\"dataframe\">\n",
       "  <thead>\n",
       "    <tr style=\"text-align: right;\">\n",
       "      <th></th>\n",
       "      <th>uid</th>\n",
       "      <th>regit_date</th>\n",
       "      <th>gender</th>\n",
       "      <th>age</th>\n",
       "      <th>income</th>\n",
       "    </tr>\n",
       "  </thead>\n",
       "  <tbody>\n",
       "    <tr>\n",
       "      <th>0</th>\n",
       "      <td>81200457</td>\n",
       "      <td>2016-10-30</td>\n",
       "      <td>M</td>\n",
       "      <td>23.0</td>\n",
       "      <td>6500.0</td>\n",
       "    </tr>\n",
       "    <tr>\n",
       "      <th>1</th>\n",
       "      <td>81201135</td>\n",
       "      <td>2016-11-08</td>\n",
       "      <td>M</td>\n",
       "      <td>27.0</td>\n",
       "      <td>10300.0</td>\n",
       "    </tr>\n",
       "    <tr>\n",
       "      <th>2</th>\n",
       "      <td>80043782</td>\n",
       "      <td>2016-10-13</td>\n",
       "      <td>F</td>\n",
       "      <td>NaN</td>\n",
       "      <td>13500.0</td>\n",
       "    </tr>\n",
       "    <tr>\n",
       "      <th>3</th>\n",
       "      <td>84639281</td>\n",
       "      <td>2017-04-17</td>\n",
       "      <td>M</td>\n",
       "      <td>26.0</td>\n",
       "      <td>6000.0</td>\n",
       "    </tr>\n",
       "    <tr>\n",
       "      <th>4</th>\n",
       "      <td>73499801</td>\n",
       "      <td>2016-03-21</td>\n",
       "      <td>NaN</td>\n",
       "      <td>NaN</td>\n",
       "      <td>4500.0</td>\n",
       "    </tr>\n",
       "    <tr>\n",
       "      <th>5</th>\n",
       "      <td>72399510</td>\n",
       "      <td>2016-01-18</td>\n",
       "      <td>M</td>\n",
       "      <td>19.0</td>\n",
       "      <td>NaN</td>\n",
       "    </tr>\n",
       "    <tr>\n",
       "      <th>6</th>\n",
       "      <td>63881943</td>\n",
       "      <td>2015-10-07</td>\n",
       "      <td>M</td>\n",
       "      <td>21.0</td>\n",
       "      <td>10000.0</td>\n",
       "    </tr>\n",
       "    <tr>\n",
       "      <th>7</th>\n",
       "      <td>35442690</td>\n",
       "      <td>2015-04-10</td>\n",
       "      <td>F</td>\n",
       "      <td>NaN</td>\n",
       "      <td>5800.0</td>\n",
       "    </tr>\n",
       "    <tr>\n",
       "      <th>8</th>\n",
       "      <td>77638351</td>\n",
       "      <td>2016-07-12</td>\n",
       "      <td>M</td>\n",
       "      <td>25.0</td>\n",
       "      <td>18000.0</td>\n",
       "    </tr>\n",
       "    <tr>\n",
       "      <th>9</th>\n",
       "      <td>85200189</td>\n",
       "      <td>2017-05-18</td>\n",
       "      <td>M</td>\n",
       "      <td>22.0</td>\n",
       "      <td>NaN</td>\n",
       "    </tr>\n",
       "  </tbody>\n",
       "</table>\n",
       "</div>"
      ],
      "text/plain": [
       "        uid regit_date gender   age   income\n",
       "0  81200457 2016-10-30      M  23.0   6500.0\n",
       "1  81201135 2016-11-08      M  27.0  10300.0\n",
       "2  80043782 2016-10-13      F   NaN  13500.0\n",
       "3  84639281 2017-04-17      M  26.0   6000.0\n",
       "4  73499801 2016-03-21    NaN   NaN   4500.0\n",
       "5  72399510 2016-01-18      M  19.0      NaN\n",
       "6  63881943 2015-10-07      M  21.0  10000.0\n",
       "7  35442690 2015-04-10      F   NaN   5800.0\n",
       "8  77638351 2016-07-12      M  25.0  18000.0\n",
       "9  85200189 2017-05-18      M  22.0      NaN"
      ]
     },
     "execution_count": 28,
     "metadata": {},
     "output_type": "execute_result"
    }
   ],
   "source": []
  },
  {
   "cell_type": "code",
   "execution_count": 29,
   "metadata": {},
   "outputs": [
    {
     "data": {
      "text/plain": [
       "0    23.000000\n",
       "1    27.000000\n",
       "2    23.285714\n",
       "3    26.000000\n",
       "4    23.285714\n",
       "5    19.000000\n",
       "6    21.000000\n",
       "7    23.285714\n",
       "8    25.000000\n",
       "9    22.000000\n",
       "Name: age, dtype: float64"
      ]
     },
     "execution_count": 29,
     "metadata": {},
     "output_type": "execute_result"
    }
   ],
   "source": [
    "df.age.fillna(df.age.mean()) # 年龄用均值填补"
   ]
  },
  {
   "cell_type": "code",
   "execution_count": 30,
   "metadata": {},
   "outputs": [
    {
     "data": {
      "text/plain": [
       "0    23.0\n",
       "1    27.0\n",
       "2    23.0\n",
       "3    26.0\n",
       "4    23.0\n",
       "5    19.0\n",
       "6    21.0\n",
       "7    23.0\n",
       "8    25.0\n",
       "9    22.0\n",
       "Name: age, dtype: float64"
      ]
     },
     "execution_count": 30,
     "metadata": {},
     "output_type": "execute_result"
    }
   ],
   "source": [
    "df.age.fillna(df.age.median()) #中位数填补"
   ]
  },
  {
   "cell_type": "code",
   "execution_count": 31,
   "metadata": {},
   "outputs": [
    {
     "data": {
      "text/plain": [
       "0    M\n",
       "1    M\n",
       "2    F\n",
       "3    M\n",
       "4    M\n",
       "5    M\n",
       "6    M\n",
       "7    F\n",
       "8    M\n",
       "9    M\n",
       "Name: gender, dtype: object"
      ]
     },
     "execution_count": 31,
     "metadata": {},
     "output_type": "execute_result"
    }
   ],
   "source": [
    "df.gender.fillna(df.gender.mode()[0]) #众数填补"
   ]
  },
  {
   "cell_type": "code",
   "execution_count": 32,
   "metadata": {},
   "outputs": [
    {
     "data": {
      "text/plain": [
       "0    23.0\n",
       "1    27.0\n",
       "2    20.0\n",
       "3    26.0\n",
       "4    20.0\n",
       "5    19.0\n",
       "6    21.0\n",
       "7    20.0\n",
       "8    25.0\n",
       "9    22.0\n",
       "Name: age, dtype: float64"
      ]
     },
     "execution_count": 32,
     "metadata": {},
     "output_type": "execute_result"
    }
   ],
   "source": [
    "df.age.fillna(20) #年龄用20填补"
   ]
  },
  {
   "cell_type": "code",
   "execution_count": 33,
   "metadata": {},
   "outputs": [
    {
     "data": {
      "text/html": [
       "<div>\n",
       "<style scoped>\n",
       "    .dataframe tbody tr th:only-of-type {\n",
       "        vertical-align: middle;\n",
       "    }\n",
       "\n",
       "    .dataframe tbody tr th {\n",
       "        vertical-align: top;\n",
       "    }\n",
       "\n",
       "    .dataframe thead th {\n",
       "        text-align: right;\n",
       "    }\n",
       "</style>\n",
       "<table border=\"1\" class=\"dataframe\">\n",
       "  <thead>\n",
       "    <tr style=\"text-align: right;\">\n",
       "      <th></th>\n",
       "      <th>uid</th>\n",
       "      <th>regit_date</th>\n",
       "      <th>gender</th>\n",
       "      <th>age</th>\n",
       "      <th>income</th>\n",
       "    </tr>\n",
       "  </thead>\n",
       "  <tbody>\n",
       "    <tr>\n",
       "      <th>0</th>\n",
       "      <td>81200457</td>\n",
       "      <td>2016-10-30</td>\n",
       "      <td>M</td>\n",
       "      <td>23.0</td>\n",
       "      <td>6500.0</td>\n",
       "    </tr>\n",
       "    <tr>\n",
       "      <th>1</th>\n",
       "      <td>81201135</td>\n",
       "      <td>2016-11-08</td>\n",
       "      <td>M</td>\n",
       "      <td>27.0</td>\n",
       "      <td>10300.0</td>\n",
       "    </tr>\n",
       "    <tr>\n",
       "      <th>2</th>\n",
       "      <td>80043782</td>\n",
       "      <td>2016-10-13</td>\n",
       "      <td>F</td>\n",
       "      <td>20.0</td>\n",
       "      <td>13500.0</td>\n",
       "    </tr>\n",
       "    <tr>\n",
       "      <th>3</th>\n",
       "      <td>84639281</td>\n",
       "      <td>2017-04-17</td>\n",
       "      <td>M</td>\n",
       "      <td>26.0</td>\n",
       "      <td>6000.0</td>\n",
       "    </tr>\n",
       "    <tr>\n",
       "      <th>4</th>\n",
       "      <td>73499801</td>\n",
       "      <td>2016-03-21</td>\n",
       "      <td>20</td>\n",
       "      <td>20.0</td>\n",
       "      <td>4500.0</td>\n",
       "    </tr>\n",
       "    <tr>\n",
       "      <th>5</th>\n",
       "      <td>72399510</td>\n",
       "      <td>2016-01-18</td>\n",
       "      <td>M</td>\n",
       "      <td>19.0</td>\n",
       "      <td>20.0</td>\n",
       "    </tr>\n",
       "    <tr>\n",
       "      <th>6</th>\n",
       "      <td>63881943</td>\n",
       "      <td>2015-10-07</td>\n",
       "      <td>M</td>\n",
       "      <td>21.0</td>\n",
       "      <td>10000.0</td>\n",
       "    </tr>\n",
       "    <tr>\n",
       "      <th>7</th>\n",
       "      <td>35442690</td>\n",
       "      <td>2015-04-10</td>\n",
       "      <td>F</td>\n",
       "      <td>20.0</td>\n",
       "      <td>5800.0</td>\n",
       "    </tr>\n",
       "    <tr>\n",
       "      <th>8</th>\n",
       "      <td>77638351</td>\n",
       "      <td>2016-07-12</td>\n",
       "      <td>M</td>\n",
       "      <td>25.0</td>\n",
       "      <td>18000.0</td>\n",
       "    </tr>\n",
       "    <tr>\n",
       "      <th>9</th>\n",
       "      <td>85200189</td>\n",
       "      <td>2017-05-18</td>\n",
       "      <td>M</td>\n",
       "      <td>22.0</td>\n",
       "      <td>20.0</td>\n",
       "    </tr>\n",
       "  </tbody>\n",
       "</table>\n",
       "</div>"
      ],
      "text/plain": [
       "        uid regit_date gender   age   income\n",
       "0  81200457 2016-10-30      M  23.0   6500.0\n",
       "1  81201135 2016-11-08      M  27.0  10300.0\n",
       "2  80043782 2016-10-13      F  20.0  13500.0\n",
       "3  84639281 2017-04-17      M  26.0   6000.0\n",
       "4  73499801 2016-03-21     20  20.0   4500.0\n",
       "5  72399510 2016-01-18      M  19.0     20.0\n",
       "6  63881943 2015-10-07      M  21.0  10000.0\n",
       "7  35442690 2015-04-10      F  20.0   5800.0\n",
       "8  77638351 2016-07-12      M  25.0  18000.0\n",
       "9  85200189 2017-05-18      M  22.0     20.0"
      ]
     },
     "execution_count": 33,
     "metadata": {},
     "output_type": "execute_result"
    }
   ],
   "source": [
    "df.fillna(20) # 所有缺失用20填补"
   ]
  },
  {
   "cell_type": "code",
   "execution_count": 34,
   "metadata": {},
   "outputs": [
    {
     "data": {
      "text/html": [
       "<div>\n",
       "<style scoped>\n",
       "    .dataframe tbody tr th:only-of-type {\n",
       "        vertical-align: middle;\n",
       "    }\n",
       "\n",
       "    .dataframe tbody tr th {\n",
       "        vertical-align: top;\n",
       "    }\n",
       "\n",
       "    .dataframe thead th {\n",
       "        text-align: right;\n",
       "    }\n",
       "</style>\n",
       "<table border=\"1\" class=\"dataframe\">\n",
       "  <thead>\n",
       "    <tr style=\"text-align: right;\">\n",
       "      <th></th>\n",
       "      <th>uid</th>\n",
       "      <th>regit_date</th>\n",
       "      <th>gender</th>\n",
       "      <th>age</th>\n",
       "      <th>income</th>\n",
       "    </tr>\n",
       "  </thead>\n",
       "  <tbody>\n",
       "    <tr>\n",
       "      <th>0</th>\n",
       "      <td>81200457</td>\n",
       "      <td>2016-10-30</td>\n",
       "      <td>M</td>\n",
       "      <td>23.000000</td>\n",
       "      <td>6500.0</td>\n",
       "    </tr>\n",
       "    <tr>\n",
       "      <th>1</th>\n",
       "      <td>81201135</td>\n",
       "      <td>2016-11-08</td>\n",
       "      <td>M</td>\n",
       "      <td>27.000000</td>\n",
       "      <td>10300.0</td>\n",
       "    </tr>\n",
       "    <tr>\n",
       "      <th>2</th>\n",
       "      <td>80043782</td>\n",
       "      <td>2016-10-13</td>\n",
       "      <td>F</td>\n",
       "      <td>23.285714</td>\n",
       "      <td>13500.0</td>\n",
       "    </tr>\n",
       "    <tr>\n",
       "      <th>3</th>\n",
       "      <td>84639281</td>\n",
       "      <td>2017-04-17</td>\n",
       "      <td>M</td>\n",
       "      <td>26.000000</td>\n",
       "      <td>6000.0</td>\n",
       "    </tr>\n",
       "    <tr>\n",
       "      <th>4</th>\n",
       "      <td>73499801</td>\n",
       "      <td>2016-03-21</td>\n",
       "      <td>M</td>\n",
       "      <td>23.285714</td>\n",
       "      <td>4500.0</td>\n",
       "    </tr>\n",
       "    <tr>\n",
       "      <th>5</th>\n",
       "      <td>72399510</td>\n",
       "      <td>2016-01-18</td>\n",
       "      <td>M</td>\n",
       "      <td>19.000000</td>\n",
       "      <td>8250.0</td>\n",
       "    </tr>\n",
       "    <tr>\n",
       "      <th>6</th>\n",
       "      <td>63881943</td>\n",
       "      <td>2015-10-07</td>\n",
       "      <td>M</td>\n",
       "      <td>21.000000</td>\n",
       "      <td>10000.0</td>\n",
       "    </tr>\n",
       "    <tr>\n",
       "      <th>7</th>\n",
       "      <td>35442690</td>\n",
       "      <td>2015-04-10</td>\n",
       "      <td>F</td>\n",
       "      <td>23.285714</td>\n",
       "      <td>5800.0</td>\n",
       "    </tr>\n",
       "    <tr>\n",
       "      <th>8</th>\n",
       "      <td>77638351</td>\n",
       "      <td>2016-07-12</td>\n",
       "      <td>M</td>\n",
       "      <td>25.000000</td>\n",
       "      <td>18000.0</td>\n",
       "    </tr>\n",
       "    <tr>\n",
       "      <th>9</th>\n",
       "      <td>85200189</td>\n",
       "      <td>2017-05-18</td>\n",
       "      <td>M</td>\n",
       "      <td>22.000000</td>\n",
       "      <td>8250.0</td>\n",
       "    </tr>\n",
       "  </tbody>\n",
       "</table>\n",
       "</div>"
      ],
      "text/plain": [
       "        uid regit_date gender        age   income\n",
       "0  81200457 2016-10-30      M  23.000000   6500.0\n",
       "1  81201135 2016-11-08      M  27.000000  10300.0\n",
       "2  80043782 2016-10-13      F  23.285714  13500.0\n",
       "3  84639281 2017-04-17      M  26.000000   6000.0\n",
       "4  73499801 2016-03-21      M  23.285714   4500.0\n",
       "5  72399510 2016-01-18      M  19.000000   8250.0\n",
       "6  63881943 2015-10-07      M  21.000000  10000.0\n",
       "7  35442690 2015-04-10      F  23.285714   5800.0\n",
       "8  77638351 2016-07-12      M  25.000000  18000.0\n",
       "9  85200189 2017-05-18      M  22.000000   8250.0"
      ]
     },
     "execution_count": 34,
     "metadata": {},
     "output_type": "execute_result"
    }
   ],
   "source": [
    "#性别使用众数,年龄使用均值,收入使用中位数\n",
    "df.fillna(value = {'gender':df.gender.mode()[0],'age':df.age.mean(),'income':df.income.median()})"
   ]
  },
  {
   "cell_type": "code",
   "execution_count": 35,
   "metadata": {},
   "outputs": [
    {
     "data": {
      "text/html": [
       "<div>\n",
       "<style scoped>\n",
       "    .dataframe tbody tr th:only-of-type {\n",
       "        vertical-align: middle;\n",
       "    }\n",
       "\n",
       "    .dataframe tbody tr th {\n",
       "        vertical-align: top;\n",
       "    }\n",
       "\n",
       "    .dataframe thead th {\n",
       "        text-align: right;\n",
       "    }\n",
       "</style>\n",
       "<table border=\"1\" class=\"dataframe\">\n",
       "  <thead>\n",
       "    <tr style=\"text-align: right;\">\n",
       "      <th></th>\n",
       "      <th>uid</th>\n",
       "      <th>regit_date</th>\n",
       "      <th>gender</th>\n",
       "      <th>age</th>\n",
       "      <th>income</th>\n",
       "    </tr>\n",
       "  </thead>\n",
       "  <tbody>\n",
       "    <tr>\n",
       "      <th>0</th>\n",
       "      <td>81200457</td>\n",
       "      <td>2016-10-30</td>\n",
       "      <td>M</td>\n",
       "      <td>23.0</td>\n",
       "      <td>6500.0</td>\n",
       "    </tr>\n",
       "    <tr>\n",
       "      <th>1</th>\n",
       "      <td>81201135</td>\n",
       "      <td>2016-11-08</td>\n",
       "      <td>M</td>\n",
       "      <td>27.0</td>\n",
       "      <td>10300.0</td>\n",
       "    </tr>\n",
       "    <tr>\n",
       "      <th>2</th>\n",
       "      <td>80043782</td>\n",
       "      <td>2016-10-13</td>\n",
       "      <td>F</td>\n",
       "      <td>27.0</td>\n",
       "      <td>13500.0</td>\n",
       "    </tr>\n",
       "    <tr>\n",
       "      <th>3</th>\n",
       "      <td>84639281</td>\n",
       "      <td>2017-04-17</td>\n",
       "      <td>M</td>\n",
       "      <td>26.0</td>\n",
       "      <td>6000.0</td>\n",
       "    </tr>\n",
       "    <tr>\n",
       "      <th>4</th>\n",
       "      <td>73499801</td>\n",
       "      <td>2016-03-21</td>\n",
       "      <td>M</td>\n",
       "      <td>26.0</td>\n",
       "      <td>4500.0</td>\n",
       "    </tr>\n",
       "    <tr>\n",
       "      <th>5</th>\n",
       "      <td>72399510</td>\n",
       "      <td>2016-01-18</td>\n",
       "      <td>M</td>\n",
       "      <td>19.0</td>\n",
       "      <td>4500.0</td>\n",
       "    </tr>\n",
       "    <tr>\n",
       "      <th>6</th>\n",
       "      <td>63881943</td>\n",
       "      <td>2015-10-07</td>\n",
       "      <td>M</td>\n",
       "      <td>21.0</td>\n",
       "      <td>10000.0</td>\n",
       "    </tr>\n",
       "    <tr>\n",
       "      <th>7</th>\n",
       "      <td>35442690</td>\n",
       "      <td>2015-04-10</td>\n",
       "      <td>F</td>\n",
       "      <td>21.0</td>\n",
       "      <td>5800.0</td>\n",
       "    </tr>\n",
       "    <tr>\n",
       "      <th>8</th>\n",
       "      <td>77638351</td>\n",
       "      <td>2016-07-12</td>\n",
       "      <td>M</td>\n",
       "      <td>25.0</td>\n",
       "      <td>18000.0</td>\n",
       "    </tr>\n",
       "    <tr>\n",
       "      <th>9</th>\n",
       "      <td>85200189</td>\n",
       "      <td>2017-05-18</td>\n",
       "      <td>M</td>\n",
       "      <td>22.0</td>\n",
       "      <td>18000.0</td>\n",
       "    </tr>\n",
       "  </tbody>\n",
       "</table>\n",
       "</div>"
      ],
      "text/plain": [
       "        uid regit_date gender   age   income\n",
       "0  81200457 2016-10-30      M  23.0   6500.0\n",
       "1  81201135 2016-11-08      M  27.0  10300.0\n",
       "2  80043782 2016-10-13      F  27.0  13500.0\n",
       "3  84639281 2017-04-17      M  26.0   6000.0\n",
       "4  73499801 2016-03-21      M  26.0   4500.0\n",
       "5  72399510 2016-01-18      M  19.0   4500.0\n",
       "6  63881943 2015-10-07      M  21.0  10000.0\n",
       "7  35442690 2015-04-10      F  21.0   5800.0\n",
       "8  77638351 2016-07-12      M  25.0  18000.0\n",
       "9  85200189 2017-05-18      M  22.0  18000.0"
      ]
     },
     "execution_count": 35,
     "metadata": {},
     "output_type": "execute_result"
    }
   ],
   "source": [
    "df.fillna(method='ffill') #前向填补"
   ]
  },
  {
   "cell_type": "code",
   "execution_count": null,
   "metadata": {},
   "outputs": [],
   "source": [
    "df.fillna(method='bfill') #后向填补"
   ]
  },
  {
   "cell_type": "code",
   "execution_count": null,
   "metadata": {},
   "outputs": [],
   "source": [
    "# 插补法\n",
    "df.age.interpolate(method='linear') #线性插值"
   ]
  },
  {
   "cell_type": "code",
   "execution_count": null,
   "metadata": {},
   "outputs": [],
   "source": [
    "df.age.interpolate(method='polynomial',order=1) #一次多项式插值"
   ]
  },
  {
   "cell_type": "markdown",
   "metadata": {},
   "source": [
    "3.2.3 异常值处理\n",
    "异常值检测可以使用均值的2倍标准差范围，也可以使用上下4分位数差方法"
   ]
  },
  {
   "cell_type": "code",
   "execution_count": 36,
   "metadata": {},
   "outputs": [
    {
     "name": "stdout",
     "output_type": "stream",
     "text": [
      "标准差法异常值上限检测：\n",
      " True\n",
      "标准差法异常值下限检测：\n",
      " False\n",
      "箱线图法异常值上限检测：\n",
      " True\n",
      "箱线图法异常值下限检测：\n",
      " False\n"
     ]
    }
   ],
   "source": [
    "import os \n",
    "os.chdir(r'E:\\云开明培训机构\\云开见明培训课件\\data summary\\第三章')\n",
    "sunspots = pd.read_csv('sunspots.csv',sep=',')\n",
    "# 异常值检测之标准差法\n",
    "xbar = sunspots.counts.mean() \n",
    "xstd = sunspots.counts.std()\n",
    "print('标准差法异常值上限检测：\\n',any(sunspots.counts > xbar + 2 * xstd))\n",
    "print('标准差法异常值下限检测：\\n',any(sunspots.counts < xbar - 2 * xstd))\n",
    "# 异常值检测之箱线图法\n",
    "Q1 = sunspots.counts.quantile(q = 0.25)\n",
    "Q3 = sunspots.counts.quantile(q = 0.75)\n",
    "IQR = Q3 - Q1\n",
    "print('箱线图法异常值上限检测：\\n',any(sunspots.counts > Q3 + 1.5 * IQR))\n",
    "print('箱线图法异常值下限检测：\\n',any(sunspots.counts < Q1 - 1.5 * IQR))\n",
    "\n"
   ]
  },
  {
   "cell_type": "code",
   "execution_count": 38,
   "metadata": {},
   "outputs": [
    {
     "data": {
      "text/plain": [
       "<matplotlib.axes._subplots.AxesSubplot at 0x906a320>"
      ]
     },
     "execution_count": 38,
     "metadata": {},
     "output_type": "execute_result"
    },
    {
     "data": {
      "image/png": "[encoded data removed]",
      "text/plain": [
       "<Figure size 432x288 with 1 Axes>"
      ]
     },
     "metadata": {
      "needs_background": "light"
     },
     "output_type": "display_data"
    }
   ],
   "source": [
    " sunspots.counts.plot(kind ='box')"
   ]
  },
  {
   "cell_type": "code",
   "execution_count": 40,
   "metadata": {},
   "outputs": [
    {
     "data": {
      "image/png": "[encoded data removed]",
      "text/plain": [
       "<Figure size 576x396 with 1 Axes>"
      ]
     },
     "metadata": {},
     "output_type": "display_data"
    }
   ],
   "source": [
    "# 导入绘图模块\n",
    "import matplotlib.pyplot as plt\n",
    "# 设置绘图风格\n",
    "plt.style.use('seaborn')\n",
    "# 绘制直方图\n",
    "sunspots.counts.plot(kind = 'hist', bins = 30, density = True)\n",
    "# 绘制核密度图\n",
    "sunspots.counts.plot(kind = 'kde')\n",
    "# 图形展现\n",
    "plt.show()"
   ]
  },
  {
   "cell_type": "code",
   "execution_count": 46,
   "metadata": {},
   "outputs": [
    {
     "name": "stdout",
     "output_type": "stream",
     "text": [
      "异常值替换前的数据统计特征：\n",
      " count    289.000000\n",
      "mean      48.613495\n",
      "std       39.474103\n",
      "min        0.000000\n",
      "25%       15.600000\n",
      "50%       39.000000\n",
      "75%       68.900000\n",
      "max      190.200000\n",
      "Name: counts, dtype: float64\n",
      "判别异常值的上限临界值：\n",
      " 148.85000000000002\n",
      "用以替换异常值的数据：\n",
      " 141.7\n",
      "异常值替换后的数据统计特征：\n",
      " count    289.000000\n",
      "mean      48.066090\n",
      "std       37.918895\n",
      "min        0.000000\n",
      "25%       15.600000\n",
      "50%       39.000000\n",
      "75%       68.900000\n",
      "max      141.700000\n",
      "Name: counts, dtype: float64\n"
     ]
    }
   ],
   "source": [
    "# 盖帽法处理异常值\n",
    "print('异常值替换前的数据统计特征：\\n',sunspots.counts.describe())\n",
    "# 箱线图中的异常值判别上限\n",
    "UL = Q3 + 1.5 * IQR\n",
    "print('判别异常值的上限临界值：\\n',UL)\n",
    "# 从数据中找出低于判别上限的最大值\n",
    "replace_value = sunspots.counts[sunspots.counts < UL].max()\n",
    "print('用以替换异常值的数据：\\n',replace_value)\n",
    "# 替换超过判别上限异常值\n",
    "sunspots.loc[sunspots.counts > UL, 'counts']= replace_value\n",
    "print('异常值替换后的数据统计特征：\\n',sunspots.counts.describe())"
   ]
  },
  {
   "cell_type": "code",
   "execution_count": 41,
   "metadata": {},
   "outputs": [],
   "source": []
  },
  {
   "cell_type": "code",
   "execution_count": 42,
   "metadata": {},
   "outputs": [],
   "source": [
    "# 用99分位数和1分位数替换\n",
    "#计算P1和P99\n",
    "P1 = sunspots['counts'].quantile(0.01); P99 = sunspots['counts'].quantile(0.99)"
   ]
  },
  {
   "cell_type": "code",
   "execution_count": 43,
   "metadata": {},
   "outputs": [],
   "source": [
    "#先创建一个新变量，进行赋值，然后将满足条件的数据进行替换\n",
    "sunspots['counts_new'] = sunspots['counts']\n",
    "sunspots.loc[sunspots['counts'] >P99,'counts_new']  = P99\n",
    "sunspots.loc[sunspots['counts'] <P1,'counts_new']  = P1"
   ]
  },
  {
   "cell_type": "code",
   "execution_count": 44,
   "metadata": {},
   "outputs": [
    {
     "data": {
      "text/html": [
       "<div>\n",
       "<style scoped>\n",
       "    .dataframe tbody tr th:only-of-type {\n",
       "        vertical-align: middle;\n",
       "    }\n",
       "\n",
       "    .dataframe tbody tr th {\n",
       "        vertical-align: top;\n",
       "    }\n",
       "\n",
       "    .dataframe thead th {\n",
       "        text-align: right;\n",
       "    }\n",
       "</style>\n",
       "<table border=\"1\" class=\"dataframe\">\n",
       "  <thead>\n",
       "    <tr style=\"text-align: right;\">\n",
       "      <th></th>\n",
       "      <th>counts</th>\n",
       "      <th>counts_new</th>\n",
       "    </tr>\n",
       "  </thead>\n",
       "  <tbody>\n",
       "    <tr>\n",
       "      <th>0</th>\n",
       "      <td>5.0</td>\n",
       "      <td>5.000</td>\n",
       "    </tr>\n",
       "    <tr>\n",
       "      <th>1</th>\n",
       "      <td>11.0</td>\n",
       "      <td>11.000</td>\n",
       "    </tr>\n",
       "    <tr>\n",
       "      <th>2</th>\n",
       "      <td>16.0</td>\n",
       "      <td>16.000</td>\n",
       "    </tr>\n",
       "    <tr>\n",
       "      <th>3</th>\n",
       "      <td>23.0</td>\n",
       "      <td>23.000</td>\n",
       "    </tr>\n",
       "    <tr>\n",
       "      <th>4</th>\n",
       "      <td>36.0</td>\n",
       "      <td>36.000</td>\n",
       "    </tr>\n",
       "    <tr>\n",
       "      <th>5</th>\n",
       "      <td>58.0</td>\n",
       "      <td>58.000</td>\n",
       "    </tr>\n",
       "    <tr>\n",
       "      <th>6</th>\n",
       "      <td>29.0</td>\n",
       "      <td>29.000</td>\n",
       "    </tr>\n",
       "    <tr>\n",
       "      <th>7</th>\n",
       "      <td>20.0</td>\n",
       "      <td>20.000</td>\n",
       "    </tr>\n",
       "    <tr>\n",
       "      <th>8</th>\n",
       "      <td>10.0</td>\n",
       "      <td>10.000</td>\n",
       "    </tr>\n",
       "    <tr>\n",
       "      <th>9</th>\n",
       "      <td>8.0</td>\n",
       "      <td>8.000</td>\n",
       "    </tr>\n",
       "    <tr>\n",
       "      <th>10</th>\n",
       "      <td>3.0</td>\n",
       "      <td>3.000</td>\n",
       "    </tr>\n",
       "    <tr>\n",
       "      <th>11</th>\n",
       "      <td>0.0</td>\n",
       "      <td>1.232</td>\n",
       "    </tr>\n",
       "    <tr>\n",
       "      <th>12</th>\n",
       "      <td>0.0</td>\n",
       "      <td>1.232</td>\n",
       "    </tr>\n",
       "    <tr>\n",
       "      <th>13</th>\n",
       "      <td>2.0</td>\n",
       "      <td>2.000</td>\n",
       "    </tr>\n",
       "    <tr>\n",
       "      <th>14</th>\n",
       "      <td>11.0</td>\n",
       "      <td>11.000</td>\n",
       "    </tr>\n",
       "    <tr>\n",
       "      <th>15</th>\n",
       "      <td>27.0</td>\n",
       "      <td>27.000</td>\n",
       "    </tr>\n",
       "    <tr>\n",
       "      <th>16</th>\n",
       "      <td>47.0</td>\n",
       "      <td>47.000</td>\n",
       "    </tr>\n",
       "    <tr>\n",
       "      <th>17</th>\n",
       "      <td>63.0</td>\n",
       "      <td>63.000</td>\n",
       "    </tr>\n",
       "    <tr>\n",
       "      <th>18</th>\n",
       "      <td>60.0</td>\n",
       "      <td>60.000</td>\n",
       "    </tr>\n",
       "    <tr>\n",
       "      <th>19</th>\n",
       "      <td>39.0</td>\n",
       "      <td>39.000</td>\n",
       "    </tr>\n",
       "    <tr>\n",
       "      <th>20</th>\n",
       "      <td>28.0</td>\n",
       "      <td>28.000</td>\n",
       "    </tr>\n",
       "    <tr>\n",
       "      <th>21</th>\n",
       "      <td>26.0</td>\n",
       "      <td>26.000</td>\n",
       "    </tr>\n",
       "    <tr>\n",
       "      <th>22</th>\n",
       "      <td>22.0</td>\n",
       "      <td>22.000</td>\n",
       "    </tr>\n",
       "    <tr>\n",
       "      <th>23</th>\n",
       "      <td>11.0</td>\n",
       "      <td>11.000</td>\n",
       "    </tr>\n",
       "    <tr>\n",
       "      <th>24</th>\n",
       "      <td>21.0</td>\n",
       "      <td>21.000</td>\n",
       "    </tr>\n",
       "    <tr>\n",
       "      <th>25</th>\n",
       "      <td>40.0</td>\n",
       "      <td>40.000</td>\n",
       "    </tr>\n",
       "    <tr>\n",
       "      <th>26</th>\n",
       "      <td>78.0</td>\n",
       "      <td>78.000</td>\n",
       "    </tr>\n",
       "    <tr>\n",
       "      <th>27</th>\n",
       "      <td>122.0</td>\n",
       "      <td>122.000</td>\n",
       "    </tr>\n",
       "    <tr>\n",
       "      <th>28</th>\n",
       "      <td>103.0</td>\n",
       "      <td>103.000</td>\n",
       "    </tr>\n",
       "    <tr>\n",
       "      <th>29</th>\n",
       "      <td>73.0</td>\n",
       "      <td>73.000</td>\n",
       "    </tr>\n",
       "    <tr>\n",
       "      <th>...</th>\n",
       "      <td>...</td>\n",
       "      <td>...</td>\n",
       "    </tr>\n",
       "    <tr>\n",
       "      <th>259</th>\n",
       "      <td>159.0</td>\n",
       "      <td>155.832</td>\n",
       "    </tr>\n",
       "    <tr>\n",
       "      <th>260</th>\n",
       "      <td>112.3</td>\n",
       "      <td>112.300</td>\n",
       "    </tr>\n",
       "    <tr>\n",
       "      <th>261</th>\n",
       "      <td>53.9</td>\n",
       "      <td>53.900</td>\n",
       "    </tr>\n",
       "    <tr>\n",
       "      <th>262</th>\n",
       "      <td>37.5</td>\n",
       "      <td>37.500</td>\n",
       "    </tr>\n",
       "    <tr>\n",
       "      <th>263</th>\n",
       "      <td>27.9</td>\n",
       "      <td>27.900</td>\n",
       "    </tr>\n",
       "    <tr>\n",
       "      <th>264</th>\n",
       "      <td>10.2</td>\n",
       "      <td>10.200</td>\n",
       "    </tr>\n",
       "    <tr>\n",
       "      <th>265</th>\n",
       "      <td>15.1</td>\n",
       "      <td>15.100</td>\n",
       "    </tr>\n",
       "    <tr>\n",
       "      <th>266</th>\n",
       "      <td>47.0</td>\n",
       "      <td>47.000</td>\n",
       "    </tr>\n",
       "    <tr>\n",
       "      <th>267</th>\n",
       "      <td>93.8</td>\n",
       "      <td>93.800</td>\n",
       "    </tr>\n",
       "    <tr>\n",
       "      <th>268</th>\n",
       "      <td>105.9</td>\n",
       "      <td>105.900</td>\n",
       "    </tr>\n",
       "    <tr>\n",
       "      <th>269</th>\n",
       "      <td>105.5</td>\n",
       "      <td>105.500</td>\n",
       "    </tr>\n",
       "    <tr>\n",
       "      <th>270</th>\n",
       "      <td>104.5</td>\n",
       "      <td>104.500</td>\n",
       "    </tr>\n",
       "    <tr>\n",
       "      <th>271</th>\n",
       "      <td>66.6</td>\n",
       "      <td>66.600</td>\n",
       "    </tr>\n",
       "    <tr>\n",
       "      <th>272</th>\n",
       "      <td>68.9</td>\n",
       "      <td>68.900</td>\n",
       "    </tr>\n",
       "    <tr>\n",
       "      <th>273</th>\n",
       "      <td>38.0</td>\n",
       "      <td>38.000</td>\n",
       "    </tr>\n",
       "    <tr>\n",
       "      <th>274</th>\n",
       "      <td>34.5</td>\n",
       "      <td>34.500</td>\n",
       "    </tr>\n",
       "    <tr>\n",
       "      <th>275</th>\n",
       "      <td>15.5</td>\n",
       "      <td>15.500</td>\n",
       "    </tr>\n",
       "    <tr>\n",
       "      <th>276</th>\n",
       "      <td>12.6</td>\n",
       "      <td>12.600</td>\n",
       "    </tr>\n",
       "    <tr>\n",
       "      <th>277</th>\n",
       "      <td>27.5</td>\n",
       "      <td>27.500</td>\n",
       "    </tr>\n",
       "    <tr>\n",
       "      <th>278</th>\n",
       "      <td>92.5</td>\n",
       "      <td>92.500</td>\n",
       "    </tr>\n",
       "    <tr>\n",
       "      <th>279</th>\n",
       "      <td>155.4</td>\n",
       "      <td>155.400</td>\n",
       "    </tr>\n",
       "    <tr>\n",
       "      <th>280</th>\n",
       "      <td>154.7</td>\n",
       "      <td>154.700</td>\n",
       "    </tr>\n",
       "    <tr>\n",
       "      <th>281</th>\n",
       "      <td>140.5</td>\n",
       "      <td>140.500</td>\n",
       "    </tr>\n",
       "    <tr>\n",
       "      <th>282</th>\n",
       "      <td>115.9</td>\n",
       "      <td>115.900</td>\n",
       "    </tr>\n",
       "    <tr>\n",
       "      <th>283</th>\n",
       "      <td>66.6</td>\n",
       "      <td>66.600</td>\n",
       "    </tr>\n",
       "    <tr>\n",
       "      <th>284</th>\n",
       "      <td>45.9</td>\n",
       "      <td>45.900</td>\n",
       "    </tr>\n",
       "    <tr>\n",
       "      <th>285</th>\n",
       "      <td>17.9</td>\n",
       "      <td>17.900</td>\n",
       "    </tr>\n",
       "    <tr>\n",
       "      <th>286</th>\n",
       "      <td>13.4</td>\n",
       "      <td>13.400</td>\n",
       "    </tr>\n",
       "    <tr>\n",
       "      <th>287</th>\n",
       "      <td>29.2</td>\n",
       "      <td>29.200</td>\n",
       "    </tr>\n",
       "    <tr>\n",
       "      <th>288</th>\n",
       "      <td>100.2</td>\n",
       "      <td>100.200</td>\n",
       "    </tr>\n",
       "  </tbody>\n",
       "</table>\n",
       "<p>289 rows × 2 columns</p>\n",
       "</div>"
      ],
      "text/plain": [
       "     counts  counts_new\n",
       "0       5.0       5.000\n",
       "1      11.0      11.000\n",
       "2      16.0      16.000\n",
       "3      23.0      23.000\n",
       "4      36.0      36.000\n",
       "5      58.0      58.000\n",
       "6      29.0      29.000\n",
       "7      20.0      20.000\n",
       "8      10.0      10.000\n",
       "9       8.0       8.000\n",
       "10      3.0       3.000\n",
       "11      0.0       1.232\n",
       "12      0.0       1.232\n",
       "13      2.0       2.000\n",
       "14     11.0      11.000\n",
       "15     27.0      27.000\n",
       "16     47.0      47.000\n",
       "17     63.0      63.000\n",
       "18     60.0      60.000\n",
       "19     39.0      39.000\n",
       "20     28.0      28.000\n",
       "21     26.0      26.000\n",
       "22     22.0      22.000\n",
       "23     11.0      11.000\n",
       "24     21.0      21.000\n",
       "25     40.0      40.000\n",
       "26     78.0      78.000\n",
       "27    122.0     122.000\n",
       "28    103.0     103.000\n",
       "29     73.0      73.000\n",
       "..      ...         ...\n",
       "259   159.0     155.832\n",
       "260   112.3     112.300\n",
       "261    53.9      53.900\n",
       "262    37.5      37.500\n",
       "263    27.9      27.900\n",
       "264    10.2      10.200\n",
       "265    15.1      15.100\n",
       "266    47.0      47.000\n",
       "267    93.8      93.800\n",
       "268   105.9     105.900\n",
       "269   105.5     105.500\n",
       "270   104.5     104.500\n",
       "271    66.6      66.600\n",
       "272    68.9      68.900\n",
       "273    38.0      38.000\n",
       "274    34.5      34.500\n",
       "275    15.5      15.500\n",
       "276    12.6      12.600\n",
       "277    27.5      27.500\n",
       "278    92.5      92.500\n",
       "279   155.4     155.400\n",
       "280   154.7     154.700\n",
       "281   140.5     140.500\n",
       "282   115.9     115.900\n",
       "283    66.6      66.600\n",
       "284    45.9      45.900\n",
       "285    17.9      17.900\n",
       "286    13.4      13.400\n",
       "287    29.2      29.200\n",
       "288   100.2     100.200\n",
       "\n",
       "[289 rows x 2 columns]"
      ]
     },
     "execution_count": 44,
     "metadata": {},
     "output_type": "execute_result"
    }
   ],
   "source": [
    "sunspots[['counts','counts_new']]"
   ]
  },
  {
   "cell_type": "code",
   "execution_count": 45,
   "metadata": {},
   "outputs": [
    {
     "data": {
      "text/plain": [
       "count    289.000000\n",
       "mean      48.396166\n",
       "std       38.734462\n",
       "min        1.232000\n",
       "25%       15.600000\n",
       "50%       39.000000\n",
       "75%       68.900000\n",
       "max      155.832000\n",
       "Name: counts_new, dtype: float64"
      ]
     },
     "execution_count": 45,
     "metadata": {},
     "output_type": "execute_result"
    }
   ],
   "source": [
    "sunspots.counts_new.describe()"
   ]
  },
  {
   "cell_type": "markdown",
   "metadata": {},
   "source": [
    "### 数据离散化"
   ]
  },
  {
   "cell_type": "markdown",
   "metadata": {},
   "source": [
    "* pandas.cut(x, bins, right=True, labels=None, retbins=False, precision=3, include_lowest=False)\n",
    "\n",
    "* 参数：\n",
    "* x，类array对象，且必须为一维，待切割的原形式\n",
    "* bins, 整数、序列尺度、或间隔索引。如果bins是一个整数，它定义了x宽度范围内的等宽面元数量，但是在这种情况下，x的范围在每个边上被延长1%，以保证包括x的最小值或最大值。如果bin是序列，它定义了允许非均匀bin宽度的bin边缘。在这种情况下没有x的范围的扩展。\n",
    "* right,布尔值。是否是左开右闭区间\n",
    "* labels,用作结果箱的标签。必须与结果箱相同长度。如果FALSE，只返回整数指标面元。\n",
    "* retbins,布尔值。是否返回面元\n",
    "* precision，整数。返回面元的小数点几位\n",
    "* include_lowest，布尔值。第一个区间的左端点是否包含"
   ]
  },
  {
   "cell_type": "code",
   "execution_count": 47,
   "metadata": {},
   "outputs": [
    {
     "data": {
      "text/plain": [
       "<matplotlib.axes._subplots.AxesSubplot at 0xafcab00>"
      ]
     },
     "execution_count": 47,
     "metadata": {},
     "output_type": "execute_result"
    },
    {
     "data": {
      "image/png": "[encoded data removed]",
      "text/plain": [
       "<Figure size 576x396 with 1 Axes>"
      ]
     },
     "metadata": {},
     "output_type": "display_data"
    }
   ],
   "source": [
    "sunspots['counts_bin'] = pd.cut(sunspots['counts'],4,labels=range(4))\n",
    "sunspots['counts_bin'].hist()"
   ]
  },
  {
   "cell_type": "markdown",
   "metadata": {},
   "source": [
    "* 使用等频法"
   ]
  },
  {
   "cell_type": "markdown",
   "metadata": {},
   "source": [
    "* pandas.qcut(x, q, labels=None, retbins=False, precision=3, duplicates=’raise’)\n",
    "* 参数：\n",
    "* x \n",
    "* q,整数或分位数组成的数组。\n",
    "* q, 整数 或分位数数组      整数比如  4  代表 按照4分位数 进行切割  \n",
    "* labels, 用作结果箱的标签。必须与结果箱相同长度。如果FALSE，只返回整数指标面元。"
   ]
  },
  {
   "cell_type": "markdown",
   "metadata": {},
   "source": [
    "* 原理都是基于分位数来进行离散化"
   ]
  },
  {
   "cell_type": "code",
   "execution_count": 48,
   "metadata": {},
   "outputs": [],
   "source": [
    "k = 4\n",
    "w = [1.0*i/k for i in range(k+1)] "
   ]
  },
  {
   "cell_type": "code",
   "execution_count": 49,
   "metadata": {},
   "outputs": [],
   "source": [
    "sunspots['counts_bin'] = pd.qcut(sunspots['counts'],w,labels=range(k))"
   ]
  },
  {
   "cell_type": "code",
   "execution_count": 50,
   "metadata": {},
   "outputs": [
    {
     "data": {
      "text/plain": [
       "<matplotlib.axes._subplots.AxesSubplot at 0xb02b160>"
      ]
     },
     "execution_count": 50,
     "metadata": {},
     "output_type": "execute_result"
    },
    {
     "data": {
      "image/png": "[encoded data removed]",
      "text/plain": [
       "<Figure size 576x396 with 1 Axes>"
      ]
     },
     "metadata": {},
     "output_type": "display_data"
    }
   ],
   "source": [
    "sunspots['counts_bin'].hist()"
   ]
  },
  {
   "cell_type": "markdown",
   "metadata": {},
   "source": [
    "* 或者先计算分位数的值"
   ]
  },
  {
   "cell_type": "code",
   "execution_count": 51,
   "metadata": {},
   "outputs": [],
   "source": [
    "k = 4\n",
    "w1 = sunspots['counts'].quantile([1.0*i/k for i in range(k+1)])#先计算分位数,在进行分段"
   ]
  },
  {
   "cell_type": "code",
   "execution_count": 52,
   "metadata": {},
   "outputs": [
    {
     "data": {
      "text/plain": [
       "<matplotlib.axes._subplots.AxesSubplot at 0xb09ec18>"
      ]
     },
     "execution_count": 52,
     "metadata": {},
     "output_type": "execute_result"
    },
    {
     "data": {
      "image/png": "[encoded data removed]",
      "text/plain": [
       "<Figure size 576x396 with 1 Axes>"
      ]
     },
     "metadata": {},
     "output_type": "display_data"
    }
   ],
   "source": [
    "sunspots['counts_bin'] = pd.cut(sunspots['counts'],w1,labels=range(k))\n",
    "sunspots['counts_bin'].hist()"
   ]
  },
  {
   "cell_type": "code",
   "execution_count": 53,
   "metadata": {},
   "outputs": [],
   "source": [
    "# 使用等频法,先计算分位数的值\n",
    "k= 4\n",
    "w = [1.0*i/k for i in range(k+1)]\n",
    "w = sunspots['counts'].describe(percentiles=w)[4:4+k+1]"
   ]
  },
  {
   "cell_type": "code",
   "execution_count": 54,
   "metadata": {},
   "outputs": [],
   "source": [
    "sunspots['counts_bin'] = pd.cut(sunspots['counts'],w,labels=range(k))"
   ]
  },
  {
   "cell_type": "code",
   "execution_count": 55,
   "metadata": {},
   "outputs": [
    {
     "data": {
      "text/plain": [
       "<matplotlib.axes._subplots.AxesSubplot at 0xaff3c18>"
      ]
     },
     "execution_count": 55,
     "metadata": {},
     "output_type": "execute_result"
    },
    {
     "data": {
      "image/png": "[encoded data removed]",
      "text/plain": [
       "<Figure size 576x396 with 1 Axes>"
      ]
     },
     "metadata": {},
     "output_type": "display_data"
    }
   ],
   "source": [
    "sunspots['counts_bin'].hist()"
   ]
  },
  {
   "cell_type": "code",
   "execution_count": null,
   "metadata": {},
   "outputs": [],
   "source": []
  }
 ],
 "metadata": {
  "kernelspec": {
   "display_name": "Python 3",
   "language": "python",
   "name": "python3"
  },
  "language_info": {
   "codemirror_mode": {
    "name": "ipython",
    "version": 3
   },
   "file_extension": ".py",
   "mimetype": "text/x-python",
   "name": "python",
   "nbconvert_exporter": "python",
   "pygments_lexer": "ipython3",
   "version": "3.7.1"
  }
 },
 "nbformat": 4,
 "nbformat_minor": 2
}
