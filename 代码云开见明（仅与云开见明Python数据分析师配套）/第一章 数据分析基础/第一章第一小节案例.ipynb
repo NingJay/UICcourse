{
 "cells": [
  {
   "cell_type": "code",
   "execution_count": null,
   "metadata": {},
   "outputs": [],
   "source": [
    "# 导入相关库\n",
    "%matplotlib inline\n",
    "import matplotlib.pyplot as plt\n",
    "# seaborn 是Python的绘图库，确保图形美观\n",
    "import seaborn as sns\n",
    "# 将绘图风格设置成seaborn风格\n",
    "sns.set()\n",
    "#确保中文正常显示\n",
    "plt.rcParams['font.sans-serif'] = ['SimHei'] \n",
    "plt.rcParams['axes.unicode_minus'] = False "
   ]
  },
  {
   "cell_type": "code",
   "execution_count": null,
   "metadata": {},
   "outputs": [],
   "source": [
    "import os \n",
    "os.chdir(r'E:\\CDA课程新大纲和内容\\学生用\\Python数据清洗\\数据')"
   ]
  },
  {
   "cell_type": "code",
   "execution_count": null,
   "metadata": {},
   "outputs": [],
   "source": [
    "# 读取数据\n",
    "# 以电商数据为例\n",
    "df = pd.read_csv('taobao_data.csv')\n",
    "df.head(5)"
   ]
  },
  {
   "cell_type": "code",
   "execution_count": null,
   "metadata": {},
   "outputs": [],
   "source": [
    "# 按照位置进行汇总，统计价格和成交量的均值,按照成交量进行降序排序\n",
    "df_mean = df[['价格','成交量','位置']].groupby('位置').mean().sort_values('成交量',ascending=False)\n",
    "df_mean"
   ]
  },
  {
   "cell_type": "markdown",
   "metadata": {},
   "source": [
    "df.plot(kind, color,title)\n",
    "* kind: 种类\n",
    "* color: 颜色\n",
    "* title: 标题"
   ]
  },
  {
   "cell_type": "code",
   "execution_count": null,
   "metadata": {},
   "outputs": [],
   "source": [
    "# 绘制各省平均价格各省平均成交量柱状图\n",
    "fig,(ax1,ax2) = plt.subplots(1,2,figsize=(12,4)) #设定画布,名叫fig,将这个画布分成两个小画布，分别命名为ax1和ax2\n",
    "df_mean.价格.plot(kind='barh',ax=ax1) #表示这张图画在ax1画布上\n",
    "ax1.set_xlabel('各省份平均价格') #设定x轴标签\n",
    "df_mean.成交量.plot(kind='barh',ax=ax2) #表示这张图画在ax2画布上\n",
    "ax2.set_xlabel('各省份平均成交量') #设定x轴标签\n",
    "fig.tight_layout() #自动调整格式\n",
    "plt.show()"
   ]
  },
  {
   "cell_type": "code",
   "execution_count": null,
   "metadata": {},
   "outputs": [],
   "source": [
    "# 绘制柱状图\n",
    "df_mean['成交量'].plot(kind='bar',rot=45)"
   ]
  },
  {
   "cell_type": "code",
   "execution_count": null,
   "metadata": {},
   "outputs": [],
   "source": [
    "# 绘制饼图\n",
    "plt.axes(aspect='equal')#确保是正圆\n",
    "df_mean['成交量'].plot(kind='pie',autopct='%.2f%%')"
   ]
  },
  {
   "cell_type": "code",
   "execution_count": null,
   "metadata": {},
   "outputs": [],
   "source": [
    "# 绘制箱线图\n",
    "df_mean['成交量'].plot(kind='box')"
   ]
  },
  {
   "cell_type": "code",
   "execution_count": null,
   "metadata": {},
   "outputs": [],
   "source": [
    "df_mean['成交量'].describe()"
   ]
  },
  {
   "cell_type": "code",
   "execution_count": null,
   "metadata": {},
   "outputs": [],
   "source": [
    "#绘制散点图\n",
    "df.plot(x='价格',y='成交量',kind='scatter',c= 'steelblue') # c代表颜色\n",
    "#df.plot.scatter(x='价格',y='成交量',c= 'steelblue)"
   ]
  },
  {
   "cell_type": "code",
   "execution_count": null,
   "metadata": {},
   "outputs": [],
   "source": [
    "# 绘制分布图\n",
    "df.成交量.plot(kind='hist',color= 'steelblue',bins=30) # c代表颜色"
   ]
  },
  {
   "cell_type": "code",
   "execution_count": null,
   "metadata": {},
   "outputs": [],
   "source": [
    "# 绘制分布图\n",
    "df.价格.plot(kind='hist',color= 'green',bins=30) # c代表颜色"
   ]
  },
  {
   "cell_type": "code",
   "execution_count": null,
   "metadata": {},
   "outputs": [],
   "source": []
  },
  {
   "cell_type": "code",
   "execution_count": null,
   "metadata": {},
   "outputs": [],
   "source": []
  },
  {
   "cell_type": "code",
   "execution_count": null,
   "metadata": {},
   "outputs": [],
   "source": []
  }
 ],
 "metadata": {
  "kernelspec": {
   "display_name": "Python 3",
   "language": "python",
   "name": "python3"
  },
  "language_info": {
   "codemirror_mode": {
    "name": "ipython",
    "version": 3
   },
   "file_extension": ".py",
   "mimetype": "text/x-python",
   "name": "python",
   "nbconvert_exporter": "python",
   "pygments_lexer": "ipython3",
   "version": "3.7.1"
  }
 },
 "nbformat": 4,
 "nbformat_minor": 2
}
